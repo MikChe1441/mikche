{
 "cells": [
  {
   "cell_type": "code",
   "execution_count": 1,
   "metadata": {},
   "outputs": [],
   "source": [
    "import pandas as pd \n",
    "import seaborn as sns \n",
    "import matplotlib.pyplot as plt \n",
    "import numpy as np\n",
    "import scipy.stats as st"
   ]
  },
  {
   "cell_type": "markdown",
   "metadata": {},
   "source": [
    "Проект анализа данных магазина «Стримчик» Из открытых источников доступны исторические данные о продажах игр, оценки пользователей и экспертов, жанры и платформы (например, Xbox или PlayStation). Вам нужно выявить определяющие успешность игры закономерности. Это позволит сделать ставку на потенциально популярный продукт и спланировать рекламные кампании."
   ]
  },
  {
   "cell_type": "code",
   "execution_count": 2,
   "metadata": {},
   "outputs": [],
   "source": [
    "df = pd.read_csv('/datasets/games.csv')\n"
   ]
  },
  {
   "cell_type": "code",
   "execution_count": 3,
   "metadata": {},
   "outputs": [
    {
     "data": {
      "text/html": [
       "<div>\n",
       "<style scoped>\n",
       "    .dataframe tbody tr th:only-of-type {\n",
       "        vertical-align: middle;\n",
       "    }\n",
       "\n",
       "    .dataframe tbody tr th {\n",
       "        vertical-align: top;\n",
       "    }\n",
       "\n",
       "    .dataframe thead th {\n",
       "        text-align: right;\n",
       "    }\n",
       "</style>\n",
       "<table border=\"1\" class=\"dataframe\">\n",
       "  <thead>\n",
       "    <tr style=\"text-align: right;\">\n",
       "      <th></th>\n",
       "      <th>Name</th>\n",
       "      <th>Platform</th>\n",
       "      <th>Year_of_Release</th>\n",
       "      <th>Genre</th>\n",
       "      <th>NA_sales</th>\n",
       "      <th>EU_sales</th>\n",
       "      <th>JP_sales</th>\n",
       "      <th>Other_sales</th>\n",
       "      <th>Critic_Score</th>\n",
       "      <th>User_Score</th>\n",
       "      <th>Rating</th>\n",
       "    </tr>\n",
       "  </thead>\n",
       "  <tbody>\n",
       "    <tr>\n",
       "      <th>0</th>\n",
       "      <td>Wii Sports</td>\n",
       "      <td>Wii</td>\n",
       "      <td>2006.0</td>\n",
       "      <td>Sports</td>\n",
       "      <td>41.36</td>\n",
       "      <td>28.96</td>\n",
       "      <td>3.77</td>\n",
       "      <td>8.45</td>\n",
       "      <td>76.0</td>\n",
       "      <td>8</td>\n",
       "      <td>E</td>\n",
       "    </tr>\n",
       "    <tr>\n",
       "      <th>1</th>\n",
       "      <td>Super Mario Bros.</td>\n",
       "      <td>NES</td>\n",
       "      <td>1985.0</td>\n",
       "      <td>Platform</td>\n",
       "      <td>29.08</td>\n",
       "      <td>3.58</td>\n",
       "      <td>6.81</td>\n",
       "      <td>0.77</td>\n",
       "      <td>NaN</td>\n",
       "      <td>NaN</td>\n",
       "      <td>NaN</td>\n",
       "    </tr>\n",
       "    <tr>\n",
       "      <th>2</th>\n",
       "      <td>Mario Kart Wii</td>\n",
       "      <td>Wii</td>\n",
       "      <td>2008.0</td>\n",
       "      <td>Racing</td>\n",
       "      <td>15.68</td>\n",
       "      <td>12.76</td>\n",
       "      <td>3.79</td>\n",
       "      <td>3.29</td>\n",
       "      <td>82.0</td>\n",
       "      <td>8.3</td>\n",
       "      <td>E</td>\n",
       "    </tr>\n",
       "    <tr>\n",
       "      <th>3</th>\n",
       "      <td>Wii Sports Resort</td>\n",
       "      <td>Wii</td>\n",
       "      <td>2009.0</td>\n",
       "      <td>Sports</td>\n",
       "      <td>15.61</td>\n",
       "      <td>10.93</td>\n",
       "      <td>3.28</td>\n",
       "      <td>2.95</td>\n",
       "      <td>80.0</td>\n",
       "      <td>8</td>\n",
       "      <td>E</td>\n",
       "    </tr>\n",
       "    <tr>\n",
       "      <th>4</th>\n",
       "      <td>Pokemon Red/Pokemon Blue</td>\n",
       "      <td>GB</td>\n",
       "      <td>1996.0</td>\n",
       "      <td>Role-Playing</td>\n",
       "      <td>11.27</td>\n",
       "      <td>8.89</td>\n",
       "      <td>10.22</td>\n",
       "      <td>1.00</td>\n",
       "      <td>NaN</td>\n",
       "      <td>NaN</td>\n",
       "      <td>NaN</td>\n",
       "    </tr>\n",
       "  </tbody>\n",
       "</table>\n",
       "</div>"
      ],
      "text/plain": [
       "                       Name Platform  Year_of_Release         Genre  NA_sales  \\\n",
       "0                Wii Sports      Wii           2006.0        Sports     41.36   \n",
       "1         Super Mario Bros.      NES           1985.0      Platform     29.08   \n",
       "2            Mario Kart Wii      Wii           2008.0        Racing     15.68   \n",
       "3         Wii Sports Resort      Wii           2009.0        Sports     15.61   \n",
       "4  Pokemon Red/Pokemon Blue       GB           1996.0  Role-Playing     11.27   \n",
       "\n",
       "   EU_sales  JP_sales  Other_sales  Critic_Score User_Score Rating  \n",
       "0     28.96      3.77         8.45          76.0          8      E  \n",
       "1      3.58      6.81         0.77           NaN        NaN    NaN  \n",
       "2     12.76      3.79         3.29          82.0        8.3      E  \n",
       "3     10.93      3.28         2.95          80.0          8      E  \n",
       "4      8.89     10.22         1.00           NaN        NaN    NaN  "
      ]
     },
     "execution_count": 3,
     "metadata": {},
     "output_type": "execute_result"
    }
   ],
   "source": [
    "df.head()"
   ]
  },
  {
   "cell_type": "markdown",
   "metadata": {},
   "source": [
    "#### предобработка данных \n",
    "- Замените названия столбцов (приведите к нижнему регистру)\n",
    "- Преобразуйте данные в нужные типы. Опишите, в каких столбцах заменили тип данных и почему; \n",
    "- Обработайте пропуски при необходимости: \n",
    "Объясните, почему заполнили пропуски определённым образом или почему не стали это делать;\n",
    "Опишите причины, которые могли привести к пропускам;\n",
    "- Обратите внимание на аббревиатуру 'tbd' в столбце с оценкой пользователей. Отдельно разберите это значение и опишите, как его обработать;\n",
    "- Посчитайте суммарные продажи во всех регионах и запишите их в отдельный столбец."
   ]
  },
  {
   "cell_type": "code",
   "execution_count": 4,
   "metadata": {},
   "outputs": [],
   "source": [
    "df.columns = df.columns.str.lower()"
   ]
  },
  {
   "cell_type": "code",
   "execution_count": 5,
   "metadata": {},
   "outputs": [
    {
     "name": "stdout",
     "output_type": "stream",
     "text": [
      "<class 'pandas.core.frame.DataFrame'>\n",
      "RangeIndex: 16715 entries, 0 to 16714\n",
      "Data columns (total 11 columns):\n",
      " #   Column           Non-Null Count  Dtype  \n",
      "---  ------           --------------  -----  \n",
      " 0   name             16713 non-null  object \n",
      " 1   platform         16715 non-null  object \n",
      " 2   year_of_release  16446 non-null  float64\n",
      " 3   genre            16713 non-null  object \n",
      " 4   na_sales         16715 non-null  float64\n",
      " 5   eu_sales         16715 non-null  float64\n",
      " 6   jp_sales         16715 non-null  float64\n",
      " 7   other_sales      16715 non-null  float64\n",
      " 8   critic_score     8137 non-null   float64\n",
      " 9   user_score       10014 non-null  object \n",
      " 10  rating           9949 non-null   object \n",
      "dtypes: float64(6), object(5)\n",
      "memory usage: 1.4+ MB\n"
     ]
    }
   ],
   "source": [
    "df.info()"
   ]
  },
  {
   "cell_type": "code",
   "execution_count": 6,
   "metadata": {},
   "outputs": [
    {
     "data": {
      "text/plain": [
       "False"
      ]
     },
     "execution_count": 6,
     "metadata": {},
     "output_type": "execute_result"
    }
   ],
   "source": [
    "df.duplicated().any()"
   ]
  },
  {
   "cell_type": "code",
   "execution_count": 7,
   "metadata": {},
   "outputs": [
    {
     "data": {
      "text/html": [
       "<div>\n",
       "<style scoped>\n",
       "    .dataframe tbody tr th:only-of-type {\n",
       "        vertical-align: middle;\n",
       "    }\n",
       "\n",
       "    .dataframe tbody tr th {\n",
       "        vertical-align: top;\n",
       "    }\n",
       "\n",
       "    .dataframe thead th {\n",
       "        text-align: right;\n",
       "    }\n",
       "</style>\n",
       "<table border=\"1\" class=\"dataframe\">\n",
       "  <thead>\n",
       "    <tr style=\"text-align: right;\">\n",
       "      <th></th>\n",
       "      <th>name</th>\n",
       "      <th>platform</th>\n",
       "      <th>year_of_release</th>\n",
       "      <th>genre</th>\n",
       "      <th>na_sales</th>\n",
       "      <th>eu_sales</th>\n",
       "      <th>jp_sales</th>\n",
       "      <th>other_sales</th>\n",
       "      <th>critic_score</th>\n",
       "      <th>user_score</th>\n",
       "      <th>rating</th>\n",
       "    </tr>\n",
       "  </thead>\n",
       "  <tbody>\n",
       "    <tr>\n",
       "      <th>119</th>\n",
       "      <td>Zumba Fitness</td>\n",
       "      <td>Wii</td>\n",
       "      <td>2010.0</td>\n",
       "      <td>Sports</td>\n",
       "      <td>3.45</td>\n",
       "      <td>2.59</td>\n",
       "      <td>0.0</td>\n",
       "      <td>0.66</td>\n",
       "      <td>NaN</td>\n",
       "      <td>tbd</td>\n",
       "      <td>E</td>\n",
       "    </tr>\n",
       "    <tr>\n",
       "      <th>301</th>\n",
       "      <td>Namco Museum: 50th Anniversary</td>\n",
       "      <td>PS2</td>\n",
       "      <td>2005.0</td>\n",
       "      <td>Misc</td>\n",
       "      <td>2.08</td>\n",
       "      <td>1.35</td>\n",
       "      <td>0.0</td>\n",
       "      <td>0.54</td>\n",
       "      <td>61.0</td>\n",
       "      <td>tbd</td>\n",
       "      <td>E10+</td>\n",
       "    </tr>\n",
       "    <tr>\n",
       "      <th>520</th>\n",
       "      <td>Zumba Fitness 2</td>\n",
       "      <td>Wii</td>\n",
       "      <td>2011.0</td>\n",
       "      <td>Sports</td>\n",
       "      <td>1.51</td>\n",
       "      <td>1.03</td>\n",
       "      <td>0.0</td>\n",
       "      <td>0.27</td>\n",
       "      <td>NaN</td>\n",
       "      <td>tbd</td>\n",
       "      <td>T</td>\n",
       "    </tr>\n",
       "    <tr>\n",
       "      <th>645</th>\n",
       "      <td>uDraw Studio</td>\n",
       "      <td>Wii</td>\n",
       "      <td>2010.0</td>\n",
       "      <td>Misc</td>\n",
       "      <td>1.65</td>\n",
       "      <td>0.57</td>\n",
       "      <td>0.0</td>\n",
       "      <td>0.20</td>\n",
       "      <td>71.0</td>\n",
       "      <td>tbd</td>\n",
       "      <td>E</td>\n",
       "    </tr>\n",
       "    <tr>\n",
       "      <th>657</th>\n",
       "      <td>Frogger's Adventures: Temple of the Frog</td>\n",
       "      <td>GBA</td>\n",
       "      <td>NaN</td>\n",
       "      <td>Adventure</td>\n",
       "      <td>2.15</td>\n",
       "      <td>0.18</td>\n",
       "      <td>0.0</td>\n",
       "      <td>0.07</td>\n",
       "      <td>73.0</td>\n",
       "      <td>tbd</td>\n",
       "      <td>E</td>\n",
       "    </tr>\n",
       "    <tr>\n",
       "      <th>...</th>\n",
       "      <td>...</td>\n",
       "      <td>...</td>\n",
       "      <td>...</td>\n",
       "      <td>...</td>\n",
       "      <td>...</td>\n",
       "      <td>...</td>\n",
       "      <td>...</td>\n",
       "      <td>...</td>\n",
       "      <td>...</td>\n",
       "      <td>...</td>\n",
       "      <td>...</td>\n",
       "    </tr>\n",
       "    <tr>\n",
       "      <th>16695</th>\n",
       "      <td>Planet Monsters</td>\n",
       "      <td>GBA</td>\n",
       "      <td>2001.0</td>\n",
       "      <td>Action</td>\n",
       "      <td>0.01</td>\n",
       "      <td>0.00</td>\n",
       "      <td>0.0</td>\n",
       "      <td>0.00</td>\n",
       "      <td>67.0</td>\n",
       "      <td>tbd</td>\n",
       "      <td>E</td>\n",
       "    </tr>\n",
       "    <tr>\n",
       "      <th>16697</th>\n",
       "      <td>Bust-A-Move 3000</td>\n",
       "      <td>GC</td>\n",
       "      <td>2003.0</td>\n",
       "      <td>Puzzle</td>\n",
       "      <td>0.01</td>\n",
       "      <td>0.00</td>\n",
       "      <td>0.0</td>\n",
       "      <td>0.00</td>\n",
       "      <td>53.0</td>\n",
       "      <td>tbd</td>\n",
       "      <td>E</td>\n",
       "    </tr>\n",
       "    <tr>\n",
       "      <th>16698</th>\n",
       "      <td>Mega Brain Boost</td>\n",
       "      <td>DS</td>\n",
       "      <td>2008.0</td>\n",
       "      <td>Puzzle</td>\n",
       "      <td>0.01</td>\n",
       "      <td>0.00</td>\n",
       "      <td>0.0</td>\n",
       "      <td>0.00</td>\n",
       "      <td>48.0</td>\n",
       "      <td>tbd</td>\n",
       "      <td>E</td>\n",
       "    </tr>\n",
       "    <tr>\n",
       "      <th>16704</th>\n",
       "      <td>Plushees</td>\n",
       "      <td>DS</td>\n",
       "      <td>2008.0</td>\n",
       "      <td>Simulation</td>\n",
       "      <td>0.01</td>\n",
       "      <td>0.00</td>\n",
       "      <td>0.0</td>\n",
       "      <td>0.00</td>\n",
       "      <td>NaN</td>\n",
       "      <td>tbd</td>\n",
       "      <td>E</td>\n",
       "    </tr>\n",
       "    <tr>\n",
       "      <th>16706</th>\n",
       "      <td>Men in Black II: Alien Escape</td>\n",
       "      <td>GC</td>\n",
       "      <td>2003.0</td>\n",
       "      <td>Shooter</td>\n",
       "      <td>0.01</td>\n",
       "      <td>0.00</td>\n",
       "      <td>0.0</td>\n",
       "      <td>0.00</td>\n",
       "      <td>NaN</td>\n",
       "      <td>tbd</td>\n",
       "      <td>T</td>\n",
       "    </tr>\n",
       "  </tbody>\n",
       "</table>\n",
       "<p>2424 rows × 11 columns</p>\n",
       "</div>"
      ],
      "text/plain": [
       "                                           name platform  year_of_release  \\\n",
       "119                               Zumba Fitness      Wii           2010.0   \n",
       "301              Namco Museum: 50th Anniversary      PS2           2005.0   \n",
       "520                             Zumba Fitness 2      Wii           2011.0   \n",
       "645                                uDraw Studio      Wii           2010.0   \n",
       "657    Frogger's Adventures: Temple of the Frog      GBA              NaN   \n",
       "...                                         ...      ...              ...   \n",
       "16695                           Planet Monsters      GBA           2001.0   \n",
       "16697                          Bust-A-Move 3000       GC           2003.0   \n",
       "16698                          Mega Brain Boost       DS           2008.0   \n",
       "16704                                  Plushees       DS           2008.0   \n",
       "16706             Men in Black II: Alien Escape       GC           2003.0   \n",
       "\n",
       "            genre  na_sales  eu_sales  jp_sales  other_sales  critic_score  \\\n",
       "119        Sports      3.45      2.59       0.0         0.66           NaN   \n",
       "301          Misc      2.08      1.35       0.0         0.54          61.0   \n",
       "520        Sports      1.51      1.03       0.0         0.27           NaN   \n",
       "645          Misc      1.65      0.57       0.0         0.20          71.0   \n",
       "657     Adventure      2.15      0.18       0.0         0.07          73.0   \n",
       "...           ...       ...       ...       ...          ...           ...   \n",
       "16695      Action      0.01      0.00       0.0         0.00          67.0   \n",
       "16697      Puzzle      0.01      0.00       0.0         0.00          53.0   \n",
       "16698      Puzzle      0.01      0.00       0.0         0.00          48.0   \n",
       "16704  Simulation      0.01      0.00       0.0         0.00           NaN   \n",
       "16706     Shooter      0.01      0.00       0.0         0.00           NaN   \n",
       "\n",
       "      user_score rating  \n",
       "119          tbd      E  \n",
       "301          tbd   E10+  \n",
       "520          tbd      T  \n",
       "645          tbd      E  \n",
       "657          tbd      E  \n",
       "...          ...    ...  \n",
       "16695        tbd      E  \n",
       "16697        tbd      E  \n",
       "16698        tbd      E  \n",
       "16704        tbd      E  \n",
       "16706        tbd      T  \n",
       "\n",
       "[2424 rows x 11 columns]"
      ]
     },
     "execution_count": 7,
     "metadata": {},
     "output_type": "execute_result"
    }
   ],
   "source": [
    "df.query('user_score == \"tbd\"')"
   ]
  },
  {
   "cell_type": "code",
   "execution_count": 8,
   "metadata": {},
   "outputs": [],
   "source": [
    "df['user_score'] = df['user_score'].replace('tbd',np.nan)"
   ]
  },
  {
   "cell_type": "code",
   "execution_count": 9,
   "metadata": {},
   "outputs": [],
   "source": [
    "df['total_sales'] = df['na_sales']+df['eu_sales']+df['jp_sales']"
   ]
  },
  {
   "cell_type": "code",
   "execution_count": 10,
   "metadata": {},
   "outputs": [
    {
     "data": {
      "text/html": [
       "<div>\n",
       "<style scoped>\n",
       "    .dataframe tbody tr th:only-of-type {\n",
       "        vertical-align: middle;\n",
       "    }\n",
       "\n",
       "    .dataframe tbody tr th {\n",
       "        vertical-align: top;\n",
       "    }\n",
       "\n",
       "    .dataframe thead th {\n",
       "        text-align: right;\n",
       "    }\n",
       "</style>\n",
       "<table border=\"1\" class=\"dataframe\">\n",
       "  <thead>\n",
       "    <tr style=\"text-align: right;\">\n",
       "      <th></th>\n",
       "      <th>name</th>\n",
       "      <th>platform</th>\n",
       "      <th>year_of_release</th>\n",
       "      <th>genre</th>\n",
       "      <th>na_sales</th>\n",
       "      <th>eu_sales</th>\n",
       "      <th>jp_sales</th>\n",
       "      <th>other_sales</th>\n",
       "      <th>critic_score</th>\n",
       "      <th>user_score</th>\n",
       "      <th>rating</th>\n",
       "      <th>total_sales</th>\n",
       "    </tr>\n",
       "  </thead>\n",
       "  <tbody>\n",
       "    <tr>\n",
       "      <th>0</th>\n",
       "      <td>Wii Sports</td>\n",
       "      <td>Wii</td>\n",
       "      <td>2006.0</td>\n",
       "      <td>Sports</td>\n",
       "      <td>41.36</td>\n",
       "      <td>28.96</td>\n",
       "      <td>3.77</td>\n",
       "      <td>8.45</td>\n",
       "      <td>76.0</td>\n",
       "      <td>8</td>\n",
       "      <td>E</td>\n",
       "      <td>74.09</td>\n",
       "    </tr>\n",
       "    <tr>\n",
       "      <th>1</th>\n",
       "      <td>Super Mario Bros.</td>\n",
       "      <td>NES</td>\n",
       "      <td>1985.0</td>\n",
       "      <td>Platform</td>\n",
       "      <td>29.08</td>\n",
       "      <td>3.58</td>\n",
       "      <td>6.81</td>\n",
       "      <td>0.77</td>\n",
       "      <td>NaN</td>\n",
       "      <td>NaN</td>\n",
       "      <td>NaN</td>\n",
       "      <td>39.47</td>\n",
       "    </tr>\n",
       "    <tr>\n",
       "      <th>2</th>\n",
       "      <td>Mario Kart Wii</td>\n",
       "      <td>Wii</td>\n",
       "      <td>2008.0</td>\n",
       "      <td>Racing</td>\n",
       "      <td>15.68</td>\n",
       "      <td>12.76</td>\n",
       "      <td>3.79</td>\n",
       "      <td>3.29</td>\n",
       "      <td>82.0</td>\n",
       "      <td>8.3</td>\n",
       "      <td>E</td>\n",
       "      <td>32.23</td>\n",
       "    </tr>\n",
       "    <tr>\n",
       "      <th>3</th>\n",
       "      <td>Wii Sports Resort</td>\n",
       "      <td>Wii</td>\n",
       "      <td>2009.0</td>\n",
       "      <td>Sports</td>\n",
       "      <td>15.61</td>\n",
       "      <td>10.93</td>\n",
       "      <td>3.28</td>\n",
       "      <td>2.95</td>\n",
       "      <td>80.0</td>\n",
       "      <td>8</td>\n",
       "      <td>E</td>\n",
       "      <td>29.82</td>\n",
       "    </tr>\n",
       "    <tr>\n",
       "      <th>4</th>\n",
       "      <td>Pokemon Red/Pokemon Blue</td>\n",
       "      <td>GB</td>\n",
       "      <td>1996.0</td>\n",
       "      <td>Role-Playing</td>\n",
       "      <td>11.27</td>\n",
       "      <td>8.89</td>\n",
       "      <td>10.22</td>\n",
       "      <td>1.00</td>\n",
       "      <td>NaN</td>\n",
       "      <td>NaN</td>\n",
       "      <td>NaN</td>\n",
       "      <td>30.38</td>\n",
       "    </tr>\n",
       "  </tbody>\n",
       "</table>\n",
       "</div>"
      ],
      "text/plain": [
       "                       name platform  year_of_release         genre  na_sales  \\\n",
       "0                Wii Sports      Wii           2006.0        Sports     41.36   \n",
       "1         Super Mario Bros.      NES           1985.0      Platform     29.08   \n",
       "2            Mario Kart Wii      Wii           2008.0        Racing     15.68   \n",
       "3         Wii Sports Resort      Wii           2009.0        Sports     15.61   \n",
       "4  Pokemon Red/Pokemon Blue       GB           1996.0  Role-Playing     11.27   \n",
       "\n",
       "   eu_sales  jp_sales  other_sales  critic_score user_score rating  \\\n",
       "0     28.96      3.77         8.45          76.0          8      E   \n",
       "1      3.58      6.81         0.77           NaN        NaN    NaN   \n",
       "2     12.76      3.79         3.29          82.0        8.3      E   \n",
       "3     10.93      3.28         2.95          80.0          8      E   \n",
       "4      8.89     10.22         1.00           NaN        NaN    NaN   \n",
       "\n",
       "   total_sales  \n",
       "0        74.09  \n",
       "1        39.47  \n",
       "2        32.23  \n",
       "3        29.82  \n",
       "4        30.38  "
      ]
     },
     "execution_count": 10,
     "metadata": {},
     "output_type": "execute_result"
    }
   ],
   "source": [
    "df.head()"
   ]
  },
  {
   "cell_type": "code",
   "execution_count": 11,
   "metadata": {},
   "outputs": [
    {
     "data": {
      "text/html": [
       "<div>\n",
       "<style scoped>\n",
       "    .dataframe tbody tr th:only-of-type {\n",
       "        vertical-align: middle;\n",
       "    }\n",
       "\n",
       "    .dataframe tbody tr th {\n",
       "        vertical-align: top;\n",
       "    }\n",
       "\n",
       "    .dataframe thead th {\n",
       "        text-align: right;\n",
       "    }\n",
       "</style>\n",
       "<table border=\"1\" class=\"dataframe\">\n",
       "  <thead>\n",
       "    <tr style=\"text-align: right;\">\n",
       "      <th></th>\n",
       "      <th>name</th>\n",
       "      <th>platform</th>\n",
       "      <th>year_of_release</th>\n",
       "      <th>genre</th>\n",
       "      <th>na_sales</th>\n",
       "      <th>eu_sales</th>\n",
       "      <th>jp_sales</th>\n",
       "      <th>other_sales</th>\n",
       "      <th>critic_score</th>\n",
       "      <th>user_score</th>\n",
       "      <th>rating</th>\n",
       "      <th>total_sales</th>\n",
       "    </tr>\n",
       "  </thead>\n",
       "  <tbody>\n",
       "    <tr>\n",
       "      <th>659</th>\n",
       "      <td>NaN</td>\n",
       "      <td>GEN</td>\n",
       "      <td>1993.0</td>\n",
       "      <td>NaN</td>\n",
       "      <td>1.78</td>\n",
       "      <td>0.53</td>\n",
       "      <td>0.00</td>\n",
       "      <td>0.08</td>\n",
       "      <td>NaN</td>\n",
       "      <td>NaN</td>\n",
       "      <td>NaN</td>\n",
       "      <td>2.31</td>\n",
       "    </tr>\n",
       "    <tr>\n",
       "      <th>14244</th>\n",
       "      <td>NaN</td>\n",
       "      <td>GEN</td>\n",
       "      <td>1993.0</td>\n",
       "      <td>NaN</td>\n",
       "      <td>0.00</td>\n",
       "      <td>0.00</td>\n",
       "      <td>0.03</td>\n",
       "      <td>0.00</td>\n",
       "      <td>NaN</td>\n",
       "      <td>NaN</td>\n",
       "      <td>NaN</td>\n",
       "      <td>0.03</td>\n",
       "    </tr>\n",
       "    <tr>\n",
       "      <th>1591</th>\n",
       "      <td>Need for Speed: Most Wanted</td>\n",
       "      <td>X360</td>\n",
       "      <td>2005.0</td>\n",
       "      <td>Racing</td>\n",
       "      <td>1.00</td>\n",
       "      <td>0.13</td>\n",
       "      <td>0.02</td>\n",
       "      <td>0.10</td>\n",
       "      <td>83.0</td>\n",
       "      <td>8.5</td>\n",
       "      <td>T</td>\n",
       "      <td>1.15</td>\n",
       "    </tr>\n",
       "    <tr>\n",
       "      <th>5972</th>\n",
       "      <td>Need for Speed: Most Wanted</td>\n",
       "      <td>PC</td>\n",
       "      <td>2005.0</td>\n",
       "      <td>Racing</td>\n",
       "      <td>0.02</td>\n",
       "      <td>0.23</td>\n",
       "      <td>0.00</td>\n",
       "      <td>0.04</td>\n",
       "      <td>82.0</td>\n",
       "      <td>8.5</td>\n",
       "      <td>T</td>\n",
       "      <td>0.25</td>\n",
       "    </tr>\n",
       "    <tr>\n",
       "      <th>1745</th>\n",
       "      <td>Sonic the Hedgehog</td>\n",
       "      <td>PS3</td>\n",
       "      <td>2006.0</td>\n",
       "      <td>Platform</td>\n",
       "      <td>0.41</td>\n",
       "      <td>0.06</td>\n",
       "      <td>0.04</td>\n",
       "      <td>0.66</td>\n",
       "      <td>43.0</td>\n",
       "      <td>4.1</td>\n",
       "      <td>E10+</td>\n",
       "      <td>0.51</td>\n",
       "    </tr>\n",
       "    <tr>\n",
       "      <th>604</th>\n",
       "      <td>Madden NFL 13</td>\n",
       "      <td>PS3</td>\n",
       "      <td>2012.0</td>\n",
       "      <td>Sports</td>\n",
       "      <td>2.11</td>\n",
       "      <td>0.22</td>\n",
       "      <td>0.00</td>\n",
       "      <td>0.23</td>\n",
       "      <td>83.0</td>\n",
       "      <td>5.5</td>\n",
       "      <td>E</td>\n",
       "      <td>2.33</td>\n",
       "    </tr>\n",
       "    <tr>\n",
       "      <th>1190</th>\n",
       "      <td>Need for Speed: Most Wanted</td>\n",
       "      <td>X360</td>\n",
       "      <td>2012.0</td>\n",
       "      <td>Racing</td>\n",
       "      <td>0.62</td>\n",
       "      <td>0.78</td>\n",
       "      <td>0.01</td>\n",
       "      <td>0.15</td>\n",
       "      <td>83.0</td>\n",
       "      <td>8.5</td>\n",
       "      <td>T</td>\n",
       "      <td>1.41</td>\n",
       "    </tr>\n",
       "    <tr>\n",
       "      <th>11715</th>\n",
       "      <td>Need for Speed: Most Wanted</td>\n",
       "      <td>PC</td>\n",
       "      <td>2012.0</td>\n",
       "      <td>Racing</td>\n",
       "      <td>0.00</td>\n",
       "      <td>0.06</td>\n",
       "      <td>0.00</td>\n",
       "      <td>0.02</td>\n",
       "      <td>82.0</td>\n",
       "      <td>8.5</td>\n",
       "      <td>T</td>\n",
       "      <td>0.06</td>\n",
       "    </tr>\n",
       "    <tr>\n",
       "      <th>16230</th>\n",
       "      <td>Madden NFL 13</td>\n",
       "      <td>PS3</td>\n",
       "      <td>2012.0</td>\n",
       "      <td>Sports</td>\n",
       "      <td>0.00</td>\n",
       "      <td>0.01</td>\n",
       "      <td>0.00</td>\n",
       "      <td>0.00</td>\n",
       "      <td>83.0</td>\n",
       "      <td>5.5</td>\n",
       "      <td>E</td>\n",
       "      <td>0.01</td>\n",
       "    </tr>\n",
       "    <tr>\n",
       "      <th>4127</th>\n",
       "      <td>Sonic the Hedgehog</td>\n",
       "      <td>PS3</td>\n",
       "      <td>NaN</td>\n",
       "      <td>Platform</td>\n",
       "      <td>0.00</td>\n",
       "      <td>0.48</td>\n",
       "      <td>0.00</td>\n",
       "      <td>0.00</td>\n",
       "      <td>43.0</td>\n",
       "      <td>4.1</td>\n",
       "      <td>E10+</td>\n",
       "      <td>0.48</td>\n",
       "    </tr>\n",
       "  </tbody>\n",
       "</table>\n",
       "</div>"
      ],
      "text/plain": [
       "                              name platform  year_of_release     genre  \\\n",
       "659                            NaN      GEN           1993.0       NaN   \n",
       "14244                          NaN      GEN           1993.0       NaN   \n",
       "1591   Need for Speed: Most Wanted     X360           2005.0    Racing   \n",
       "5972   Need for Speed: Most Wanted       PC           2005.0    Racing   \n",
       "1745            Sonic the Hedgehog      PS3           2006.0  Platform   \n",
       "604                  Madden NFL 13      PS3           2012.0    Sports   \n",
       "1190   Need for Speed: Most Wanted     X360           2012.0    Racing   \n",
       "11715  Need for Speed: Most Wanted       PC           2012.0    Racing   \n",
       "16230                Madden NFL 13      PS3           2012.0    Sports   \n",
       "4127            Sonic the Hedgehog      PS3              NaN  Platform   \n",
       "\n",
       "       na_sales  eu_sales  jp_sales  other_sales  critic_score user_score  \\\n",
       "659        1.78      0.53      0.00         0.08           NaN        NaN   \n",
       "14244      0.00      0.00      0.03         0.00           NaN        NaN   \n",
       "1591       1.00      0.13      0.02         0.10          83.0        8.5   \n",
       "5972       0.02      0.23      0.00         0.04          82.0        8.5   \n",
       "1745       0.41      0.06      0.04         0.66          43.0        4.1   \n",
       "604        2.11      0.22      0.00         0.23          83.0        5.5   \n",
       "1190       0.62      0.78      0.01         0.15          83.0        8.5   \n",
       "11715      0.00      0.06      0.00         0.02          82.0        8.5   \n",
       "16230      0.00      0.01      0.00         0.00          83.0        5.5   \n",
       "4127       0.00      0.48      0.00         0.00          43.0        4.1   \n",
       "\n",
       "      rating  total_sales  \n",
       "659      NaN         2.31  \n",
       "14244    NaN         0.03  \n",
       "1591       T         1.15  \n",
       "5972       T         0.25  \n",
       "1745    E10+         0.51  \n",
       "604        E         2.33  \n",
       "1190       T         1.41  \n",
       "11715      T         0.06  \n",
       "16230      E         0.01  \n",
       "4127    E10+         0.48  "
      ]
     },
     "execution_count": 11,
     "metadata": {},
     "output_type": "execute_result"
    }
   ],
   "source": [
    "df[df.duplicated(subset =['name','platform'],keep=False)].sort_values('year_of_release')"
   ]
  },
  {
   "cell_type": "code",
   "execution_count": 12,
   "metadata": {},
   "outputs": [],
   "source": [
    "df = df.drop_duplicates(subset =['name','platform'],keep = 'last')"
   ]
  },
  {
   "cell_type": "markdown",
   "metadata": {},
   "source": [
    "####  исследовательский анализ данных"
   ]
  },
  {
   "cell_type": "markdown",
   "metadata": {},
   "source": [
    "- сколько игр выпускалось в разные годы. Важны ли данные за все периоды?\n",
    "- как менялись продажи по платформам. Выберите платформы с наибольшими суммарными продажами и постройте распределение по годам. За какой характерный срок появляются новые и исчезают старые платформы?\n",
    "- Возьмите данные за соответствующий актуальный период. Актуальный период определите самостоятельно в результате исследования предыдущих вопросов. Основной фактор — эти данные помогут построить прогноз на 2017 год.Не учитывайте в работе данные за предыдущие годы.\n",
    "- Какие платформы лидируют по продажам, растут или падают? Выберите несколько потенциально прибыльных платформ.\n",
    "- Постройте график «ящик с усами» по глобальным продажам игр в разбивке по платформам. Опишите результат.\n",
    "-  как влияют на продажи внутри одной популярной платформы отзывы пользователей и критиков. Постройте диаграмму рассеяния и посчитайте корреляцию между отзывами и продажами. Сформулируйте выводы.\n",
    "- Соотнесите выводы с продажами игр на других платформах.\n",
    "- Посмотрите на общее распределение игр по жанрам. Что можно сказать о самых прибыльных жанрах? Выделяются ли жанры с высокими и низкими продажами?"
   ]
  },
  {
   "cell_type": "code",
   "execution_count": 13,
   "metadata": {},
   "outputs": [
    {
     "data": {
      "image/png": "[encoded data removed]",
      "text/plain": [
       "<Figure size 720x360 with 1 Axes>"
      ]
     },
     "metadata": {
      "needs_background": "light"
     },
     "output_type": "display_data"
    }
   ],
   "source": [
    "df.groupby('year_of_release')['genre'].count().plot(kind = 'bar', figsize = (10,5), grid = True)\n",
    "plt.title('Количество выпущенных игр по годам')\n",
    "plt.xlabel('Год выпуска')\n",
    "plt.ylabel('Количество выпущенных игр')\n",
    "plt.xticks(rotation = 45);"
   ]
  },
  {
   "cell_type": "markdown",
   "metadata": {},
   "source": []
  },
  {
   "cell_type": "markdown",
   "metadata": {},
   "source": [
    "Я не думаю, что для прогноза на 2017 год важны данные за все периоды. Мне кажется, что вполне достаточно будет последних лет, тенденции в игровой индустрии меняются очень быстро и данные 20 летней давности в любом случае не будут релевантны."
   ]
  },
  {
   "cell_type": "code",
   "execution_count": 14,
   "metadata": {},
   "outputs": [
    {
     "data": {
      "image/png": "[encoded data removed]",
      "text/plain": [
       "<Figure size 720x360 with 1 Axes>"
      ]
     },
     "metadata": {
      "needs_background": "light"
     },
     "output_type": "display_data"
    }
   ],
   "source": [
    "df.groupby('platform')['total_sales'].sum().sort_values().plot(kind = 'bar', figsize = (10,5), grid = True)\n",
    "plt.title('Продажи игр на разных платформах за все время')\n",
    "plt.xlabel('Платформа')\n",
    "plt.ylabel('Сумма по продажам')\n",
    "plt.xticks(rotation = 45);"
   ]
  },
  {
   "cell_type": "markdown",
   "metadata": {},
   "source": [
    "платформы с наибольшими суммарными продажами - X360, PS2"
   ]
  },
  {
   "cell_type": "code",
   "execution_count": 15,
   "metadata": {},
   "outputs": [
    {
     "data": {
      "image/png": "[encoded data removed]",
      "text/plain": [
       "<Figure size 720x360 with 1 Axes>"
      ]
     },
     "metadata": {
      "needs_background": "light"
     },
     "output_type": "display_data"
    }
   ],
   "source": [
    "df[df['platform'] == 'PS2'].groupby('year_of_release')['total_sales'].sum().plot(kind = 'bar', figsize = (10,5), grid = True)\n",
    "plt.title('Продажи игр на PS2 за все время')\n",
    "plt.xlabel('Год')\n",
    "plt.ylabel('Сумма по продажам')\n",
    "plt.xticks(rotation = 45);"
   ]
  },
  {
   "cell_type": "code",
   "execution_count": 16,
   "metadata": {},
   "outputs": [
    {
     "data": {
      "image/png": "[encoded data removed]",
      "text/plain": [
       "<Figure size 720x360 with 1 Axes>"
      ]
     },
     "metadata": {
      "needs_background": "light"
     },
     "output_type": "display_data"
    }
   ],
   "source": [
    "df[df['platform'] == 'X360'].groupby('year_of_release')['total_sales'].sum().plot(kind = 'bar', figsize = (10,5), grid = True)\n",
    "plt.title('Продажи игр на X360 за все время')\n",
    "plt.xlabel('Год')\n",
    "plt.ylabel('Сумма по продажам')\n",
    "plt.xticks(rotation = 45);"
   ]
  },
  {
   "cell_type": "markdown",
   "metadata": {},
   "source": [
    "- Из графиков можно сделать вывод, что платформа набирает популярность в первые 5 лет своей популярности, а в следующие 5 плавно ее теряет, так жизнь платформы составляет около 10 лет\n",
    "- Исходя из этого можно предположить, что если взять данные в предыдущие 3 года мы увидим платформы которые набирают популярность, и через 2 года будут на пике. так мы сможем снизить влияние все еще популярных платформ, чья популяность снижается\n"
   ]
  },
  {
   "cell_type": "code",
   "execution_count": 17,
   "metadata": {},
   "outputs": [],
   "source": [
    "df_act = df.query('year_of_release>=2013')"
   ]
  },
  {
   "cell_type": "code",
   "execution_count": 18,
   "metadata": {},
   "outputs": [
    {
     "data": {
      "image/png": "[encoded data removed]",
      "text/plain": [
       "<Figure size 720x432 with 1 Axes>"
      ]
     },
     "metadata": {
      "needs_background": "light"
     },
     "output_type": "display_data"
    }
   ],
   "source": [
    "df_act.groupby('platform')['total_sales'].sum().sort_values().plot(kind = 'bar',figsize = (10,6))\n",
    "plt.title('Продажи игр на разных платформах за последние 3 года')\n",
    "plt.xlabel('Платформа')\n",
    "plt.ylabel('Сумма по продажам')\n",
    "plt.xticks(rotation = 45);"
   ]
  },
  {
   "cell_type": "code",
   "execution_count": 19,
   "metadata": {},
   "outputs": [
    {
     "data": {
      "image/png": "[encoded data removed]",
      "text/plain": [
       "<Figure size 720x360 with 1 Axes>"
      ]
     },
     "metadata": {
      "needs_background": "light"
     },
     "output_type": "display_data"
    }
   ],
   "source": [
    "df_act[df_act['platform'] == 'PS4'].groupby('year_of_release')['total_sales'].sum().plot(kind = 'bar', figsize = (10,5), grid = True)\n",
    "plt.title('Продажи игр на PS4 за последние 3 года')\n",
    "plt.xlabel('Год')\n",
    "plt.ylabel('Сумма по продажам')\n",
    "plt.xticks(rotation = 45);"
   ]
  },
  {
   "cell_type": "code",
   "execution_count": 20,
   "metadata": {},
   "outputs": [
    {
     "data": {
      "image/png": "[encoded data removed]",
      "text/plain": [
       "<Figure size 720x360 with 1 Axes>"
      ]
     },
     "metadata": {
      "needs_background": "light"
     },
     "output_type": "display_data"
    }
   ],
   "source": [
    "df_act[df_act['platform'] == 'PS3'].groupby('year_of_release')['total_sales'].sum().plot(kind = 'bar', figsize = (10,5), grid = True)\n",
    "plt.title('Продажи игр на PS3 за последние 3 года')\n",
    "plt.xlabel('Год')\n",
    "plt.ylabel('Сумма по продажам')\n",
    "plt.xticks(rotation = 45);"
   ]
  },
  {
   "cell_type": "code",
   "execution_count": 21,
   "metadata": {},
   "outputs": [
    {
     "data": {
      "image/png": "[encoded data removed]",
      "text/plain": [
       "<Figure size 720x360 with 1 Axes>"
      ]
     },
     "metadata": {
      "needs_background": "light"
     },
     "output_type": "display_data"
    }
   ],
   "source": [
    "df_act[df_act['platform'] == 'XOne'].groupby('year_of_release')['total_sales'].sum().plot(kind = 'bar', figsize = (10,5), grid = True)\n",
    "plt.title('Продажи игр на XOne за последние 3 года')\n",
    "plt.xlabel('Год')\n",
    "plt.ylabel('Сумма по продажам')\n",
    "plt.xticks(rotation = 45);"
   ]
  },
  {
   "cell_type": "markdown",
   "metadata": {},
   "source": [
    "3 наиболее популярные платформы - это PS3 PS4 XOne, при этом популярность PS3 явно идет на спад, что неудивительно - выпущена более новая версия платформы, не стоит брать ее в расчет, то есть я бы обращал внимание на 2 платформы - PS4 XOne, можно заметить, что в последний год суммы продаж падают, но это характерно для всех платформ за последние несколько лет (кроме того данные за 2016 год неполные )"
   ]
  },
  {
   "cell_type": "markdown",
   "metadata": {},
   "source": [
    "##### Постройте график «ящик с усами» по глобальным продажам игр в разбивке по платформам. Опишите результат."
   ]
  },
  {
   "cell_type": "code",
   "execution_count": 22,
   "metadata": {},
   "outputs": [
    {
     "data": {
      "text/plain": [
       "<AxesSubplot:>"
      ]
     },
     "execution_count": 22,
     "metadata": {},
     "output_type": "execute_result"
    },
    {
     "data": {
      "image/png": "[encoded data removed]",
      "text/plain": [
       "<Figure size 432x288 with 1 Axes>"
      ]
     },
     "metadata": {
      "needs_background": "light"
     },
     "output_type": "display_data"
    }
   ],
   "source": [
    "df_act.query('platform == \"PS4\"')['total_sales'].plot(kind = 'box')\n"
   ]
  },
  {
   "cell_type": "code",
   "execution_count": 23,
   "metadata": {},
   "outputs": [
    {
     "data": {
      "text/plain": [
       "<AxesSubplot:>"
      ]
     },
     "execution_count": 23,
     "metadata": {},
     "output_type": "execute_result"
    },
    {
     "data": {
      "image/png": "[encoded data removed]",
      "text/plain": [
       "<Figure size 432x288 with 1 Axes>"
      ]
     },
     "metadata": {
      "needs_background": "light"
     },
     "output_type": "display_data"
    }
   ],
   "source": [
    "df_act.query('platform == \"XOne\"')['total_sales'].plot(kind = 'box')\n"
   ]
  },
  {
   "cell_type": "code",
   "execution_count": 24,
   "metadata": {},
   "outputs": [
    {
     "data": {
      "text/plain": [
       "platform\n",
       "PS4     265.79\n",
       "PS3     154.66\n",
       "XOne    145.05\n",
       "3DS     136.97\n",
       "X360    124.69\n",
       "Name: total_sales, dtype: float64"
      ]
     },
     "execution_count": 24,
     "metadata": {},
     "output_type": "execute_result"
    }
   ],
   "source": [
    "df_act.groupby('platform')['total_sales'].sum().sort_values(ascending = False).head(5)"
   ]
  },
  {
   "cell_type": "code",
   "execution_count": 25,
   "metadata": {},
   "outputs": [
    {
     "data": {
      "text/plain": [
       "(0.0, 1.5)"
      ]
     },
     "execution_count": 25,
     "metadata": {},
     "output_type": "execute_result"
    },
    {
     "data": {
      "image/png": "[encoded data removed]",
      "text/plain": [
       "<Figure size 432x288 with 1 Axes>"
      ]
     },
     "metadata": {
      "needs_background": "light"
     },
     "output_type": "display_data"
    }
   ],
   "source": [
    "sns.boxplot(data=df_act.query('platform.str.contains(\"PS4|PS3|XOne|3DS|X360\")').sort_values(by = 'total_sales'), x='platform', y='total_sales')\n",
    "plt.title('Глобальные продажи игр в разбивке по платформам')\n",
    "plt.ylim(0,1.5)"
   ]
  },
  {
   "cell_type": "code",
   "execution_count": 26,
   "metadata": {},
   "outputs": [
    {
     "data": {
      "image/png": "[encoded data removed]",
      "text/plain": [
       "<Figure size 432x288 with 1 Axes>"
      ]
     },
     "metadata": {
      "needs_background": "light"
     },
     "output_type": "display_data"
    }
   ],
   "source": [
    "df_act.groupby('platform')['total_sales'].mean().plot(kind = 'box')\n",
    "plt.title('Разброс значений продаж для всех платформ')\n",
    "plt.ylabel('сумма продаж');"
   ]
  },
  {
   "cell_type": "markdown",
   "metadata": {},
   "source": [
    "##### как влияют на продажи внутри одной популярной платформы отзывы пользователей и критиков. Постройте диаграмму рассеяния и посчитайте корреляцию между отзывами и продажами. Сформулируйте выводы."
   ]
  },
  {
   "cell_type": "code",
   "execution_count": 27,
   "metadata": {},
   "outputs": [],
   "source": [
    "df_act = df_act.query('user_score != \"tbd\"')\n",
    "df_act.critic_score = df_act.critic_score.astype(float)\n",
    "df_act.user_score = df_act.user_score.astype(float)\n",
    "df_act = df_act.dropna(subset=['total_sales', 'critic_score','user_score'])"
   ]
  },
  {
   "cell_type": "code",
   "execution_count": 28,
   "metadata": {},
   "outputs": [
    {
     "data": {
      "text/plain": [
       "Text(0.5, 1.0, 'Корреляция отзывов пользователей и продаж')"
      ]
     },
     "execution_count": 28,
     "metadata": {},
     "output_type": "execute_result"
    },
    {
     "data": {
      "image/png": "[encoded data removed]",
      "text/plain": [
       "<Figure size 432x288 with 1 Axes>"
      ]
     },
     "metadata": {
      "needs_background": "light"
     },
     "output_type": "display_data"
    }
   ],
   "source": [
    "sns.scatterplot(data = df_act.query('platform == \"PS4\"'), x='total_sales', y ='user_score')\n",
    "plt.title('Корреляция отзывов пользователей и продаж')"
   ]
  },
  {
   "cell_type": "code",
   "execution_count": 29,
   "metadata": {},
   "outputs": [
    {
     "data": {
      "text/plain": [
       "Text(0.5, 1.0, 'Корреляция отзывов критиков и продаж')"
      ]
     },
     "execution_count": 29,
     "metadata": {},
     "output_type": "execute_result"
    },
    {
     "data": {
      "image/png": "[encoded data removed]",
      "text/plain": [
       "<Figure size 432x288 with 1 Axes>"
      ]
     },
     "metadata": {
      "needs_background": "light"
     },
     "output_type": "display_data"
    }
   ],
   "source": [
    "sns.scatterplot(data = df_act.query('platform == \"PS4\"'), x='total_sales', y ='critic_score')\n",
    "plt.title('Корреляция отзывов критиков и продаж')"
   ]
  },
  {
   "cell_type": "code",
   "execution_count": 30,
   "metadata": {},
   "outputs": [
    {
     "name": "stdout",
     "output_type": "stream",
     "text": [
      "Корреляция между total_sales и critic_score =  0.40522336661501335\n"
     ]
    }
   ],
   "source": [
    "print('Корреляция между total_sales и critic_score = ',np.corrcoef(df_act.query('platform == \"PS4\"')['total_sales'],\n",
    "                                     df_act.query('platform == \"PS4\"')['critic_score'])[1][0])"
   ]
  },
  {
   "cell_type": "code",
   "execution_count": 31,
   "metadata": {},
   "outputs": [
    {
     "name": "stdout",
     "output_type": "stream",
     "text": [
      "Корреляция между total_sales и user_score =  -0.03292287016409416\n"
     ]
    }
   ],
   "source": [
    "print('Корреляция между total_sales и user_score = ',np.corrcoef(df_act.query('platform == \"PS4\"')['total_sales'],\n",
    "                                     df_act.query('platform == \"PS4\"')['user_score'])[1][0])"
   ]
  },
  {
   "cell_type": "markdown",
   "metadata": {},
   "source": [
    "- # Исходя из анализа корреляции есть средне-слабая зависимость продаж от  отзывов критиков и отсутствует корреляция между отзывами пользователей и продажами"
   ]
  },
  {
   "cell_type": "code",
   "execution_count": 32,
   "metadata": {},
   "outputs": [
    {
     "name": "stdout",
     "output_type": "stream",
     "text": [
      "XOne Корреляция между total_sales и critic_score =  0.4106565329614494\n"
     ]
    }
   ],
   "source": [
    "print('XOne Корреляция между total_sales и critic_score = ',np.corrcoef(df_act.query('platform == \"XOne\"')['total_sales'],\n",
    "                                     df_act.query('platform == \"XOne\"')['critic_score'])[1][0])"
   ]
  },
  {
   "cell_type": "code",
   "execution_count": 33,
   "metadata": {},
   "outputs": [
    {
     "name": "stdout",
     "output_type": "stream",
     "text": [
      "XOne Корреляция между total_sales и critic_score =  -0.09373712936460944\n"
     ]
    }
   ],
   "source": [
    "print('XOne Корреляция между total_sales и critic_score = ',np.corrcoef(df_act.query('platform == \"XOne\"')['total_sales'],\n",
    "                                     df_act.query('platform == \"XOne\"')['user_score'])[1][0])"
   ]
  },
  {
   "cell_type": "code",
   "execution_count": 34,
   "metadata": {},
   "outputs": [
    {
     "name": "stdout",
     "output_type": "stream",
     "text": [
      "PS3 Корреляция между total_sales и critic_score =  0.021034492018154244\n"
     ]
    }
   ],
   "source": [
    "print('PS3 Корреляция между total_sales и critic_score = ',np.corrcoef(df_act.query('platform == \"PS3\"')['total_sales'],\n",
    "                                     df_act.query('platform == \"PS3\"')['user_score'])[1][0])"
   ]
  },
  {
   "cell_type": "code",
   "execution_count": 35,
   "metadata": {},
   "outputs": [
    {
     "name": "stdout",
     "output_type": "stream",
     "text": [
      "PS3 Корреляция  между total_sales и critic_score =  0.33689836826959946\n"
     ]
    }
   ],
   "source": [
    "print('PS3 Корреляция  между total_sales и critic_score = ',np.corrcoef(df_act.query('platform == \"PS3\"')['total_sales'],\n",
    "                                     df_act.query('platform == \"PS3\"')['critic_score'])[1][0])"
   ]
  },
  {
   "cell_type": "markdown",
   "metadata": {},
   "source": [
    "- Во всех случаях очень слабая корреляция между продажами и оценками пользователей и средне-слабая между оценкой критиков и продажами"
   ]
  },
  {
   "cell_type": "markdown",
   "metadata": {},
   "source": [
    "##### Посмотрите на общее распределение игр по жанрам. Что можно сказать о самых прибыльных жанрах? Выделяются ли жанры с высокими и низкими продажами?"
   ]
  },
  {
   "cell_type": "code",
   "execution_count": 36,
   "metadata": {},
   "outputs": [
    {
     "data": {
      "image/png": "[encoded data removed]",
      "text/plain": [
       "<Figure size 432x288 with 1 Axes>"
      ]
     },
     "metadata": {
      "needs_background": "light"
     },
     "output_type": "display_data"
    }
   ],
   "source": [
    "df_act.genre.value_counts().plot(kind = 'bar')\n",
    "plt.title(\"Распределение игр по жанрам\")\n",
    "plt.xlabel('жанр');"
   ]
  },
  {
   "cell_type": "code",
   "execution_count": 37,
   "metadata": {},
   "outputs": [
    {
     "data": {
      "image/png": "[encoded data removed]",
      "text/plain": [
       "<Figure size 432x288 with 1 Axes>"
      ]
     },
     "metadata": {
      "needs_background": "light"
     },
     "output_type": "display_data"
    }
   ],
   "source": [
    "df_act.groupby('genre')['total_sales'].sum().sort_values(ascending = False).plot(kind = 'bar')\n",
    "plt.title('Абсолютный доход по жанрам')\n",
    "plt.xlabel('сумма продаж');"
   ]
  },
  {
   "cell_type": "code",
   "execution_count": 38,
   "metadata": {},
   "outputs": [
    {
     "data": {
      "image/png": "[encoded data removed]",
      "text/plain": [
       "<Figure size 432x288 with 1 Axes>"
      ]
     },
     "metadata": {
      "needs_background": "light"
     },
     "output_type": "display_data"
    }
   ],
   "source": [
    "df_act.groupby('genre')['total_sales'].mean().sort_values(ascending = False).plot(kind = 'bar')\n",
    "plt.title('Cредний доход по жанрам')\n",
    "plt.xlabel('сумма продаж');"
   ]
  },
  {
   "cell_type": "markdown",
   "metadata": {},
   "source": [
    "- Если смотреть абсолютные продажи то жанр Экшен занимает лидирующие позиции по сумме дохода с продаж в это же время жанр пазл имеет наименьший доход \n",
    "- Медианные значения показывают самые высокие значения по направлениям Shooter и Sports, а самое низкое - Adventure."
   ]
  },
  {
   "cell_type": "code",
   "execution_count": 39,
   "metadata": {},
   "outputs": [
    {
     "data": {
      "image/png": "[encoded data removed]",
      "text/plain": [
       "<Figure size 720x432 with 1 Axes>"
      ]
     },
     "metadata": {
      "needs_background": "light"
     },
     "output_type": "display_data"
    }
   ],
   "source": [
    "plt.figure(figsize = (10,6))\n",
    "sns.boxplot(data = df_act, x = 'genre', y = 'total_sales')\n",
    "plt.title('Cредний доход по жанрам')\n",
    "plt.grid(True)\n",
    "plt.xlabel('сумма продаж')\n",
    "plt.xticks(rotation = 45)\n",
    "plt.ylim(0,2);"
   ]
  },
  {
   "cell_type": "markdown",
   "metadata": {},
   "source": [
    "#### Составьте портрет пользователя каждого региона"
   ]
  },
  {
   "cell_type": "markdown",
   "metadata": {},
   "source": [
    "- Определите для пользователя каждого региона (NA, EU, JP):\n",
    "- Самые популярные платформы (топ-5). Опишите различия в долях продаж.\n",
    "- Самые популярные жанры (топ-5). Поясните разницу.\n",
    "- Влияет ли рейтинг ESRB на продажи в отдельном регионе?\n"
   ]
  },
  {
   "cell_type": "markdown",
   "metadata": {},
   "source": []
  },
  {
   "cell_type": "code",
   "execution_count": 40,
   "metadata": {},
   "outputs": [
    {
     "data": {
      "image/png": "[encoded data removed]",
      "text/plain": [
       "<Figure size 432x288 with 1 Axes>"
      ]
     },
     "metadata": {},
     "output_type": "display_data"
    }
   ],
   "source": [
    "df_act.groupby('platform')['na_sales'].sum().sort_values(ascending = False).head(5).plot(kind = 'pie',autopct='%1.1f%%')\n",
    "plt.title('Топ платформ в регионе na');"
   ]
  },
  {
   "cell_type": "code",
   "execution_count": 41,
   "metadata": {},
   "outputs": [
    {
     "data": {
      "image/png": "[encoded data removed]",
      "text/plain": [
       "<Figure size 432x288 with 1 Axes>"
      ]
     },
     "metadata": {},
     "output_type": "display_data"
    }
   ],
   "source": [
    "df_act.groupby('platform')['eu_sales'].sum().sort_values(ascending = False).head(5).plot(kind = 'pie',autopct='%1.1f%%')\n",
    "plt.title('Топ платформ в регионе eu');"
   ]
  },
  {
   "cell_type": "code",
   "execution_count": 42,
   "metadata": {},
   "outputs": [
    {
     "data": {
      "image/png": "[encoded data removed]",
      "text/plain": [
       "<Figure size 432x288 with 1 Axes>"
      ]
     },
     "metadata": {},
     "output_type": "display_data"
    }
   ],
   "source": [
    "df_act.groupby('platform')['jp_sales'].sum().sort_values(ascending = False).head(5).plot(kind = 'pie',autopct='%1.1f%%')\n",
    "plt.title('Топ платформ в регионе jp');"
   ]
  },
  {
   "cell_type": "code",
   "execution_count": 43,
   "metadata": {},
   "outputs": [
    {
     "data": {
      "image/png": "[encoded data removed]",
      "text/plain": [
       "<Figure size 432x288 with 1 Axes>"
      ]
     },
     "metadata": {},
     "output_type": "display_data"
    }
   ],
   "source": [
    "df_act.groupby('genre')['jp_sales'].sum().sort_values(ascending = False).head(5).plot(kind = 'pie',autopct='%1.1f%%')\n",
    "plt.title('Топ жанров в регионе jp');"
   ]
  },
  {
   "cell_type": "code",
   "execution_count": 44,
   "metadata": {},
   "outputs": [
    {
     "data": {
      "image/png": "[encoded data removed]",
      "text/plain": [
       "<Figure size 432x288 with 1 Axes>"
      ]
     },
     "metadata": {},
     "output_type": "display_data"
    }
   ],
   "source": [
    "df_act.groupby('genre')['eu_sales'].sum().sort_values(ascending = False).head(5).plot(kind = 'pie',autopct='%1.1f%%')\n",
    "plt.title('Топ жанров в регионе eu');"
   ]
  },
  {
   "cell_type": "code",
   "execution_count": 45,
   "metadata": {},
   "outputs": [
    {
     "data": {
      "image/png": "[encoded data removed]",
      "text/plain": [
       "<Figure size 432x288 with 1 Axes>"
      ]
     },
     "metadata": {},
     "output_type": "display_data"
    }
   ],
   "source": [
    "df_act.groupby('genre')['na_sales'].sum().sort_values(ascending = False).head(5).plot(kind = 'pie',autopct='%1.1f%%')\n",
    "plt.title('Топ жанров в регионе na');"
   ]
  },
  {
   "cell_type": "markdown",
   "metadata": {},
   "source": [
    " - Для всех 3 регионов различаются и топ платформ и топ жанров, полагаю это можно объяснить различием культур и доступностью тех или иных игр/платформ"
   ]
  },
  {
   "cell_type": "code",
   "execution_count": 46,
   "metadata": {},
   "outputs": [
    {
     "data": {
      "text/html": [
       "<div>\n",
       "<style scoped>\n",
       "    .dataframe tbody tr th:only-of-type {\n",
       "        vertical-align: middle;\n",
       "    }\n",
       "\n",
       "    .dataframe tbody tr th {\n",
       "        vertical-align: top;\n",
       "    }\n",
       "\n",
       "    .dataframe thead th {\n",
       "        text-align: right;\n",
       "    }\n",
       "</style>\n",
       "<table border=\"1\" class=\"dataframe\">\n",
       "  <thead>\n",
       "    <tr style=\"text-align: right;\">\n",
       "      <th></th>\n",
       "      <th>na_sales</th>\n",
       "      <th>eu_sales</th>\n",
       "      <th>jp_sales</th>\n",
       "    </tr>\n",
       "    <tr>\n",
       "      <th>rating</th>\n",
       "      <th></th>\n",
       "      <th></th>\n",
       "      <th></th>\n",
       "    </tr>\n",
       "  </thead>\n",
       "  <tbody>\n",
       "    <tr>\n",
       "      <th>E</th>\n",
       "      <td>65.67</td>\n",
       "      <td>69.18</td>\n",
       "      <td>14.14</td>\n",
       "    </tr>\n",
       "    <tr>\n",
       "      <th>E10+</th>\n",
       "      <td>39.01</td>\n",
       "      <td>29.97</td>\n",
       "      <td>5.65</td>\n",
       "    </tr>\n",
       "    <tr>\n",
       "      <th>M</th>\n",
       "      <td>152.83</td>\n",
       "      <td>135.48</td>\n",
       "      <td>12.93</td>\n",
       "    </tr>\n",
       "    <tr>\n",
       "      <th>T</th>\n",
       "      <td>45.13</td>\n",
       "      <td>38.87</td>\n",
       "      <td>16.54</td>\n",
       "    </tr>\n",
       "  </tbody>\n",
       "</table>\n",
       "</div>"
      ],
      "text/plain": [
       "        na_sales  eu_sales  jp_sales\n",
       "rating                              \n",
       "E          65.67     69.18     14.14\n",
       "E10+       39.01     29.97      5.65\n",
       "M         152.83    135.48     12.93\n",
       "T          45.13     38.87     16.54"
      ]
     },
     "execution_count": 46,
     "metadata": {},
     "output_type": "execute_result"
    }
   ],
   "source": [
    "df_act.groupby('rating')[['na_sales',\t'eu_sales',\t'jp_sales']].sum()"
   ]
  },
  {
   "cell_type": "code",
   "execution_count": 47,
   "metadata": {},
   "outputs": [
    {
     "data": {
      "image/png": "[encoded data removed]",
      "text/plain": [
       "<Figure size 432x288 with 1 Axes>"
      ]
     },
     "metadata": {
      "needs_background": "light"
     },
     "output_type": "display_data"
    }
   ],
   "source": [
    "sales_by_rating = df_act.groupby('rating')[['na_sales', 'eu_sales', 'jp_sales']].sum().reset_index()\n",
    "\n",
    "sales_by_rating_melted = pd.melt(sales_by_rating, id_vars='rating', var_name='region', value_name='sales')\n",
    "sns.barplot(data=sales_by_rating_melted, x='rating', y='sales', hue='region')\n",
    "plt.xlabel('Рейтинг')\n",
    "plt.ylabel('Продажи')\n",
    "plt.title('Общие продажи про рейтингу и регионам')\n",
    "plt.legend()\n",
    "plt.show()"
   ]
  },
  {
   "cell_type": "markdown",
   "metadata": {},
   "source": [
    "популярность рейтинга M самая большая для регионов na, eu, для jp - это Т, наименее популярный рейтинг - рейтинг Е10+"
   ]
  },
  {
   "cell_type": "markdown",
   "metadata": {},
   "source": [
    "#### Проверьте гипотезы"
   ]
  },
  {
   "cell_type": "markdown",
   "metadata": {},
   "source": [
    "- Средние пользовательские рейтинги платформ Xbox One и PC одинаковые;\n",
    "- Средние пользовательские рейтинги жанров Action (англ. «действие», экшен-игры) и Sports (англ. «спортивные соревнования») разные."
   ]
  },
  {
   "cell_type": "markdown",
   "metadata": {},
   "source": []
  },
  {
   "cell_type": "markdown",
   "metadata": {},
   "source": [
    "Для проверки гипотез о равенстве средних пользовательских рейтингов двух выборок (Xbox One и PC; жанры Action и Sports) можно воспользоваться t-тестом для независимых выборок. Этот критерий подойдет лучше так как мы исследуем 2 различные выборки и наша гипотеза строится вокруг их средних."
   ]
  },
  {
   "cell_type": "markdown",
   "metadata": {},
   "source": [
    "Гипотеза о равенстве средних пользовательских рейтингов платформ Xbox One и PC\n",
    "- Нулевая гипотеза (H0): Средние пользовательские рейтинги платформ Xbox One и PC одинаковые.\n",
    "- Альтернативная гипотеза (H1): Средние пользовательские рейтинги платформ Xbox One и PC различаются."
   ]
  },
  {
   "cell_type": "code",
   "execution_count": 48,
   "metadata": {},
   "outputs": [
    {
     "name": "stdout",
     "output_type": "stream",
     "text": [
      "P-Value: 0.17306926618147322\n",
      "Нет оснований отвергать H0 - статистически значимые различия не обнаружены\n"
     ]
    }
   ],
   "source": [
    "alpha = 0.05\n",
    "df_act['user_score'] = pd.to_numeric(df['user_score'], errors='coerce')\n",
    "\n",
    "t_statistic, p_value = st.ttest_ind(df_act.query('platform == \"XOne\"')['user_score'].dropna(),\n",
    "                                       df_act.query('platform == \"PC\"')['user_score'].dropna())\n",
    "\n",
    "\n",
    "print(\"P-Value:\", p_value)\n",
    "if p_value<alpha:\n",
    "    print(\"Альтернативная гипотеза не может быть отвергнута - различия статистически значимы\")\n",
    "else:\n",
    "    print(\"Нет оснований отвергать H0 - статистически значимые различия не обнаружены\")"
   ]
  },
  {
   "cell_type": "markdown",
   "metadata": {},
   "source": []
  },
  {
   "cell_type": "markdown",
   "metadata": {},
   "source": [
    "Гипотеза о разности средних пользовательских рейтингов жанров Action и Sports\n",
    "- Нулевая гипотеза (H0): Средние пользовательские рейтинги жанров Action и Sports одинаковые.\n",
    "- Альтернативная гипотеза (H1): Средние пользовательские рейтинги жанров Action и Sports различаются."
   ]
  },
  {
   "cell_type": "code",
   "execution_count": 49,
   "metadata": {},
   "outputs": [
    {
     "name": "stdout",
     "output_type": "stream",
     "text": [
      "P-Value: 1.684099430689953e-16\n",
      "Альтернативная гипотеза не может быть отвергнута - различия статистически значимы\n"
     ]
    }
   ],
   "source": [
    "t_statistic, p_value = st.ttest_ind(df_act.query('genre == \"Action\"')['user_score'].dropna(),\n",
    "                                       df_act.query('genre == \"Sports\"')['user_score'].dropna())\n",
    "\n",
    "\n",
    "print(\"P-Value:\", p_value)\n",
    "if p_value<alpha:\n",
    "    print(\"Альтернативная гипотеза не может быть отвергнута - различия статистически значимы\")\n",
    "else:\n",
    "    print(\"Нет оснований отвергать H0 - статистически значимые различия не обнаружены\")"
   ]
  },
  {
   "cell_type": "markdown",
   "metadata": {},
   "source": [
    "#### общий вывод\n"
   ]
  },
  {
   "cell_type": "markdown",
   "metadata": {},
   "source": [
    "- явные дубликаты отсутсвуют, заполнения пропусков не производилось \n",
    "- неявные дубликаты по названию и платформе - оставлено последнее значение \n",
    "- Платформы  с наибольшими суммарными продажами - X360, PS2\n",
    "- Количество выпускаемых игр росло с начала 90 до 2008 года после чего стало снижаться\n",
    "- 3 наиболее популярные платформы - это PS3 PS4 XOne, при этом популярность PS3 явно идет на спад, что неудивительно - выпущена более новая версия платформы, не стоит брать ее в расчет, то есть я бы обращал внимание на 2 платформы - PS4 XOne, можно заметить, что в последний год суммы продаж падают, но это характерно для всех платформ за последние несколько лет (кроме того данные за 2016 год неполные )\n",
    "- платформа набирает популярность в первые 5 лет своей популярности, а в следующие 5 плавно ее теряет, так жизнь платформы составляет около 10 лет\n",
    "- Исходя из анализа корреляции есть средне-слабая зависимость продаж от отзывов критиков и отсутствует корреляция между отзывами пользователей и продажами¶\n",
    "- Если смотреть средние или медианные значниия продаж то жанры shooter, sports занимают лидирующии позиции по доходу с продаж\n",
    " - Для всех 3 регионов различаются и топ платформ и топ жанров, полагаю это можно объяснить различием культур и доступностью тех или иных игр/платформ\n",
    "- Из графика видно, что популярность рейтинга М самая большая(для na, eu), но в целом популярность различных рейтингов специфична для регионов\n",
    "- Средние пользовательские рейтинги платформ Xbox One и PC не различаются\n",
    "- Средние пользовательские рейтинги жанров Action и Sports различаются\n",
    "\n",
    "##### -  Для достижения большего комерческого успеха можно рекомендовать выпуск игр в жанре шутер (лидирует по среднему доходу), для платформы PS4, при этом важнее обращать внимание на отзывы критиков чем на отзывы пользователей, в таком ключе при прочих равных вероятность получить больший доход выше "
   ]
  }
 ],
 "metadata": {
  "ExecuteTimeLog": [
   {
    "duration": 1582,
    "start_time": "2024-03-24T17:07:40.892Z"
   },
   {
    "duration": 5,
    "start_time": "2024-03-24T17:07:48.695Z"
   },
   {
    "duration": 193,
    "start_time": "2024-03-24T17:26:52.427Z"
   },
   {
    "duration": 19,
    "start_time": "2024-03-24T17:27:02.335Z"
   },
   {
    "duration": 21,
    "start_time": "2024-03-24T17:42:22.641Z"
   },
   {
    "duration": 9,
    "start_time": "2024-03-24T17:42:37.865Z"
   },
   {
    "duration": 5,
    "start_time": "2024-03-24T17:42:45.381Z"
   },
   {
    "duration": 5,
    "start_time": "2024-03-24T17:42:56.581Z"
   },
   {
    "duration": 3,
    "start_time": "2024-03-24T17:43:05.661Z"
   },
   {
    "duration": 20,
    "start_time": "2024-03-24T17:43:08.373Z"
   },
   {
    "duration": 12,
    "start_time": "2024-03-24T17:43:35.764Z"
   },
   {
    "duration": 31,
    "start_time": "2024-03-24T17:43:39.482Z"
   },
   {
    "duration": 15,
    "start_time": "2024-03-24T17:43:48.474Z"
   },
   {
    "duration": 30,
    "start_time": "2024-03-24T17:44:03.442Z"
   },
   {
    "duration": 9,
    "start_time": "2024-03-24T17:44:38.257Z"
   },
   {
    "duration": 18,
    "start_time": "2024-03-24T17:45:40.541Z"
   },
   {
    "duration": 6,
    "start_time": "2024-03-24T17:46:14.111Z"
   },
   {
    "duration": 6,
    "start_time": "2024-03-24T17:46:21.409Z"
   },
   {
    "duration": 6,
    "start_time": "2024-03-24T17:46:35.002Z"
   },
   {
    "duration": 7,
    "start_time": "2024-03-24T17:46:55.422Z"
   },
   {
    "duration": 13,
    "start_time": "2024-03-24T17:47:11.322Z"
   },
   {
    "duration": 19,
    "start_time": "2024-03-24T17:47:17.403Z"
   },
   {
    "duration": 34,
    "start_time": "2024-03-24T17:47:42.395Z"
   },
   {
    "duration": 14,
    "start_time": "2024-03-24T17:51:43.943Z"
   },
   {
    "duration": 15,
    "start_time": "2024-03-24T17:51:47.195Z"
   },
   {
    "duration": 13,
    "start_time": "2024-03-24T17:53:28.804Z"
   },
   {
    "duration": 13,
    "start_time": "2024-03-24T17:54:10.916Z"
   },
   {
    "duration": 25,
    "start_time": "2024-03-24T17:54:44.024Z"
   },
   {
    "duration": 8,
    "start_time": "2024-03-24T18:02:56.027Z"
   },
   {
    "duration": 11,
    "start_time": "2024-03-24T18:03:12.485Z"
   },
   {
    "duration": 13,
    "start_time": "2024-03-24T18:03:32.613Z"
   },
   {
    "duration": 15,
    "start_time": "2024-03-24T18:03:51.805Z"
   },
   {
    "duration": 17,
    "start_time": "2024-03-24T18:04:22.679Z"
   },
   {
    "duration": 6,
    "start_time": "2024-03-24T18:05:09.546Z"
   },
   {
    "duration": 23,
    "start_time": "2024-03-24T18:05:12.405Z"
   },
   {
    "duration": 15,
    "start_time": "2024-03-24T18:05:20.946Z"
   },
   {
    "duration": 21,
    "start_time": "2024-03-24T18:06:03.587Z"
   },
   {
    "duration": 18,
    "start_time": "2024-03-24T18:06:08.006Z"
   },
   {
    "duration": 17,
    "start_time": "2024-03-24T18:06:26.078Z"
   },
   {
    "duration": 9,
    "start_time": "2024-03-24T18:06:45.746Z"
   },
   {
    "duration": 7,
    "start_time": "2024-03-24T18:06:48.967Z"
   },
   {
    "duration": 5,
    "start_time": "2024-03-24T18:06:55.946Z"
   },
   {
    "duration": 9,
    "start_time": "2024-03-24T18:10:37.907Z"
   },
   {
    "duration": 175,
    "start_time": "2024-03-24T18:10:49.656Z"
   },
   {
    "duration": 8,
    "start_time": "2024-03-24T18:10:55.928Z"
   },
   {
    "duration": 309,
    "start_time": "2024-03-24T18:12:10.648Z"
   },
   {
    "duration": 124,
    "start_time": "2024-03-24T18:12:31.472Z"
   },
   {
    "duration": 323,
    "start_time": "2024-03-24T18:12:38.880Z"
   },
   {
    "duration": 336,
    "start_time": "2024-03-24T18:12:55.216Z"
   },
   {
    "duration": 431,
    "start_time": "2024-03-24T18:14:10.637Z"
   },
   {
    "duration": 344,
    "start_time": "2024-03-24T18:14:30.524Z"
   },
   {
    "duration": 338,
    "start_time": "2024-03-24T18:14:33.959Z"
   },
   {
    "duration": 366,
    "start_time": "2024-03-24T18:15:10.851Z"
   },
   {
    "duration": 312,
    "start_time": "2024-03-24T18:18:21.057Z"
   },
   {
    "duration": 294,
    "start_time": "2024-03-24T18:19:12.297Z"
   },
   {
    "duration": 24,
    "start_time": "2024-03-24T18:20:25.570Z"
   },
   {
    "duration": 27,
    "start_time": "2024-03-24T18:20:46.030Z"
   },
   {
    "duration": 20,
    "start_time": "2024-03-24T18:21:15.559Z"
   },
   {
    "duration": 16,
    "start_time": "2024-03-24T18:21:20.949Z"
   },
   {
    "duration": 10,
    "start_time": "2024-03-24T18:21:32.922Z"
   },
   {
    "duration": 300,
    "start_time": "2024-03-24T18:21:47.110Z"
   },
   {
    "duration": 215,
    "start_time": "2024-03-24T18:22:26.169Z"
   },
   {
    "duration": 192,
    "start_time": "2024-03-24T18:22:43.109Z"
   },
   {
    "duration": 186,
    "start_time": "2024-03-24T18:22:46.471Z"
   },
   {
    "duration": 23,
    "start_time": "2024-03-24T18:27:49.463Z"
   },
   {
    "duration": 26,
    "start_time": "2024-03-24T18:28:22.511Z"
   },
   {
    "duration": 27,
    "start_time": "2024-03-24T18:28:35.291Z"
   },
   {
    "duration": 26,
    "start_time": "2024-03-24T18:28:46.267Z"
   },
   {
    "duration": 7,
    "start_time": "2024-03-24T18:28:57.622Z"
   },
   {
    "duration": 24,
    "start_time": "2024-03-24T18:29:03.623Z"
   },
   {
    "duration": 8,
    "start_time": "2024-03-24T18:30:01.883Z"
   },
   {
    "duration": 142,
    "start_time": "2024-03-24T18:30:12.841Z"
   },
   {
    "duration": 162,
    "start_time": "2024-03-24T18:30:21.731Z"
   },
   {
    "duration": 173,
    "start_time": "2024-03-24T18:30:32.009Z"
   },
   {
    "duration": 174,
    "start_time": "2024-03-24T18:31:29.356Z"
   },
   {
    "duration": 179,
    "start_time": "2024-03-24T18:31:42.826Z"
   },
   {
    "duration": 183,
    "start_time": "2024-03-24T18:31:59.956Z"
   },
   {
    "duration": 304,
    "start_time": "2024-03-24T18:33:54.720Z"
   },
   {
    "duration": 428,
    "start_time": "2024-03-24T18:34:13.520Z"
   },
   {
    "duration": 204,
    "start_time": "2024-03-24T18:35:02.339Z"
   },
   {
    "duration": 225,
    "start_time": "2024-03-24T18:35:35.157Z"
   },
   {
    "duration": 191,
    "start_time": "2024-03-24T18:36:05.989Z"
   },
   {
    "duration": 198,
    "start_time": "2024-03-24T18:36:18.956Z"
   },
   {
    "duration": 166,
    "start_time": "2024-03-24T18:36:56.302Z"
   },
   {
    "duration": 5,
    "start_time": "2024-03-24T18:39:04.613Z"
   },
   {
    "duration": 159,
    "start_time": "2024-03-24T18:39:05.680Z"
   },
   {
    "duration": 196,
    "start_time": "2024-03-24T18:39:31.052Z"
   },
   {
    "duration": 6,
    "start_time": "2024-03-24T18:40:04.099Z"
   },
   {
    "duration": 199,
    "start_time": "2024-03-24T18:40:04.321Z"
   },
   {
    "duration": 6,
    "start_time": "2024-03-24T18:40:19.215Z"
   },
   {
    "duration": 163,
    "start_time": "2024-03-24T18:40:20.344Z"
   },
   {
    "duration": 191,
    "start_time": "2024-03-24T18:42:21.949Z"
   },
   {
    "duration": 142,
    "start_time": "2024-03-24T18:44:36.372Z"
   },
   {
    "duration": 261,
    "start_time": "2024-03-24T18:44:58.087Z"
   },
   {
    "duration": 143,
    "start_time": "2024-03-24T18:45:20.979Z"
   },
   {
    "duration": 152,
    "start_time": "2024-03-24T18:45:27.508Z"
   },
   {
    "duration": 94,
    "start_time": "2024-03-24T18:51:11.467Z"
   },
   {
    "duration": 23,
    "start_time": "2024-03-24T18:51:28.179Z"
   },
   {
    "duration": 32,
    "start_time": "2024-03-24T18:51:55.187Z"
   },
   {
    "duration": 26,
    "start_time": "2024-03-24T18:52:08.706Z"
   },
   {
    "duration": 112,
    "start_time": "2024-03-24T18:52:34.007Z"
   },
   {
    "duration": 10,
    "start_time": "2024-03-24T18:52:53.219Z"
   },
   {
    "duration": 137,
    "start_time": "2024-03-24T18:53:10.014Z"
   },
   {
    "duration": 127,
    "start_time": "2024-03-24T18:54:17.567Z"
   },
   {
    "duration": 9,
    "start_time": "2024-03-24T18:54:35.247Z"
   },
   {
    "duration": 10,
    "start_time": "2024-03-24T18:54:45.266Z"
   },
   {
    "duration": 4,
    "start_time": "2024-03-24T18:55:55.486Z"
   },
   {
    "duration": 116,
    "start_time": "2024-03-24T18:56:18.606Z"
   },
   {
    "duration": 123,
    "start_time": "2024-03-24T18:58:30.865Z"
   },
   {
    "duration": 140,
    "start_time": "2024-03-24T19:01:51.624Z"
   },
   {
    "duration": 23,
    "start_time": "2024-03-24T19:05:33.664Z"
   },
   {
    "duration": 41,
    "start_time": "2024-03-24T19:05:52.020Z"
   },
   {
    "duration": 29,
    "start_time": "2024-03-24T19:05:56.966Z"
   },
   {
    "duration": 762,
    "start_time": "2024-03-24T19:07:03.530Z"
   },
   {
    "duration": 9,
    "start_time": "2024-03-24T19:07:45.047Z"
   },
   {
    "duration": 5,
    "start_time": "2024-03-24T19:07:52.099Z"
   },
   {
    "duration": 5,
    "start_time": "2024-03-24T19:08:00.386Z"
   },
   {
    "duration": 194,
    "start_time": "2024-03-24T19:12:12.120Z"
   },
   {
    "duration": 704,
    "start_time": "2024-03-24T19:12:20.060Z"
   },
   {
    "duration": 208,
    "start_time": "2024-03-24T19:12:27.187Z"
   },
   {
    "duration": 221,
    "start_time": "2024-03-24T19:12:41.268Z"
   },
   {
    "duration": 329,
    "start_time": "2024-03-24T19:13:17.708Z"
   },
   {
    "duration": 24,
    "start_time": "2024-03-24T19:13:39.820Z"
   },
   {
    "duration": 7,
    "start_time": "2024-03-24T19:13:51.355Z"
   },
   {
    "duration": 15,
    "start_time": "2024-03-24T19:14:07.418Z"
   },
   {
    "duration": 23,
    "start_time": "2024-03-24T19:14:41.487Z"
   },
   {
    "duration": 21,
    "start_time": "2024-03-24T19:15:49.629Z"
   },
   {
    "duration": 25,
    "start_time": "2024-03-24T19:16:13.388Z"
   },
   {
    "duration": 5,
    "start_time": "2024-03-24T19:16:19.808Z"
   },
   {
    "duration": 7,
    "start_time": "2024-03-24T19:16:55.354Z"
   },
   {
    "duration": 143,
    "start_time": "2024-03-24T19:17:03.748Z"
   },
   {
    "duration": 114,
    "start_time": "2024-03-24T19:17:08.270Z"
   },
   {
    "duration": 137,
    "start_time": "2024-03-24T19:17:10.900Z"
   },
   {
    "duration": 23,
    "start_time": "2024-03-24T19:18:24.201Z"
   },
   {
    "duration": 6,
    "start_time": "2024-03-24T19:18:34.776Z"
   },
   {
    "duration": 7,
    "start_time": "2024-03-24T19:19:00.997Z"
   },
   {
    "duration": 152,
    "start_time": "2024-03-24T19:19:26.188Z"
   },
   {
    "duration": 10,
    "start_time": "2024-03-24T19:20:38.621Z"
   },
   {
    "duration": 257,
    "start_time": "2024-03-24T19:21:27.687Z"
   },
   {
    "duration": 9,
    "start_time": "2024-03-24T19:21:41.249Z"
   },
   {
    "duration": 9,
    "start_time": "2024-03-24T19:23:30.748Z"
   },
   {
    "duration": 145,
    "start_time": "2024-03-24T19:23:36.910Z"
   },
   {
    "duration": 148,
    "start_time": "2024-03-24T19:23:39.009Z"
   },
   {
    "duration": 9,
    "start_time": "2024-03-24T19:23:48.449Z"
   },
   {
    "duration": 8,
    "start_time": "2024-03-24T19:23:54.889Z"
   },
   {
    "duration": 9,
    "start_time": "2024-03-24T19:23:59.480Z"
   },
   {
    "duration": 9,
    "start_time": "2024-03-24T19:24:52.629Z"
   },
   {
    "duration": 10,
    "start_time": "2024-03-24T19:25:20.857Z"
   },
   {
    "duration": 4,
    "start_time": "2024-03-24T19:25:30.248Z"
   },
   {
    "duration": 9,
    "start_time": "2024-03-24T19:25:34.501Z"
   },
   {
    "duration": 8,
    "start_time": "2024-03-24T19:25:45.048Z"
   },
   {
    "duration": 7,
    "start_time": "2024-03-24T19:25:57.708Z"
   },
   {
    "duration": 10,
    "start_time": "2024-03-24T19:26:13.696Z"
   },
   {
    "duration": 265,
    "start_time": "2024-03-24T19:26:42.207Z"
   },
   {
    "duration": 147,
    "start_time": "2024-03-24T19:26:43.949Z"
   },
   {
    "duration": 11,
    "start_time": "2024-03-24T19:26:45.640Z"
   },
   {
    "duration": 8,
    "start_time": "2024-03-24T19:26:47.860Z"
   },
   {
    "duration": 160,
    "start_time": "2024-03-24T19:27:59.488Z"
   },
   {
    "duration": 158,
    "start_time": "2024-03-24T19:28:05.644Z"
   },
   {
    "duration": 146,
    "start_time": "2024-03-24T19:28:14.748Z"
   },
   {
    "duration": 163,
    "start_time": "2024-03-24T19:31:59.908Z"
   },
   {
    "duration": 8,
    "start_time": "2024-03-24T19:32:34.909Z"
   },
   {
    "duration": 8,
    "start_time": "2024-03-24T19:32:59.468Z"
   },
   {
    "duration": 8,
    "start_time": "2024-03-24T19:33:52.668Z"
   },
   {
    "duration": 282,
    "start_time": "2024-03-24T19:34:06.808Z"
   },
   {
    "duration": 255,
    "start_time": "2024-03-24T19:34:09.369Z"
   },
   {
    "duration": 258,
    "start_time": "2024-03-24T19:34:23.147Z"
   },
   {
    "duration": 276,
    "start_time": "2024-03-24T19:34:24.457Z"
   },
   {
    "duration": 23,
    "start_time": "2024-03-24T19:34:38.669Z"
   },
   {
    "duration": 307,
    "start_time": "2024-03-24T19:34:55.547Z"
   },
   {
    "duration": 260,
    "start_time": "2024-03-24T19:34:56.889Z"
   },
   {
    "duration": 8,
    "start_time": "2024-03-24T19:35:05.685Z"
   },
   {
    "duration": 7,
    "start_time": "2024-03-24T19:35:16.048Z"
   },
   {
    "duration": 8,
    "start_time": "2024-03-24T19:35:50.168Z"
   },
   {
    "duration": 8,
    "start_time": "2024-03-24T19:35:50.694Z"
   },
   {
    "duration": 8,
    "start_time": "2024-03-24T19:35:51.141Z"
   },
   {
    "duration": 8,
    "start_time": "2024-03-24T19:35:51.500Z"
   },
   {
    "duration": 23,
    "start_time": "2024-03-24T19:38:44.609Z"
   },
   {
    "duration": 5,
    "start_time": "2024-03-24T19:38:59.044Z"
   },
   {
    "duration": 167,
    "start_time": "2024-03-24T19:39:12.319Z"
   },
   {
    "duration": 172,
    "start_time": "2024-03-24T19:40:01.329Z"
   },
   {
    "duration": 170,
    "start_time": "2024-03-24T19:40:05.909Z"
   },
   {
    "duration": 10,
    "start_time": "2024-03-24T19:41:13.489Z"
   },
   {
    "duration": 25,
    "start_time": "2024-03-24T19:41:21.249Z"
   },
   {
    "duration": 5,
    "start_time": "2024-03-24T19:41:26.047Z"
   },
   {
    "duration": 6,
    "start_time": "2024-03-24T19:41:36.848Z"
   },
   {
    "duration": 130,
    "start_time": "2024-03-24T19:41:51.308Z"
   },
   {
    "duration": 182,
    "start_time": "2024-03-24T19:42:09.388Z"
   },
   {
    "duration": 168,
    "start_time": "2024-03-24T19:42:17.048Z"
   },
   {
    "duration": 169,
    "start_time": "2024-03-24T19:42:31.372Z"
   },
   {
    "duration": 177,
    "start_time": "2024-03-24T19:42:49.186Z"
   },
   {
    "duration": 176,
    "start_time": "2024-03-24T19:44:01.688Z"
   },
   {
    "duration": 198,
    "start_time": "2024-03-24T19:44:05.027Z"
   },
   {
    "duration": 184,
    "start_time": "2024-03-24T19:44:33.808Z"
   },
   {
    "duration": 172,
    "start_time": "2024-03-24T19:44:36.628Z"
   },
   {
    "duration": 1157,
    "start_time": "2024-03-24T19:49:46.048Z"
   },
   {
    "duration": 58,
    "start_time": "2024-03-24T19:49:47.207Z"
   },
   {
    "duration": 19,
    "start_time": "2024-03-24T19:49:47.267Z"
   },
   {
    "duration": 13,
    "start_time": "2024-03-24T19:49:47.288Z"
   },
   {
    "duration": 27,
    "start_time": "2024-03-24T19:49:47.303Z"
   },
   {
    "duration": 17,
    "start_time": "2024-03-24T19:49:47.332Z"
   },
   {
    "duration": 23,
    "start_time": "2024-03-24T19:49:47.351Z"
   },
   {
    "duration": 14,
    "start_time": "2024-03-24T19:49:47.376Z"
   },
   {
    "duration": 15,
    "start_time": "2024-03-24T19:49:47.391Z"
   },
   {
    "duration": 381,
    "start_time": "2024-03-24T19:49:47.408Z"
   },
   {
    "duration": 333,
    "start_time": "2024-03-24T19:49:47.791Z"
   },
   {
    "duration": 202,
    "start_time": "2024-03-24T19:49:48.126Z"
   },
   {
    "duration": 201,
    "start_time": "2024-03-24T19:49:48.329Z"
   },
   {
    "duration": 6,
    "start_time": "2024-03-24T19:49:48.534Z"
   },
   {
    "duration": 197,
    "start_time": "2024-03-24T19:49:48.542Z"
   },
   {
    "duration": 148,
    "start_time": "2024-03-24T19:49:48.741Z"
   },
   {
    "duration": 156,
    "start_time": "2024-03-24T19:49:48.890Z"
   },
   {
    "duration": 244,
    "start_time": "2024-03-24T19:49:49.047Z"
   },
   {
    "duration": 118,
    "start_time": "2024-03-24T19:49:49.293Z"
   },
   {
    "duration": 113,
    "start_time": "2024-03-24T19:49:49.413Z"
   },
   {
    "duration": 113,
    "start_time": "2024-03-24T19:49:49.528Z"
   },
   {
    "duration": 10,
    "start_time": "2024-03-24T19:49:49.643Z"
   },
   {
    "duration": 166,
    "start_time": "2024-03-24T19:49:49.654Z"
   },
   {
    "duration": 167,
    "start_time": "2024-03-24T19:49:49.822Z"
   },
   {
    "duration": 10,
    "start_time": "2024-03-24T19:49:49.991Z"
   },
   {
    "duration": 30,
    "start_time": "2024-03-24T19:49:50.003Z"
   },
   {
    "duration": 13,
    "start_time": "2024-03-24T19:49:50.035Z"
   },
   {
    "duration": 10,
    "start_time": "2024-03-24T19:49:50.049Z"
   },
   {
    "duration": 12,
    "start_time": "2024-03-24T19:49:50.060Z"
   },
   {
    "duration": 15,
    "start_time": "2024-03-24T19:49:50.074Z"
   },
   {
    "duration": 205,
    "start_time": "2024-03-24T19:49:50.091Z"
   },
   {
    "duration": 181,
    "start_time": "2024-03-24T19:49:50.298Z"
   },
   {
    "duration": 170,
    "start_time": "2024-03-24T19:49:50.481Z"
   },
   {
    "duration": 31,
    "start_time": "2024-03-24T19:53:13.369Z"
   },
   {
    "duration": 24,
    "start_time": "2024-03-24T19:53:45.548Z"
   },
   {
    "duration": 9,
    "start_time": "2024-03-24T19:56:26.543Z"
   },
   {
    "duration": 7,
    "start_time": "2024-03-24T19:56:33.107Z"
   },
   {
    "duration": 7,
    "start_time": "2024-03-24T19:56:57.799Z"
   },
   {
    "duration": 76,
    "start_time": "2024-03-24T19:57:17.267Z"
   },
   {
    "duration": 90,
    "start_time": "2024-03-24T19:57:54.146Z"
   },
   {
    "duration": 170,
    "start_time": "2024-03-24T19:58:26.935Z"
   },
   {
    "duration": 93,
    "start_time": "2024-03-24T19:58:32.315Z"
   },
   {
    "duration": 99,
    "start_time": "2024-03-24T19:59:01.399Z"
   },
   {
    "duration": 100,
    "start_time": "2024-03-24T19:59:17.172Z"
   },
   {
    "duration": 8,
    "start_time": "2024-03-24T20:00:56.787Z"
   },
   {
    "duration": 8,
    "start_time": "2024-03-24T20:01:07.408Z"
   },
   {
    "duration": 8,
    "start_time": "2024-03-24T20:01:12.548Z"
   },
   {
    "duration": 105,
    "start_time": "2024-03-24T20:02:35.706Z"
   },
   {
    "duration": 108,
    "start_time": "2024-03-24T20:02:38.382Z"
   },
   {
    "duration": 103,
    "start_time": "2024-03-24T20:02:42.894Z"
   },
   {
    "duration": 22,
    "start_time": "2024-03-24T20:04:55.027Z"
   },
   {
    "duration": 14,
    "start_time": "2024-03-24T20:07:11.766Z"
   },
   {
    "duration": 109,
    "start_time": "2024-03-24T20:07:35.255Z"
   },
   {
    "duration": 12,
    "start_time": "2024-03-24T20:07:40.087Z"
   },
   {
    "duration": 251,
    "start_time": "2024-03-24T20:08:20.426Z"
   },
   {
    "duration": 254,
    "start_time": "2024-03-24T20:10:10.296Z"
   },
   {
    "duration": 24,
    "start_time": "2024-03-24T20:10:25.278Z"
   },
   {
    "duration": 9,
    "start_time": "2024-03-24T20:10:38.763Z"
   },
   {
    "duration": 22,
    "start_time": "2024-03-24T20:11:07.730Z"
   },
   {
    "duration": 15,
    "start_time": "2024-03-24T20:11:12.215Z"
   },
   {
    "duration": 249,
    "start_time": "2024-03-24T20:12:10.101Z"
   },
   {
    "duration": 3,
    "start_time": "2024-03-24T20:17:28.981Z"
   },
   {
    "duration": 22,
    "start_time": "2024-03-24T20:18:04.823Z"
   },
   {
    "duration": 29,
    "start_time": "2024-03-24T20:18:35.211Z"
   },
   {
    "duration": 9,
    "start_time": "2024-03-24T20:18:45.979Z"
   },
   {
    "duration": 11,
    "start_time": "2024-03-24T20:19:10.220Z"
   },
   {
    "duration": 22,
    "start_time": "2024-03-24T20:19:50.140Z"
   },
   {
    "duration": 20,
    "start_time": "2024-03-24T20:20:36.199Z"
   },
   {
    "duration": 15,
    "start_time": "2024-03-24T20:22:19.531Z"
   },
   {
    "duration": 15,
    "start_time": "2024-03-24T20:22:34.411Z"
   },
   {
    "duration": 12,
    "start_time": "2024-03-24T20:23:55.214Z"
   },
   {
    "duration": 11,
    "start_time": "2024-03-24T20:25:10.623Z"
   },
   {
    "duration": 12,
    "start_time": "2024-03-24T20:26:18.999Z"
   },
   {
    "duration": 11,
    "start_time": "2024-03-24T20:26:22.620Z"
   },
   {
    "duration": 21,
    "start_time": "2024-03-24T20:26:23.884Z"
   },
   {
    "duration": 1374,
    "start_time": "2024-03-24T21:05:52.131Z"
   },
   {
    "duration": 109,
    "start_time": "2024-03-24T21:05:53.507Z"
   },
   {
    "duration": 35,
    "start_time": "2024-03-24T21:05:53.617Z"
   },
   {
    "duration": 3,
    "start_time": "2024-03-24T21:05:53.654Z"
   },
   {
    "duration": 16,
    "start_time": "2024-03-24T21:05:53.660Z"
   },
   {
    "duration": 15,
    "start_time": "2024-03-24T21:05:53.678Z"
   },
   {
    "duration": 49,
    "start_time": "2024-03-24T21:05:53.694Z"
   },
   {
    "duration": 6,
    "start_time": "2024-03-24T21:05:53.746Z"
   },
   {
    "duration": 15,
    "start_time": "2024-03-24T21:05:53.753Z"
   },
   {
    "duration": 364,
    "start_time": "2024-03-24T21:05:53.769Z"
   },
   {
    "duration": 314,
    "start_time": "2024-03-24T21:05:54.134Z"
   },
   {
    "duration": 195,
    "start_time": "2024-03-24T21:05:54.450Z"
   },
   {
    "duration": 224,
    "start_time": "2024-03-24T21:05:54.647Z"
   },
   {
    "duration": 6,
    "start_time": "2024-03-24T21:05:54.874Z"
   },
   {
    "duration": 200,
    "start_time": "2024-03-24T21:05:54.882Z"
   },
   {
    "duration": 168,
    "start_time": "2024-03-24T21:05:55.084Z"
   },
   {
    "duration": 146,
    "start_time": "2024-03-24T21:05:55.253Z"
   },
   {
    "duration": 214,
    "start_time": "2024-03-24T21:05:55.400Z"
   },
   {
    "duration": 136,
    "start_time": "2024-03-24T21:05:55.618Z"
   },
   {
    "duration": 117,
    "start_time": "2024-03-24T21:05:55.756Z"
   },
   {
    "duration": 119,
    "start_time": "2024-03-24T21:05:55.875Z"
   },
   {
    "duration": 9,
    "start_time": "2024-03-24T21:05:55.995Z"
   },
   {
    "duration": 158,
    "start_time": "2024-03-24T21:05:56.019Z"
   },
   {
    "duration": 175,
    "start_time": "2024-03-24T21:05:56.178Z"
   },
   {
    "duration": 8,
    "start_time": "2024-03-24T21:05:56.355Z"
   },
   {
    "duration": 21,
    "start_time": "2024-03-24T21:05:56.364Z"
   },
   {
    "duration": 17,
    "start_time": "2024-03-24T21:05:56.386Z"
   },
   {
    "duration": 30,
    "start_time": "2024-03-24T21:05:56.404Z"
   },
   {
    "duration": 18,
    "start_time": "2024-03-24T21:05:56.435Z"
   },
   {
    "duration": 7,
    "start_time": "2024-03-24T21:05:56.462Z"
   },
   {
    "duration": 205,
    "start_time": "2024-03-24T21:05:56.471Z"
   },
   {
    "duration": 183,
    "start_time": "2024-03-24T21:05:56.678Z"
   },
   {
    "duration": 171,
    "start_time": "2024-03-24T21:05:56.863Z"
   },
   {
    "duration": 101,
    "start_time": "2024-03-24T21:05:57.038Z"
   },
   {
    "duration": 102,
    "start_time": "2024-03-24T21:05:57.144Z"
   },
   {
    "duration": 173,
    "start_time": "2024-03-24T21:05:57.248Z"
   },
   {
    "duration": 105,
    "start_time": "2024-03-24T21:05:57.423Z"
   },
   {
    "duration": 111,
    "start_time": "2024-03-24T21:05:57.538Z"
   },
   {
    "duration": 105,
    "start_time": "2024-03-24T21:05:57.651Z"
   },
   {
    "duration": 13,
    "start_time": "2024-03-24T21:05:57.758Z"
   },
   {
    "duration": 277,
    "start_time": "2024-03-24T21:05:57.775Z"
   },
   {
    "duration": 16,
    "start_time": "2024-03-24T21:05:58.054Z"
   },
   {
    "duration": 10,
    "start_time": "2024-03-24T21:05:58.072Z"
   },
   {
    "duration": 22,
    "start_time": "2024-03-24T21:14:02.137Z"
   },
   {
    "duration": 1499,
    "start_time": "2024-03-27T06:37:38.738Z"
   },
   {
    "duration": 195,
    "start_time": "2024-03-27T06:37:43.068Z"
   },
   {
    "duration": 29,
    "start_time": "2024-03-27T06:37:43.398Z"
   },
   {
    "duration": 4,
    "start_time": "2024-03-27T06:37:45.083Z"
   },
   {
    "duration": 17,
    "start_time": "2024-03-27T06:37:45.548Z"
   },
   {
    "duration": 18,
    "start_time": "2024-03-27T06:37:46.658Z"
   },
   {
    "duration": 26,
    "start_time": "2024-03-27T06:37:58.418Z"
   },
   {
    "duration": 23,
    "start_time": "2024-03-27T06:38:04.748Z"
   },
   {
    "duration": 7,
    "start_time": "2024-03-27T06:42:29.583Z"
   },
   {
    "duration": 6,
    "start_time": "2024-03-27T06:42:51.594Z"
   },
   {
    "duration": 22,
    "start_time": "2024-03-27T06:43:03.043Z"
   },
   {
    "duration": 10,
    "start_time": "2024-03-27T06:43:14.363Z"
   },
   {
    "duration": 10,
    "start_time": "2024-03-27T06:45:20.782Z"
   },
   {
    "duration": 24,
    "start_time": "2024-03-27T06:45:34.172Z"
   },
   {
    "duration": 93,
    "start_time": "2024-03-27T06:49:39.143Z"
   },
   {
    "duration": 27,
    "start_time": "2024-03-27T06:49:47.487Z"
   },
   {
    "duration": 34,
    "start_time": "2024-03-27T06:51:55.328Z"
   },
   {
    "duration": 25,
    "start_time": "2024-03-27T07:26:02.943Z"
   },
   {
    "duration": 22,
    "start_time": "2024-03-27T07:27:41.626Z"
   },
   {
    "duration": 126,
    "start_time": "2024-03-27T07:28:13.757Z"
   },
   {
    "duration": 16,
    "start_time": "2024-03-27T07:29:33.667Z"
   },
   {
    "duration": 25,
    "start_time": "2024-03-27T07:29:47.091Z"
   },
   {
    "duration": 27,
    "start_time": "2024-03-27T07:30:42.441Z"
   },
   {
    "duration": 24,
    "start_time": "2024-03-27T07:30:51.343Z"
   },
   {
    "duration": 24,
    "start_time": "2024-03-27T07:31:28.421Z"
   },
   {
    "duration": 34,
    "start_time": "2024-03-27T07:31:39.787Z"
   },
   {
    "duration": 36,
    "start_time": "2024-03-27T07:36:07.862Z"
   },
   {
    "duration": 23,
    "start_time": "2024-03-27T07:36:26.282Z"
   },
   {
    "duration": 17,
    "start_time": "2024-03-27T07:36:52.981Z"
   },
   {
    "duration": 390,
    "start_time": "2024-03-27T07:44:37.783Z"
   },
   {
    "duration": 15,
    "start_time": "2024-03-27T07:44:39.688Z"
   },
   {
    "duration": 3,
    "start_time": "2024-03-27T07:44:52.690Z"
   },
   {
    "duration": 57,
    "start_time": "2024-03-27T07:44:53.206Z"
   },
   {
    "duration": 15,
    "start_time": "2024-03-27T07:44:53.334Z"
   },
   {
    "duration": 3,
    "start_time": "2024-03-27T07:44:53.613Z"
   },
   {
    "duration": 16,
    "start_time": "2024-03-27T07:44:53.743Z"
   },
   {
    "duration": 21,
    "start_time": "2024-03-27T07:44:53.890Z"
   },
   {
    "duration": 29,
    "start_time": "2024-03-27T07:44:54.016Z"
   },
   {
    "duration": 4,
    "start_time": "2024-03-27T07:44:54.481Z"
   },
   {
    "duration": 5,
    "start_time": "2024-03-27T07:44:54.631Z"
   },
   {
    "duration": 15,
    "start_time": "2024-03-27T07:44:54.925Z"
   },
   {
    "duration": 24,
    "start_time": "2024-03-27T07:44:55.275Z"
   },
   {
    "duration": 17,
    "start_time": "2024-03-27T07:44:55.648Z"
   },
   {
    "duration": 384,
    "start_time": "2024-03-27T07:44:57.289Z"
   },
   {
    "duration": 314,
    "start_time": "2024-03-27T07:44:58.960Z"
   },
   {
    "duration": 207,
    "start_time": "2024-03-27T07:45:05.406Z"
   },
   {
    "duration": 216,
    "start_time": "2024-03-27T07:45:05.928Z"
   },
   {
    "duration": 7,
    "start_time": "2024-03-27T07:45:08.706Z"
   },
   {
    "duration": 182,
    "start_time": "2024-03-27T07:45:10.598Z"
   },
   {
    "duration": 230,
    "start_time": "2024-03-27T07:45:11.505Z"
   },
   {
    "duration": 143,
    "start_time": "2024-03-27T07:45:12.869Z"
   },
   {
    "duration": 141,
    "start_time": "2024-03-27T07:45:13.649Z"
   },
   {
    "duration": 113,
    "start_time": "2024-03-27T07:45:37.208Z"
   },
   {
    "duration": 117,
    "start_time": "2024-03-27T07:45:42.151Z"
   },
   {
    "duration": 136,
    "start_time": "2024-03-27T07:45:58.987Z"
   },
   {
    "duration": 109,
    "start_time": "2024-03-27T07:46:38.553Z"
   },
   {
    "duration": 111,
    "start_time": "2024-03-27T07:46:42.513Z"
   },
   {
    "duration": 116,
    "start_time": "2024-03-27T07:46:53.284Z"
   },
   {
    "duration": 121,
    "start_time": "2024-03-27T07:46:53.841Z"
   },
   {
    "duration": 128,
    "start_time": "2024-03-27T10:59:15.828Z"
   },
   {
    "duration": 124,
    "start_time": "2024-03-27T10:59:16.869Z"
   },
   {
    "duration": 256,
    "start_time": "2024-03-27T11:00:07.196Z"
   },
   {
    "duration": 122,
    "start_time": "2024-03-27T11:00:42.180Z"
   },
   {
    "duration": 264,
    "start_time": "2024-03-27T11:02:04.825Z"
   },
   {
    "duration": 24,
    "start_time": "2024-03-27T11:02:29.683Z"
   },
   {
    "duration": 8,
    "start_time": "2024-03-27T11:03:30.220Z"
   },
   {
    "duration": 8,
    "start_time": "2024-03-27T11:04:16.797Z"
   },
   {
    "duration": 7,
    "start_time": "2024-03-27T11:05:06.058Z"
   },
   {
    "duration": 8,
    "start_time": "2024-03-27T11:05:13.741Z"
   },
   {
    "duration": 24,
    "start_time": "2024-03-27T11:06:34.633Z"
   },
   {
    "duration": 25,
    "start_time": "2024-03-27T11:06:40.037Z"
   },
   {
    "duration": 24,
    "start_time": "2024-03-27T11:06:59.282Z"
   },
   {
    "duration": 41,
    "start_time": "2024-03-27T11:07:18.300Z"
   },
   {
    "duration": 25,
    "start_time": "2024-03-27T11:07:59.063Z"
   },
   {
    "duration": 203,
    "start_time": "2024-03-27T11:08:16.508Z"
   },
   {
    "duration": 218,
    "start_time": "2024-03-27T11:10:05.934Z"
   },
   {
    "duration": 244,
    "start_time": "2024-03-27T11:10:16.523Z"
   },
   {
    "duration": 1508,
    "start_time": "2024-03-27T11:12:16.166Z"
   },
   {
    "duration": 76,
    "start_time": "2024-03-27T11:12:17.677Z"
   },
   {
    "duration": 20,
    "start_time": "2024-03-27T11:12:17.755Z"
   },
   {
    "duration": 24,
    "start_time": "2024-03-27T11:12:17.777Z"
   },
   {
    "duration": 40,
    "start_time": "2024-03-27T11:12:17.805Z"
   },
   {
    "duration": 22,
    "start_time": "2024-03-27T11:12:17.847Z"
   },
   {
    "duration": 52,
    "start_time": "2024-03-27T11:12:17.872Z"
   },
   {
    "duration": 7,
    "start_time": "2024-03-27T11:12:17.926Z"
   },
   {
    "duration": 8,
    "start_time": "2024-03-27T11:12:17.936Z"
   },
   {
    "duration": 25,
    "start_time": "2024-03-27T11:12:17.946Z"
   },
   {
    "duration": 62,
    "start_time": "2024-03-27T11:12:17.974Z"
   },
   {
    "duration": 31,
    "start_time": "2024-03-27T11:12:18.039Z"
   },
   {
    "duration": 521,
    "start_time": "2024-03-27T11:12:18.072Z"
   },
   {
    "duration": 369,
    "start_time": "2024-03-27T11:12:18.600Z"
   },
   {
    "duration": 246,
    "start_time": "2024-03-27T11:12:18.971Z"
   },
   {
    "duration": 273,
    "start_time": "2024-03-27T11:12:19.220Z"
   },
   {
    "duration": 14,
    "start_time": "2024-03-27T11:12:19.496Z"
   },
   {
    "duration": 244,
    "start_time": "2024-03-27T11:12:19.512Z"
   },
   {
    "duration": 220,
    "start_time": "2024-03-27T11:12:19.759Z"
   },
   {
    "duration": 203,
    "start_time": "2024-03-27T11:12:19.982Z"
   },
   {
    "duration": 289,
    "start_time": "2024-03-27T11:12:20.186Z"
   },
   {
    "duration": 160,
    "start_time": "2024-03-27T11:12:20.477Z"
   },
   {
    "duration": 152,
    "start_time": "2024-03-27T11:12:20.639Z"
   },
   {
    "duration": 14,
    "start_time": "2024-03-27T11:12:20.793Z"
   },
   {
    "duration": 300,
    "start_time": "2024-03-27T11:12:20.811Z"
   },
   {
    "duration": 185,
    "start_time": "2024-03-27T11:12:21.116Z"
   },
   {
    "duration": 19,
    "start_time": "2024-03-27T11:12:21.304Z"
   },
   {
    "duration": 204,
    "start_time": "2024-03-27T11:12:21.325Z"
   },
   {
    "duration": 206,
    "start_time": "2024-03-27T11:12:21.530Z"
   },
   {
    "duration": 9,
    "start_time": "2024-03-27T11:12:21.738Z"
   },
   {
    "duration": 36,
    "start_time": "2024-03-27T11:12:21.749Z"
   },
   {
    "duration": 23,
    "start_time": "2024-03-27T11:12:21.786Z"
   },
   {
    "duration": 37,
    "start_time": "2024-03-27T11:12:21.812Z"
   },
   {
    "duration": 31,
    "start_time": "2024-03-27T11:12:21.852Z"
   },
   {
    "duration": 27,
    "start_time": "2024-03-27T11:12:21.885Z"
   },
   {
    "duration": 251,
    "start_time": "2024-03-27T11:12:21.913Z"
   },
   {
    "duration": 215,
    "start_time": "2024-03-27T11:12:22.166Z"
   },
   {
    "duration": 224,
    "start_time": "2024-03-27T11:12:22.382Z"
   },
   {
    "duration": 124,
    "start_time": "2024-03-27T11:12:22.608Z"
   },
   {
    "duration": 265,
    "start_time": "2024-03-27T11:12:22.734Z"
   },
   {
    "duration": 122,
    "start_time": "2024-03-27T11:12:23.009Z"
   },
   {
    "duration": 124,
    "start_time": "2024-03-27T11:12:23.133Z"
   },
   {
    "duration": 133,
    "start_time": "2024-03-27T11:12:23.258Z"
   },
   {
    "duration": 152,
    "start_time": "2024-03-27T11:12:23.393Z"
   },
   {
    "duration": 15,
    "start_time": "2024-03-27T11:12:23.547Z"
   },
   {
    "duration": 314,
    "start_time": "2024-03-27T11:12:23.563Z"
   },
   {
    "duration": 29,
    "start_time": "2024-03-27T11:12:23.879Z"
   },
   {
    "duration": 47,
    "start_time": "2024-03-27T11:12:23.911Z"
   },
   {
    "duration": 275,
    "start_time": "2024-03-27T11:12:57.768Z"
   },
   {
    "duration": 205,
    "start_time": "2024-03-27T13:35:46.027Z"
   },
   {
    "duration": 109,
    "start_time": "2024-03-27T13:36:05.147Z"
   },
   {
    "duration": 130,
    "start_time": "2024-03-27T13:36:31.214Z"
   },
   {
    "duration": 37,
    "start_time": "2024-03-27T13:36:41.985Z"
   },
   {
    "duration": 195,
    "start_time": "2024-03-27T13:37:04.762Z"
   },
   {
    "duration": 11,
    "start_time": "2024-03-27T13:40:22.648Z"
   },
   {
    "duration": 165,
    "start_time": "2024-03-27T13:40:23.567Z"
   },
   {
    "duration": 307,
    "start_time": "2024-03-27T13:40:23.855Z"
   },
   {
    "duration": 10,
    "start_time": "2024-03-27T13:40:25.730Z"
   },
   {
    "duration": 10,
    "start_time": "2024-03-27T13:40:26.459Z"
   },
   {
    "duration": 13,
    "start_time": "2024-03-27T13:40:28.244Z"
   },
   {
    "duration": 12,
    "start_time": "2024-03-27T13:40:28.770Z"
   },
   {
    "duration": 13,
    "start_time": "2024-03-27T13:40:29.381Z"
   },
   {
    "duration": 11,
    "start_time": "2024-03-27T13:40:29.824Z"
   },
   {
    "duration": 212,
    "start_time": "2024-03-27T13:40:31.880Z"
   },
   {
    "duration": 224,
    "start_time": "2024-03-27T13:40:32.477Z"
   },
   {
    "duration": 176,
    "start_time": "2024-03-27T13:40:33.082Z"
   },
   {
    "duration": 93,
    "start_time": "2024-03-27T13:43:04.444Z"
   },
   {
    "duration": 285,
    "start_time": "2024-03-27T13:43:28.423Z"
   },
   {
    "duration": 311,
    "start_time": "2024-03-27T13:43:55.400Z"
   },
   {
    "duration": 307,
    "start_time": "2024-03-27T13:44:07.499Z"
   },
   {
    "duration": 580,
    "start_time": "2024-03-27T13:44:31.997Z"
   },
   {
    "duration": 351,
    "start_time": "2024-03-27T13:44:41.501Z"
   },
   {
    "duration": 370,
    "start_time": "2024-03-27T13:45:24.029Z"
   },
   {
    "duration": 98,
    "start_time": "2024-03-27T13:57:16.471Z"
   },
   {
    "duration": 1267,
    "start_time": "2024-03-27T14:16:17.928Z"
   },
   {
    "duration": 58,
    "start_time": "2024-03-27T14:16:19.197Z"
   },
   {
    "duration": 20,
    "start_time": "2024-03-27T14:16:19.257Z"
   },
   {
    "duration": 3,
    "start_time": "2024-03-27T14:16:19.280Z"
   },
   {
    "duration": 27,
    "start_time": "2024-03-27T14:16:19.285Z"
   },
   {
    "duration": 32,
    "start_time": "2024-03-27T14:16:19.313Z"
   },
   {
    "duration": 40,
    "start_time": "2024-03-27T14:16:19.346Z"
   },
   {
    "duration": 6,
    "start_time": "2024-03-27T14:16:19.387Z"
   },
   {
    "duration": 8,
    "start_time": "2024-03-27T14:16:19.394Z"
   },
   {
    "duration": 29,
    "start_time": "2024-03-27T14:16:19.405Z"
   },
   {
    "duration": 32,
    "start_time": "2024-03-27T14:16:19.436Z"
   },
   {
    "duration": 23,
    "start_time": "2024-03-27T14:16:19.470Z"
   },
   {
    "duration": 400,
    "start_time": "2024-03-27T14:16:19.495Z"
   },
   {
    "duration": 342,
    "start_time": "2024-03-27T14:16:19.897Z"
   },
   {
    "duration": 222,
    "start_time": "2024-03-27T14:16:20.241Z"
   },
   {
    "duration": 217,
    "start_time": "2024-03-27T14:16:20.465Z"
   },
   {
    "duration": 11,
    "start_time": "2024-03-27T14:16:20.683Z"
   },
   {
    "duration": 186,
    "start_time": "2024-03-27T14:16:20.696Z"
   },
   {
    "duration": 155,
    "start_time": "2024-03-27T14:16:20.891Z"
   },
   {
    "duration": 164,
    "start_time": "2024-03-27T14:16:21.048Z"
   },
   {
    "duration": 253,
    "start_time": "2024-03-27T14:16:21.214Z"
   },
   {
    "duration": 123,
    "start_time": "2024-03-27T14:16:21.470Z"
   },
   {
    "duration": 119,
    "start_time": "2024-03-27T14:16:21.595Z"
   },
   {
    "duration": 7,
    "start_time": "2024-03-27T14:16:21.716Z"
   },
   {
    "duration": 202,
    "start_time": "2024-03-27T14:16:21.725Z"
   },
   {
    "duration": 140,
    "start_time": "2024-03-27T14:16:21.930Z"
   },
   {
    "duration": 20,
    "start_time": "2024-03-27T14:16:22.072Z"
   },
   {
    "duration": 178,
    "start_time": "2024-03-27T14:16:22.097Z"
   },
   {
    "duration": 192,
    "start_time": "2024-03-27T14:16:22.277Z"
   },
   {
    "duration": 21,
    "start_time": "2024-03-27T14:16:22.471Z"
   },
   {
    "duration": 12,
    "start_time": "2024-03-27T14:16:22.493Z"
   },
   {
    "duration": 59,
    "start_time": "2024-03-27T14:16:22.507Z"
   },
   {
    "duration": 34,
    "start_time": "2024-03-27T14:16:22.568Z"
   },
   {
    "duration": 34,
    "start_time": "2024-03-27T14:16:22.603Z"
   },
   {
    "duration": 43,
    "start_time": "2024-03-27T14:16:22.639Z"
   },
   {
    "duration": 196,
    "start_time": "2024-03-27T14:16:22.684Z"
   },
   {
    "duration": 184,
    "start_time": "2024-03-27T14:16:22.882Z"
   },
   {
    "duration": 195,
    "start_time": "2024-03-27T14:16:23.069Z"
   },
   {
    "duration": 450,
    "start_time": "2024-03-27T14:16:23.266Z"
   },
   {
    "duration": 116,
    "start_time": "2024-03-27T14:16:23.718Z"
   },
   {
    "duration": 116,
    "start_time": "2024-03-27T14:16:23.835Z"
   },
   {
    "duration": 132,
    "start_time": "2024-03-27T14:16:23.952Z"
   },
   {
    "duration": 117,
    "start_time": "2024-03-27T14:16:24.091Z"
   },
   {
    "duration": 117,
    "start_time": "2024-03-27T14:16:24.210Z"
   },
   {
    "duration": 118,
    "start_time": "2024-03-27T14:16:24.330Z"
   },
   {
    "duration": 14,
    "start_time": "2024-03-27T14:16:24.451Z"
   },
   {
    "duration": 274,
    "start_time": "2024-03-27T14:16:24.468Z"
   },
   {
    "duration": 19,
    "start_time": "2024-03-27T14:16:24.744Z"
   },
   {
    "duration": 33,
    "start_time": "2024-03-27T14:16:24.765Z"
   },
   {
    "duration": 1322,
    "start_time": "2024-03-27T14:17:57.987Z"
   },
   {
    "duration": 59,
    "start_time": "2024-03-27T14:17:59.596Z"
   },
   {
    "duration": 30,
    "start_time": "2024-03-27T14:18:00.007Z"
   },
   {
    "duration": 3,
    "start_time": "2024-03-27T14:18:01.589Z"
   },
   {
    "duration": 17,
    "start_time": "2024-03-27T14:18:01.999Z"
   },
   {
    "duration": 17,
    "start_time": "2024-03-27T14:18:03.137Z"
   },
   {
    "duration": 26,
    "start_time": "2024-03-27T14:18:06.173Z"
   },
   {
    "duration": 6,
    "start_time": "2024-03-27T14:18:24.272Z"
   },
   {
    "duration": 6,
    "start_time": "2024-03-27T14:18:26.994Z"
   },
   {
    "duration": 17,
    "start_time": "2024-03-27T14:18:30.368Z"
   },
   {
    "duration": 25,
    "start_time": "2024-03-27T14:18:40.871Z"
   },
   {
    "duration": 34,
    "start_time": "2024-03-27T14:19:07.177Z"
   },
   {
    "duration": 33,
    "start_time": "2024-03-27T14:19:21.676Z"
   },
   {
    "duration": 12,
    "start_time": "2024-03-27T14:19:49.839Z"
   },
   {
    "duration": 29,
    "start_time": "2024-03-27T14:19:55.580Z"
   },
   {
    "duration": 3,
    "start_time": "2024-03-27T14:20:06.257Z"
   },
   {
    "duration": 57,
    "start_time": "2024-03-27T14:20:07.233Z"
   },
   {
    "duration": 15,
    "start_time": "2024-03-27T14:20:07.556Z"
   },
   {
    "duration": 4,
    "start_time": "2024-03-27T14:20:07.978Z"
   },
   {
    "duration": 15,
    "start_time": "2024-03-27T14:20:08.352Z"
   },
   {
    "duration": 16,
    "start_time": "2024-03-27T14:20:08.628Z"
   },
   {
    "duration": 30,
    "start_time": "2024-03-27T14:20:08.978Z"
   },
   {
    "duration": 5,
    "start_time": "2024-03-27T14:20:10.908Z"
   },
   {
    "duration": 6,
    "start_time": "2024-03-27T14:20:11.176Z"
   },
   {
    "duration": 17,
    "start_time": "2024-03-27T14:20:12.243Z"
   },
   {
    "duration": 26,
    "start_time": "2024-03-27T14:20:13.335Z"
   },
   {
    "duration": 11,
    "start_time": "2024-03-27T14:20:18.689Z"
   },
   {
    "duration": 24,
    "start_time": "2024-03-27T14:20:23.522Z"
   },
   {
    "duration": 384,
    "start_time": "2024-03-27T14:21:23.604Z"
   },
   {
    "duration": 315,
    "start_time": "2024-03-27T14:21:25.404Z"
   },
   {
    "duration": 233,
    "start_time": "2024-03-27T14:21:26.243Z"
   },
   {
    "duration": 238,
    "start_time": "2024-03-27T14:21:26.725Z"
   },
   {
    "duration": 6,
    "start_time": "2024-03-27T14:21:29.168Z"
   },
   {
    "duration": 185,
    "start_time": "2024-03-27T14:21:30.604Z"
   },
   {
    "duration": 181,
    "start_time": "2024-03-27T14:21:31.483Z"
   },
   {
    "duration": 155,
    "start_time": "2024-03-27T14:21:32.328Z"
   },
   {
    "duration": 260,
    "start_time": "2024-03-27T14:21:33.145Z"
   },
   {
    "duration": 122,
    "start_time": "2024-03-27T14:21:36.949Z"
   },
   {
    "duration": 128,
    "start_time": "2024-03-27T14:21:37.778Z"
   },
   {
    "duration": 8,
    "start_time": "2024-03-27T14:21:41.718Z"
   },
   {
    "duration": 192,
    "start_time": "2024-03-27T14:21:52.419Z"
   },
   {
    "duration": 126,
    "start_time": "2024-03-27T14:21:58.549Z"
   },
   {
    "duration": 10,
    "start_time": "2024-03-27T14:22:10.649Z"
   },
   {
    "duration": 175,
    "start_time": "2024-03-27T14:22:11.214Z"
   },
   {
    "duration": 203,
    "start_time": "2024-03-27T14:22:12.071Z"
   },
   {
    "duration": 13,
    "start_time": "2024-03-27T14:22:12.495Z"
   },
   {
    "duration": 9,
    "start_time": "2024-03-27T14:22:13.448Z"
   },
   {
    "duration": 10,
    "start_time": "2024-03-27T14:22:14.816Z"
   },
   {
    "duration": 9,
    "start_time": "2024-03-27T14:22:15.209Z"
   },
   {
    "duration": 9,
    "start_time": "2024-03-27T14:22:15.851Z"
   },
   {
    "duration": 9,
    "start_time": "2024-03-27T14:22:16.411Z"
   },
   {
    "duration": 193,
    "start_time": "2024-03-27T14:22:18.128Z"
   },
   {
    "duration": 208,
    "start_time": "2024-03-27T14:22:18.495Z"
   },
   {
    "duration": 195,
    "start_time": "2024-03-27T14:22:19.459Z"
   },
   {
    "duration": 453,
    "start_time": "2024-03-27T14:22:32.116Z"
   },
   {
    "duration": 112,
    "start_time": "2024-03-27T14:22:40.298Z"
   },
   {
    "duration": 108,
    "start_time": "2024-03-27T14:22:40.704Z"
   },
   {
    "duration": 130,
    "start_time": "2024-03-27T14:22:40.878Z"
   },
   {
    "duration": 126,
    "start_time": "2024-03-27T14:22:42.684Z"
   },
   {
    "duration": 115,
    "start_time": "2024-03-27T14:22:43.108Z"
   },
   {
    "duration": 113,
    "start_time": "2024-03-27T14:22:43.568Z"
   },
   {
    "duration": 14,
    "start_time": "2024-03-27T14:22:44.908Z"
   },
   {
    "duration": 278,
    "start_time": "2024-03-27T14:22:45.929Z"
   },
   {
    "duration": 121,
    "start_time": "2024-03-27T14:23:44.622Z"
   },
   {
    "duration": 126,
    "start_time": "2024-03-27T14:23:49.798Z"
   },
   {
    "duration": 112,
    "start_time": "2024-03-27T14:23:55.092Z"
   },
   {
    "duration": 113,
    "start_time": "2024-03-27T14:23:58.866Z"
   },
   {
    "duration": 112,
    "start_time": "2024-03-27T14:24:03.968Z"
   },
   {
    "duration": 223,
    "start_time": "2024-03-27T14:24:16.326Z"
   },
   {
    "duration": 12,
    "start_time": "2024-03-27T14:24:24.456Z"
   },
   {
    "duration": 204,
    "start_time": "2024-03-27T14:24:37.421Z"
   },
   {
    "duration": 18,
    "start_time": "2024-03-27T14:28:45.624Z"
   },
   {
    "duration": 12,
    "start_time": "2024-03-27T14:28:46.767Z"
   },
   {
    "duration": 1362,
    "start_time": "2024-03-27T14:32:04.686Z"
   },
   {
    "duration": 69,
    "start_time": "2024-03-27T14:32:06.050Z"
   },
   {
    "duration": 24,
    "start_time": "2024-03-27T14:32:06.121Z"
   },
   {
    "duration": 9,
    "start_time": "2024-03-27T14:32:06.147Z"
   },
   {
    "duration": 34,
    "start_time": "2024-03-27T14:32:06.157Z"
   },
   {
    "duration": 24,
    "start_time": "2024-03-27T14:32:06.194Z"
   },
   {
    "duration": 26,
    "start_time": "2024-03-27T14:32:06.219Z"
   },
   {
    "duration": 18,
    "start_time": "2024-03-27T14:32:06.247Z"
   },
   {
    "duration": 17,
    "start_time": "2024-03-27T14:32:06.266Z"
   },
   {
    "duration": 52,
    "start_time": "2024-03-27T14:32:06.286Z"
   },
   {
    "duration": 46,
    "start_time": "2024-03-27T14:32:06.340Z"
   },
   {
    "duration": 10,
    "start_time": "2024-03-27T14:32:06.387Z"
   },
   {
    "duration": 407,
    "start_time": "2024-03-27T14:32:06.399Z"
   },
   {
    "duration": 372,
    "start_time": "2024-03-27T14:32:06.808Z"
   },
   {
    "duration": 266,
    "start_time": "2024-03-27T14:32:07.181Z"
   },
   {
    "duration": 232,
    "start_time": "2024-03-27T14:32:07.449Z"
   },
   {
    "duration": 13,
    "start_time": "2024-03-27T14:32:07.683Z"
   },
   {
    "duration": 208,
    "start_time": "2024-03-27T14:32:07.697Z"
   },
   {
    "duration": 163,
    "start_time": "2024-03-27T14:32:07.907Z"
   },
   {
    "duration": 155,
    "start_time": "2024-03-27T14:32:08.072Z"
   },
   {
    "duration": 242,
    "start_time": "2024-03-27T14:32:08.229Z"
   },
   {
    "duration": 121,
    "start_time": "2024-03-27T14:32:08.473Z"
   },
   {
    "duration": 126,
    "start_time": "2024-03-27T14:32:08.596Z"
   },
   {
    "duration": 8,
    "start_time": "2024-03-27T14:32:08.724Z"
   },
   {
    "duration": 216,
    "start_time": "2024-03-27T14:32:08.733Z"
   },
   {
    "duration": 134,
    "start_time": "2024-03-27T14:32:08.951Z"
   },
   {
    "duration": 10,
    "start_time": "2024-03-27T14:32:09.091Z"
   },
   {
    "duration": 172,
    "start_time": "2024-03-27T14:32:09.105Z"
   },
   {
    "duration": 169,
    "start_time": "2024-03-27T14:32:09.279Z"
   },
   {
    "duration": 8,
    "start_time": "2024-03-27T14:32:09.450Z"
   },
   {
    "duration": 26,
    "start_time": "2024-03-27T14:32:09.460Z"
   },
   {
    "duration": 32,
    "start_time": "2024-03-27T14:32:09.493Z"
   },
   {
    "duration": 13,
    "start_time": "2024-03-27T14:32:09.527Z"
   },
   {
    "duration": 37,
    "start_time": "2024-03-27T14:32:09.541Z"
   },
   {
    "duration": 25,
    "start_time": "2024-03-27T14:32:09.580Z"
   },
   {
    "duration": 211,
    "start_time": "2024-03-27T14:32:09.607Z"
   },
   {
    "duration": 262,
    "start_time": "2024-03-27T14:32:09.821Z"
   },
   {
    "duration": 191,
    "start_time": "2024-03-27T14:32:10.086Z"
   },
   {
    "duration": 427,
    "start_time": "2024-03-27T14:32:10.279Z"
   },
   {
    "duration": 122,
    "start_time": "2024-03-27T14:32:10.708Z"
   },
   {
    "duration": 110,
    "start_time": "2024-03-27T14:32:10.832Z"
   },
   {
    "duration": 110,
    "start_time": "2024-03-27T14:32:10.943Z"
   },
   {
    "duration": 124,
    "start_time": "2024-03-27T14:32:11.055Z"
   },
   {
    "duration": 121,
    "start_time": "2024-03-27T14:32:11.180Z"
   },
   {
    "duration": 120,
    "start_time": "2024-03-27T14:32:11.303Z"
   },
   {
    "duration": 11,
    "start_time": "2024-03-27T14:32:11.425Z"
   },
   {
    "duration": 234,
    "start_time": "2024-03-27T14:32:11.438Z"
   },
   {
    "duration": 20,
    "start_time": "2024-03-27T14:32:11.675Z"
   },
   {
    "duration": 11,
    "start_time": "2024-03-27T14:32:11.697Z"
   },
   {
    "duration": 1279,
    "start_time": "2024-03-27T14:45:11.100Z"
   },
   {
    "duration": 57,
    "start_time": "2024-03-27T14:45:12.381Z"
   },
   {
    "duration": 18,
    "start_time": "2024-03-27T14:45:12.440Z"
   },
   {
    "duration": 3,
    "start_time": "2024-03-27T14:45:12.460Z"
   },
   {
    "duration": 40,
    "start_time": "2024-03-27T14:45:12.464Z"
   },
   {
    "duration": 30,
    "start_time": "2024-03-27T14:45:12.506Z"
   },
   {
    "duration": 43,
    "start_time": "2024-03-27T14:45:12.538Z"
   },
   {
    "duration": 7,
    "start_time": "2024-03-27T14:45:12.583Z"
   },
   {
    "duration": 22,
    "start_time": "2024-03-27T14:45:12.591Z"
   },
   {
    "duration": 37,
    "start_time": "2024-03-27T14:45:12.616Z"
   },
   {
    "duration": 38,
    "start_time": "2024-03-27T14:45:12.655Z"
   },
   {
    "duration": 10,
    "start_time": "2024-03-27T14:45:12.694Z"
   },
   {
    "duration": 411,
    "start_time": "2024-03-27T14:45:12.706Z"
   },
   {
    "duration": 320,
    "start_time": "2024-03-27T14:45:13.119Z"
   },
   {
    "duration": 217,
    "start_time": "2024-03-27T14:45:13.441Z"
   },
   {
    "duration": 217,
    "start_time": "2024-03-27T14:45:13.660Z"
   },
   {
    "duration": 15,
    "start_time": "2024-03-27T14:45:13.879Z"
   },
   {
    "duration": 206,
    "start_time": "2024-03-27T14:45:13.896Z"
   },
   {
    "duration": 167,
    "start_time": "2024-03-27T14:45:14.108Z"
   },
   {
    "duration": 168,
    "start_time": "2024-03-27T14:45:14.278Z"
   },
   {
    "duration": 253,
    "start_time": "2024-03-27T14:45:14.448Z"
   },
   {
    "duration": 133,
    "start_time": "2024-03-27T14:45:14.703Z"
   },
   {
    "duration": 124,
    "start_time": "2024-03-27T14:45:14.837Z"
   },
   {
    "duration": 8,
    "start_time": "2024-03-27T14:45:14.962Z"
   },
   {
    "duration": 210,
    "start_time": "2024-03-27T14:45:14.972Z"
   },
   {
    "duration": 123,
    "start_time": "2024-03-27T14:45:15.184Z"
   },
   {
    "duration": 28,
    "start_time": "2024-03-27T14:45:15.309Z"
   },
   {
    "duration": 182,
    "start_time": "2024-03-27T14:45:15.340Z"
   },
   {
    "duration": 184,
    "start_time": "2024-03-27T14:45:15.524Z"
   },
   {
    "duration": 10,
    "start_time": "2024-03-27T14:45:15.710Z"
   },
   {
    "duration": 59,
    "start_time": "2024-03-27T14:45:15.721Z"
   },
   {
    "duration": 28,
    "start_time": "2024-03-27T14:45:15.782Z"
   },
   {
    "duration": 26,
    "start_time": "2024-03-27T14:45:15.812Z"
   },
   {
    "duration": 27,
    "start_time": "2024-03-27T14:45:15.840Z"
   },
   {
    "duration": 14,
    "start_time": "2024-03-27T14:45:15.869Z"
   },
   {
    "duration": 182,
    "start_time": "2024-03-27T14:45:15.885Z"
   },
   {
    "duration": 195,
    "start_time": "2024-03-27T14:45:16.069Z"
   },
   {
    "duration": 185,
    "start_time": "2024-03-27T14:45:16.265Z"
   },
   {
    "duration": 427,
    "start_time": "2024-03-27T14:45:16.452Z"
   },
   {
    "duration": 125,
    "start_time": "2024-03-27T14:45:16.881Z"
   },
   {
    "duration": 132,
    "start_time": "2024-03-27T14:45:17.008Z"
   },
   {
    "duration": 118,
    "start_time": "2024-03-27T14:45:17.142Z"
   },
   {
    "duration": 120,
    "start_time": "2024-03-27T14:45:17.262Z"
   },
   {
    "duration": 116,
    "start_time": "2024-03-27T14:45:17.392Z"
   },
   {
    "duration": 135,
    "start_time": "2024-03-27T14:45:17.510Z"
   },
   {
    "duration": 13,
    "start_time": "2024-03-27T14:45:17.646Z"
   },
   {
    "duration": 223,
    "start_time": "2024-03-27T14:45:17.661Z"
   },
   {
    "duration": 15,
    "start_time": "2024-03-27T14:45:17.891Z"
   },
   {
    "duration": 37,
    "start_time": "2024-03-27T14:45:17.907Z"
   },
   {
    "duration": 1386,
    "start_time": "2024-03-27T16:21:09.891Z"
   },
   {
    "duration": 108,
    "start_time": "2024-03-27T16:21:11.278Z"
   },
   {
    "duration": 17,
    "start_time": "2024-03-27T16:21:11.388Z"
   },
   {
    "duration": 4,
    "start_time": "2024-03-27T16:21:11.407Z"
   },
   {
    "duration": 20,
    "start_time": "2024-03-27T16:21:11.412Z"
   },
   {
    "duration": 18,
    "start_time": "2024-03-27T16:21:11.434Z"
   },
   {
    "duration": 24,
    "start_time": "2024-03-27T16:21:11.459Z"
   },
   {
    "duration": 13,
    "start_time": "2024-03-27T16:21:11.485Z"
   },
   {
    "duration": 15,
    "start_time": "2024-03-27T16:21:11.500Z"
   },
   {
    "duration": 33,
    "start_time": "2024-03-27T16:21:11.518Z"
   },
   {
    "duration": 39,
    "start_time": "2024-03-27T16:21:11.553Z"
   },
   {
    "duration": 11,
    "start_time": "2024-03-27T16:21:11.594Z"
   },
   {
    "duration": 361,
    "start_time": "2024-03-27T16:21:11.607Z"
   },
   {
    "duration": 299,
    "start_time": "2024-03-27T16:21:11.970Z"
   },
   {
    "duration": 191,
    "start_time": "2024-03-27T16:21:12.270Z"
   },
   {
    "duration": 199,
    "start_time": "2024-03-27T16:21:12.462Z"
   },
   {
    "duration": 6,
    "start_time": "2024-03-27T16:21:12.663Z"
   },
   {
    "duration": 194,
    "start_time": "2024-03-27T16:21:12.671Z"
   },
   {
    "duration": 152,
    "start_time": "2024-03-27T16:21:12.867Z"
   },
   {
    "duration": 156,
    "start_time": "2024-03-27T16:21:13.021Z"
   },
   {
    "duration": 217,
    "start_time": "2024-03-27T16:21:13.179Z"
   },
   {
    "duration": 113,
    "start_time": "2024-03-27T16:21:13.397Z"
   },
   {
    "duration": 113,
    "start_time": "2024-03-27T16:21:13.512Z"
   },
   {
    "duration": 7,
    "start_time": "2024-03-27T16:21:13.627Z"
   },
   {
    "duration": 187,
    "start_time": "2024-03-27T16:21:13.636Z"
   },
   {
    "duration": 123,
    "start_time": "2024-03-27T16:21:13.825Z"
   },
   {
    "duration": 15,
    "start_time": "2024-03-27T16:21:13.949Z"
   },
   {
    "duration": 161,
    "start_time": "2024-03-27T16:21:13.967Z"
   },
   {
    "duration": 170,
    "start_time": "2024-03-27T16:21:14.130Z"
   },
   {
    "duration": 9,
    "start_time": "2024-03-27T16:21:14.301Z"
   },
   {
    "duration": 8,
    "start_time": "2024-03-27T16:21:14.312Z"
   },
   {
    "duration": 7,
    "start_time": "2024-03-27T16:21:14.322Z"
   },
   {
    "duration": 29,
    "start_time": "2024-03-27T16:21:14.331Z"
   },
   {
    "duration": 16,
    "start_time": "2024-03-27T16:21:14.362Z"
   },
   {
    "duration": 8,
    "start_time": "2024-03-27T16:21:14.380Z"
   },
   {
    "duration": 189,
    "start_time": "2024-03-27T16:21:14.389Z"
   },
   {
    "duration": 181,
    "start_time": "2024-03-27T16:21:14.579Z"
   },
   {
    "duration": 168,
    "start_time": "2024-03-27T16:21:14.762Z"
   },
   {
    "duration": 382,
    "start_time": "2024-03-27T16:21:14.931Z"
   },
   {
    "duration": 110,
    "start_time": "2024-03-27T16:21:15.315Z"
   },
   {
    "duration": 106,
    "start_time": "2024-03-27T16:21:15.426Z"
   },
   {
    "duration": 111,
    "start_time": "2024-03-27T16:21:15.533Z"
   },
   {
    "duration": 119,
    "start_time": "2024-03-27T16:21:15.646Z"
   },
   {
    "duration": 107,
    "start_time": "2024-03-27T16:21:15.767Z"
   },
   {
    "duration": 112,
    "start_time": "2024-03-27T16:21:15.876Z"
   },
   {
    "duration": 11,
    "start_time": "2024-03-27T16:21:15.990Z"
   },
   {
    "duration": 223,
    "start_time": "2024-03-27T16:21:16.003Z"
   },
   {
    "duration": 14,
    "start_time": "2024-03-27T16:21:16.228Z"
   },
   {
    "duration": 27,
    "start_time": "2024-03-27T16:21:16.243Z"
   }
  ],
  "kernelspec": {
   "display_name": "Python 3 (ipykernel)",
   "language": "python",
   "name": "python3"
  },
  "language_info": {
   "codemirror_mode": {
    "name": "ipython",
    "version": 3
   },
   "file_extension": ".py",
   "mimetype": "text/x-python",
   "name": "python",
   "nbconvert_exporter": "python",
   "pygments_lexer": "ipython3",
   "version": "3.11.4"
  },
  "toc": {
   "base_numbering": 1,
   "nav_menu": {},
   "number_sections": true,
   "sideBar": true,
   "skip_h1_title": true,
   "title_cell": "Table of Contents",
   "title_sidebar": "Contents",
   "toc_cell": false,
   "toc_position": {},
   "toc_section_display": true,
   "toc_window_display": true
  }
 },
 "nbformat": 4,
 "nbformat_minor": 2
}
