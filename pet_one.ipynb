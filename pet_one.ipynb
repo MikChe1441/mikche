{
 "cells": [
  {
   "cell_type": "markdown",
   "metadata": {
    "id": "-VFbjcb3Awb7"
   },
   "source": [
    "# Исследование объявлений о продаже квартир\n",
    "\n",
    "В вашем распоряжении данные сервиса Яндекс Недвижимость — архив объявлений о продаже квартир в Санкт-Петербурге и соседних населённых пунктах за несколько лет. Вам нужно научиться определять рыночную стоимость объектов недвижимости. Для этого проведите исследовательский анализ данных и установите параметры, влияющие на цену объектов. Это позволит построить автоматизированную систему: она отследит аномалии и мошенническую деятельность.\n",
    "\n",
    "По каждой квартире на продажу доступны два вида данных. Первые вписаны пользователем, вторые — получены автоматически на основе картографических данных. Например, расстояние до центра, аэропорта и других объектов — эти данные автоматически получены из геосервисов. Количество парков и водоёмов также заполняется без участия пользователя."
   ]
  },
  {
   "cell_type": "code",
   "execution_count": 1,
   "metadata": {},
   "outputs": [],
   "source": [
    "import pandas as pd\n",
    "import matplotlib.pyplot as plt\n",
    "import seaborn as sns"
   ]
  },
  {
   "cell_type": "code",
   "execution_count": 2,
   "metadata": {
    "id": "7MZxY65pAwb9"
   },
   "outputs": [
    {
     "data": {
      "text/html": [
       "<div>\n",
       "<style scoped>\n",
       "    .dataframe tbody tr th:only-of-type {\n",
       "        vertical-align: middle;\n",
       "    }\n",
       "\n",
       "    .dataframe tbody tr th {\n",
       "        vertical-align: top;\n",
       "    }\n",
       "\n",
       "    .dataframe thead th {\n",
       "        text-align: right;\n",
       "    }\n",
       "</style>\n",
       "<table border=\"1\" class=\"dataframe\">\n",
       "  <thead>\n",
       "    <tr style=\"text-align: right;\">\n",
       "      <th></th>\n",
       "      <th>total_images</th>\n",
       "      <th>last_price</th>\n",
       "      <th>total_area</th>\n",
       "      <th>first_day_exposition</th>\n",
       "      <th>rooms</th>\n",
       "      <th>ceiling_height</th>\n",
       "      <th>floors_total</th>\n",
       "      <th>living_area</th>\n",
       "      <th>floor</th>\n",
       "      <th>is_apartment</th>\n",
       "      <th>...</th>\n",
       "      <th>kitchen_area</th>\n",
       "      <th>balcony</th>\n",
       "      <th>locality_name</th>\n",
       "      <th>airports_nearest</th>\n",
       "      <th>cityCenters_nearest</th>\n",
       "      <th>parks_around3000</th>\n",
       "      <th>parks_nearest</th>\n",
       "      <th>ponds_around3000</th>\n",
       "      <th>ponds_nearest</th>\n",
       "      <th>days_exposition</th>\n",
       "    </tr>\n",
       "  </thead>\n",
       "  <tbody>\n",
       "    <tr>\n",
       "      <th>0</th>\n",
       "      <td>20</td>\n",
       "      <td>13000000.0</td>\n",
       "      <td>108.0</td>\n",
       "      <td>2019-03-07T00:00:00</td>\n",
       "      <td>3</td>\n",
       "      <td>2.70</td>\n",
       "      <td>16.0</td>\n",
       "      <td>51.0</td>\n",
       "      <td>8</td>\n",
       "      <td>NaN</td>\n",
       "      <td>...</td>\n",
       "      <td>25.0</td>\n",
       "      <td>NaN</td>\n",
       "      <td>Санкт-Петербург</td>\n",
       "      <td>18863.0</td>\n",
       "      <td>16028.0</td>\n",
       "      <td>1.0</td>\n",
       "      <td>482.0</td>\n",
       "      <td>2.0</td>\n",
       "      <td>755.0</td>\n",
       "      <td>NaN</td>\n",
       "    </tr>\n",
       "    <tr>\n",
       "      <th>1</th>\n",
       "      <td>7</td>\n",
       "      <td>3350000.0</td>\n",
       "      <td>40.4</td>\n",
       "      <td>2018-12-04T00:00:00</td>\n",
       "      <td>1</td>\n",
       "      <td>NaN</td>\n",
       "      <td>11.0</td>\n",
       "      <td>18.6</td>\n",
       "      <td>1</td>\n",
       "      <td>NaN</td>\n",
       "      <td>...</td>\n",
       "      <td>11.0</td>\n",
       "      <td>2.0</td>\n",
       "      <td>посёлок Шушары</td>\n",
       "      <td>12817.0</td>\n",
       "      <td>18603.0</td>\n",
       "      <td>0.0</td>\n",
       "      <td>NaN</td>\n",
       "      <td>0.0</td>\n",
       "      <td>NaN</td>\n",
       "      <td>81.0</td>\n",
       "    </tr>\n",
       "    <tr>\n",
       "      <th>2</th>\n",
       "      <td>10</td>\n",
       "      <td>5196000.0</td>\n",
       "      <td>56.0</td>\n",
       "      <td>2015-08-20T00:00:00</td>\n",
       "      <td>2</td>\n",
       "      <td>NaN</td>\n",
       "      <td>5.0</td>\n",
       "      <td>34.3</td>\n",
       "      <td>4</td>\n",
       "      <td>NaN</td>\n",
       "      <td>...</td>\n",
       "      <td>8.3</td>\n",
       "      <td>0.0</td>\n",
       "      <td>Санкт-Петербург</td>\n",
       "      <td>21741.0</td>\n",
       "      <td>13933.0</td>\n",
       "      <td>1.0</td>\n",
       "      <td>90.0</td>\n",
       "      <td>2.0</td>\n",
       "      <td>574.0</td>\n",
       "      <td>558.0</td>\n",
       "    </tr>\n",
       "    <tr>\n",
       "      <th>3</th>\n",
       "      <td>0</td>\n",
       "      <td>64900000.0</td>\n",
       "      <td>159.0</td>\n",
       "      <td>2015-07-24T00:00:00</td>\n",
       "      <td>3</td>\n",
       "      <td>NaN</td>\n",
       "      <td>14.0</td>\n",
       "      <td>NaN</td>\n",
       "      <td>9</td>\n",
       "      <td>NaN</td>\n",
       "      <td>...</td>\n",
       "      <td>NaN</td>\n",
       "      <td>0.0</td>\n",
       "      <td>Санкт-Петербург</td>\n",
       "      <td>28098.0</td>\n",
       "      <td>6800.0</td>\n",
       "      <td>2.0</td>\n",
       "      <td>84.0</td>\n",
       "      <td>3.0</td>\n",
       "      <td>234.0</td>\n",
       "      <td>424.0</td>\n",
       "    </tr>\n",
       "    <tr>\n",
       "      <th>4</th>\n",
       "      <td>2</td>\n",
       "      <td>10000000.0</td>\n",
       "      <td>100.0</td>\n",
       "      <td>2018-06-19T00:00:00</td>\n",
       "      <td>2</td>\n",
       "      <td>3.03</td>\n",
       "      <td>14.0</td>\n",
       "      <td>32.0</td>\n",
       "      <td>13</td>\n",
       "      <td>NaN</td>\n",
       "      <td>...</td>\n",
       "      <td>41.0</td>\n",
       "      <td>NaN</td>\n",
       "      <td>Санкт-Петербург</td>\n",
       "      <td>31856.0</td>\n",
       "      <td>8098.0</td>\n",
       "      <td>2.0</td>\n",
       "      <td>112.0</td>\n",
       "      <td>1.0</td>\n",
       "      <td>48.0</td>\n",
       "      <td>121.0</td>\n",
       "    </tr>\n",
       "  </tbody>\n",
       "</table>\n",
       "<p>5 rows × 22 columns</p>\n",
       "</div>"
      ],
      "text/plain": [
       "   total_images  last_price  total_area first_day_exposition  rooms  \\\n",
       "0            20  13000000.0       108.0  2019-03-07T00:00:00      3   \n",
       "1             7   3350000.0        40.4  2018-12-04T00:00:00      1   \n",
       "2            10   5196000.0        56.0  2015-08-20T00:00:00      2   \n",
       "3             0  64900000.0       159.0  2015-07-24T00:00:00      3   \n",
       "4             2  10000000.0       100.0  2018-06-19T00:00:00      2   \n",
       "\n",
       "   ceiling_height  floors_total  living_area  floor is_apartment  ...  \\\n",
       "0            2.70          16.0         51.0      8          NaN  ...   \n",
       "1             NaN          11.0         18.6      1          NaN  ...   \n",
       "2             NaN           5.0         34.3      4          NaN  ...   \n",
       "3             NaN          14.0          NaN      9          NaN  ...   \n",
       "4            3.03          14.0         32.0     13          NaN  ...   \n",
       "\n",
       "   kitchen_area  balcony    locality_name  airports_nearest  \\\n",
       "0          25.0      NaN  Санкт-Петербург           18863.0   \n",
       "1          11.0      2.0   посёлок Шушары           12817.0   \n",
       "2           8.3      0.0  Санкт-Петербург           21741.0   \n",
       "3           NaN      0.0  Санкт-Петербург           28098.0   \n",
       "4          41.0      NaN  Санкт-Петербург           31856.0   \n",
       "\n",
       "  cityCenters_nearest  parks_around3000  parks_nearest  ponds_around3000  \\\n",
       "0             16028.0               1.0          482.0               2.0   \n",
       "1             18603.0               0.0            NaN               0.0   \n",
       "2             13933.0               1.0           90.0               2.0   \n",
       "3              6800.0               2.0           84.0               3.0   \n",
       "4              8098.0               2.0          112.0               1.0   \n",
       "\n",
       "   ponds_nearest  days_exposition  \n",
       "0          755.0              NaN  \n",
       "1            NaN             81.0  \n",
       "2          574.0            558.0  \n",
       "3          234.0            424.0  \n",
       "4           48.0            121.0  \n",
       "\n",
       "[5 rows x 22 columns]"
      ]
     },
     "execution_count": 2,
     "metadata": {},
     "output_type": "execute_result"
    }
   ],
   "source": [
    "\n",
    "data = pd.read_csv('/datasets/real_estate_data.csv', sep = '\\t')\n",
    "data.head()"
   ]
  },
  {
   "cell_type": "code",
   "execution_count": 3,
   "metadata": {},
   "outputs": [
    {
     "name": "stdout",
     "output_type": "stream",
     "text": [
      "<class 'pandas.core.frame.DataFrame'>\n",
      "RangeIndex: 23699 entries, 0 to 23698\n",
      "Data columns (total 22 columns):\n",
      " #   Column                Non-Null Count  Dtype  \n",
      "---  ------                --------------  -----  \n",
      " 0   total_images          23699 non-null  int64  \n",
      " 1   last_price            23699 non-null  float64\n",
      " 2   total_area            23699 non-null  float64\n",
      " 3   first_day_exposition  23699 non-null  object \n",
      " 4   rooms                 23699 non-null  int64  \n",
      " 5   ceiling_height        14504 non-null  float64\n",
      " 6   floors_total          23613 non-null  float64\n",
      " 7   living_area           21796 non-null  float64\n",
      " 8   floor                 23699 non-null  int64  \n",
      " 9   is_apartment          2775 non-null   object \n",
      " 10  studio                23699 non-null  bool   \n",
      " 11  open_plan             23699 non-null  bool   \n",
      " 12  kitchen_area          21421 non-null  float64\n",
      " 13  balcony               12180 non-null  float64\n",
      " 14  locality_name         23650 non-null  object \n",
      " 15  airports_nearest      18157 non-null  float64\n",
      " 16  cityCenters_nearest   18180 non-null  float64\n",
      " 17  parks_around3000      18181 non-null  float64\n",
      " 18  parks_nearest         8079 non-null   float64\n",
      " 19  ponds_around3000      18181 non-null  float64\n",
      " 20  ponds_nearest         9110 non-null   float64\n",
      " 21  days_exposition       20518 non-null  float64\n",
      "dtypes: bool(2), float64(14), int64(3), object(3)\n",
      "memory usage: 3.7+ MB\n"
     ]
    }
   ],
   "source": [
    "data.info()"
   ]
  },
  {
   "cell_type": "code",
   "execution_count": 4,
   "metadata": {},
   "outputs": [
    {
     "data": {
      "image/png": "[encoded data removed]",
      "text/plain": [
       "<Figure size 1080x1440 with 20 Axes>"
      ]
     },
     "metadata": {
      "needs_background": "light"
     },
     "output_type": "display_data"
    }
   ],
   "source": [
    "data.hist(figsize = (15,20));\n"
   ]
  },
  {
   "cell_type": "markdown",
   "metadata": {},
   "source": [
    "Для большинства параметров существует понятное распределение значений, к примеру количество картинок, ближайшие аэропорты или парки и другие, но у некоторых показателей существуют очень большие выбросы к примеру высота потолков(ошибка данных), разброс цены, общая площадь или количество комнат, имеют один пик в узком диапазоне значений и малое количество объявлений с очень сильно отличаются значения от самых часто встречающихся"
   ]
  },
  {
   "cell_type": "code",
   "execution_count": 5,
   "metadata": {},
   "outputs": [
    {
     "data": {
      "text/plain": [
       "total_images                0\n",
       "last_price                  0\n",
       "total_area                  0\n",
       "first_day_exposition        0\n",
       "rooms                       0\n",
       "ceiling_height           9195\n",
       "floors_total               86\n",
       "living_area              1903\n",
       "floor                       0\n",
       "is_apartment            20924\n",
       "studio                      0\n",
       "open_plan                   0\n",
       "kitchen_area             2278\n",
       "balcony                 11519\n",
       "locality_name              49\n",
       "airports_nearest         5542\n",
       "cityCenters_nearest      5519\n",
       "parks_around3000         5518\n",
       "parks_nearest           15620\n",
       "ponds_around3000         5518\n",
       "ponds_nearest           14589\n",
       "days_exposition          3181\n",
       "dtype: int64"
      ]
     },
     "execution_count": 5,
     "metadata": {},
     "output_type": "execute_result"
    }
   ],
   "source": [
    "data.isna().sum()"
   ]
  },
  {
   "cell_type": "code",
   "execution_count": 6,
   "metadata": {},
   "outputs": [
    {
     "data": {
      "text/html": [
       "<style  type=\"text/css\" >\n",
       "#T_db88e_row0_col0,#T_db88e_row1_col0,#T_db88e_row2_col0,#T_db88e_row3_col0,#T_db88e_row4_col0,#T_db88e_row6_col0,#T_db88e_row8_col0,#T_db88e_row10_col0,#T_db88e_row11_col0,#T_db88e_row14_col0{\n",
       "            background-color:  #3b4cc0;\n",
       "            color:  #f1f1f1;\n",
       "        }#T_db88e_row5_col0{\n",
       "            background-color:  #cdd9ec;\n",
       "            color:  #000000;\n",
       "        }#T_db88e_row7_col0{\n",
       "            background-color:  #5673e0;\n",
       "            color:  #000000;\n",
       "        }#T_db88e_row9_col0{\n",
       "            background-color:  #b40426;\n",
       "            color:  #f1f1f1;\n",
       "        }#T_db88e_row12_col0{\n",
       "            background-color:  #5e7de7;\n",
       "            color:  #000000;\n",
       "        }#T_db88e_row13_col0{\n",
       "            background-color:  #ead4c8;\n",
       "            color:  #000000;\n",
       "        }#T_db88e_row15_col0,#T_db88e_row16_col0,#T_db88e_row17_col0,#T_db88e_row19_col0{\n",
       "            background-color:  #90b2fe;\n",
       "            color:  #000000;\n",
       "        }#T_db88e_row18_col0{\n",
       "            background-color:  #f4987a;\n",
       "            color:  #000000;\n",
       "        }#T_db88e_row20_col0{\n",
       "            background-color:  #f7aa8c;\n",
       "            color:  #000000;\n",
       "        }#T_db88e_row21_col0{\n",
       "            background-color:  #688aef;\n",
       "            color:  #000000;\n",
       "        }</style><table id=\"T_db88e_\" ><thead>    <tr>        <th class=\"blank level0\" ></th>        <th class=\"col_heading level0 col0\" >0</th>    </tr></thead><tbody>\n",
       "                <tr>\n",
       "                        <th id=\"T_db88e_level0_row0\" class=\"row_heading level0 row0\" >total_images</th>\n",
       "                        <td id=\"T_db88e_row0_col0\" class=\"data row0 col0\" >0.000000</td>\n",
       "            </tr>\n",
       "            <tr>\n",
       "                        <th id=\"T_db88e_level0_row1\" class=\"row_heading level0 row1\" >last_price</th>\n",
       "                        <td id=\"T_db88e_row1_col0\" class=\"data row1 col0\" >0.000000</td>\n",
       "            </tr>\n",
       "            <tr>\n",
       "                        <th id=\"T_db88e_level0_row2\" class=\"row_heading level0 row2\" >total_area</th>\n",
       "                        <td id=\"T_db88e_row2_col0\" class=\"data row2 col0\" >0.000000</td>\n",
       "            </tr>\n",
       "            <tr>\n",
       "                        <th id=\"T_db88e_level0_row3\" class=\"row_heading level0 row3\" >first_day_exposition</th>\n",
       "                        <td id=\"T_db88e_row3_col0\" class=\"data row3 col0\" >0.000000</td>\n",
       "            </tr>\n",
       "            <tr>\n",
       "                        <th id=\"T_db88e_level0_row4\" class=\"row_heading level0 row4\" >rooms</th>\n",
       "                        <td id=\"T_db88e_row4_col0\" class=\"data row4 col0\" >0.000000</td>\n",
       "            </tr>\n",
       "            <tr>\n",
       "                        <th id=\"T_db88e_level0_row5\" class=\"row_heading level0 row5\" >ceiling_height</th>\n",
       "                        <td id=\"T_db88e_row5_col0\" class=\"data row5 col0\" >39.000000</td>\n",
       "            </tr>\n",
       "            <tr>\n",
       "                        <th id=\"T_db88e_level0_row6\" class=\"row_heading level0 row6\" >floors_total</th>\n",
       "                        <td id=\"T_db88e_row6_col0\" class=\"data row6 col0\" >0.000000</td>\n",
       "            </tr>\n",
       "            <tr>\n",
       "                        <th id=\"T_db88e_level0_row7\" class=\"row_heading level0 row7\" >living_area</th>\n",
       "                        <td id=\"T_db88e_row7_col0\" class=\"data row7 col0\" >8.000000</td>\n",
       "            </tr>\n",
       "            <tr>\n",
       "                        <th id=\"T_db88e_level0_row8\" class=\"row_heading level0 row8\" >floor</th>\n",
       "                        <td id=\"T_db88e_row8_col0\" class=\"data row8 col0\" >0.000000</td>\n",
       "            </tr>\n",
       "            <tr>\n",
       "                        <th id=\"T_db88e_level0_row9\" class=\"row_heading level0 row9\" >is_apartment</th>\n",
       "                        <td id=\"T_db88e_row9_col0\" class=\"data row9 col0\" >88.000000</td>\n",
       "            </tr>\n",
       "            <tr>\n",
       "                        <th id=\"T_db88e_level0_row10\" class=\"row_heading level0 row10\" >studio</th>\n",
       "                        <td id=\"T_db88e_row10_col0\" class=\"data row10 col0\" >0.000000</td>\n",
       "            </tr>\n",
       "            <tr>\n",
       "                        <th id=\"T_db88e_level0_row11\" class=\"row_heading level0 row11\" >open_plan</th>\n",
       "                        <td id=\"T_db88e_row11_col0\" class=\"data row11 col0\" >0.000000</td>\n",
       "            </tr>\n",
       "            <tr>\n",
       "                        <th id=\"T_db88e_level0_row12\" class=\"row_heading level0 row12\" >kitchen_area</th>\n",
       "                        <td id=\"T_db88e_row12_col0\" class=\"data row12 col0\" >10.000000</td>\n",
       "            </tr>\n",
       "            <tr>\n",
       "                        <th id=\"T_db88e_level0_row13\" class=\"row_heading level0 row13\" >balcony</th>\n",
       "                        <td id=\"T_db88e_row13_col0\" class=\"data row13 col0\" >49.000000</td>\n",
       "            </tr>\n",
       "            <tr>\n",
       "                        <th id=\"T_db88e_level0_row14\" class=\"row_heading level0 row14\" >locality_name</th>\n",
       "                        <td id=\"T_db88e_row14_col0\" class=\"data row14 col0\" >0.000000</td>\n",
       "            </tr>\n",
       "            <tr>\n",
       "                        <th id=\"T_db88e_level0_row15\" class=\"row_heading level0 row15\" >airports_nearest</th>\n",
       "                        <td id=\"T_db88e_row15_col0\" class=\"data row15 col0\" >23.000000</td>\n",
       "            </tr>\n",
       "            <tr>\n",
       "                        <th id=\"T_db88e_level0_row16\" class=\"row_heading level0 row16\" >cityCenters_nearest</th>\n",
       "                        <td id=\"T_db88e_row16_col0\" class=\"data row16 col0\" >23.000000</td>\n",
       "            </tr>\n",
       "            <tr>\n",
       "                        <th id=\"T_db88e_level0_row17\" class=\"row_heading level0 row17\" >parks_around3000</th>\n",
       "                        <td id=\"T_db88e_row17_col0\" class=\"data row17 col0\" >23.000000</td>\n",
       "            </tr>\n",
       "            <tr>\n",
       "                        <th id=\"T_db88e_level0_row18\" class=\"row_heading level0 row18\" >parks_nearest</th>\n",
       "                        <td id=\"T_db88e_row18_col0\" class=\"data row18 col0\" >66.000000</td>\n",
       "            </tr>\n",
       "            <tr>\n",
       "                        <th id=\"T_db88e_level0_row19\" class=\"row_heading level0 row19\" >ponds_around3000</th>\n",
       "                        <td id=\"T_db88e_row19_col0\" class=\"data row19 col0\" >23.000000</td>\n",
       "            </tr>\n",
       "            <tr>\n",
       "                        <th id=\"T_db88e_level0_row20\" class=\"row_heading level0 row20\" >ponds_nearest</th>\n",
       "                        <td id=\"T_db88e_row20_col0\" class=\"data row20 col0\" >62.000000</td>\n",
       "            </tr>\n",
       "            <tr>\n",
       "                        <th id=\"T_db88e_level0_row21\" class=\"row_heading level0 row21\" >days_exposition</th>\n",
       "                        <td id=\"T_db88e_row21_col0\" class=\"data row21 col0\" >13.000000</td>\n",
       "            </tr>\n",
       "    </tbody></table>"
      ],
      "text/plain": [
       "<pandas.io.formats.style.Styler at 0x7fd20a3ac8e0>"
      ]
     },
     "execution_count": 6,
     "metadata": {},
     "output_type": "execute_result"
    }
   ],
   "source": [
    "pd.DataFrame(round(data.isna().mean()*100)).style.background_gradient('coolwarm')"
   ]
  },
  {
   "cell_type": "code",
   "execution_count": 7,
   "metadata": {},
   "outputs": [
    {
     "data": {
      "text/html": [
       "<div>\n",
       "<style scoped>\n",
       "    .dataframe tbody tr th:only-of-type {\n",
       "        vertical-align: middle;\n",
       "    }\n",
       "\n",
       "    .dataframe tbody tr th {\n",
       "        vertical-align: top;\n",
       "    }\n",
       "\n",
       "    .dataframe thead th {\n",
       "        text-align: right;\n",
       "    }\n",
       "</style>\n",
       "<table border=\"1\" class=\"dataframe\">\n",
       "  <thead>\n",
       "    <tr style=\"text-align: right;\">\n",
       "      <th></th>\n",
       "      <th>total_images</th>\n",
       "      <th>last_price</th>\n",
       "      <th>total_area</th>\n",
       "      <th>first_day_exposition</th>\n",
       "      <th>rooms</th>\n",
       "      <th>ceiling_height</th>\n",
       "      <th>floors_total</th>\n",
       "      <th>living_area</th>\n",
       "      <th>floor</th>\n",
       "      <th>is_apartment</th>\n",
       "      <th>...</th>\n",
       "      <th>kitchen_area</th>\n",
       "      <th>balcony</th>\n",
       "      <th>locality_name</th>\n",
       "      <th>airports_nearest</th>\n",
       "      <th>cityCenters_nearest</th>\n",
       "      <th>parks_around3000</th>\n",
       "      <th>parks_nearest</th>\n",
       "      <th>ponds_around3000</th>\n",
       "      <th>ponds_nearest</th>\n",
       "      <th>days_exposition</th>\n",
       "    </tr>\n",
       "  </thead>\n",
       "  <tbody>\n",
       "    <tr>\n",
       "      <th>0</th>\n",
       "      <td>20</td>\n",
       "      <td>13000000.0</td>\n",
       "      <td>108.0</td>\n",
       "      <td>2019-03-07T00:00:00</td>\n",
       "      <td>3</td>\n",
       "      <td>2.70</td>\n",
       "      <td>16.0</td>\n",
       "      <td>51.0</td>\n",
       "      <td>8</td>\n",
       "      <td>NaN</td>\n",
       "      <td>...</td>\n",
       "      <td>25.0</td>\n",
       "      <td>NaN</td>\n",
       "      <td>Санкт-Петербург</td>\n",
       "      <td>18863.0</td>\n",
       "      <td>16028.0</td>\n",
       "      <td>1.0</td>\n",
       "      <td>482.0</td>\n",
       "      <td>2.0</td>\n",
       "      <td>755.0</td>\n",
       "      <td>NaN</td>\n",
       "    </tr>\n",
       "    <tr>\n",
       "      <th>1</th>\n",
       "      <td>7</td>\n",
       "      <td>3350000.0</td>\n",
       "      <td>40.4</td>\n",
       "      <td>2018-12-04T00:00:00</td>\n",
       "      <td>1</td>\n",
       "      <td>NaN</td>\n",
       "      <td>11.0</td>\n",
       "      <td>18.6</td>\n",
       "      <td>1</td>\n",
       "      <td>NaN</td>\n",
       "      <td>...</td>\n",
       "      <td>11.0</td>\n",
       "      <td>2.0</td>\n",
       "      <td>посёлок Шушары</td>\n",
       "      <td>12817.0</td>\n",
       "      <td>18603.0</td>\n",
       "      <td>0.0</td>\n",
       "      <td>NaN</td>\n",
       "      <td>0.0</td>\n",
       "      <td>NaN</td>\n",
       "      <td>81.0</td>\n",
       "    </tr>\n",
       "    <tr>\n",
       "      <th>2</th>\n",
       "      <td>10</td>\n",
       "      <td>5196000.0</td>\n",
       "      <td>56.0</td>\n",
       "      <td>2015-08-20T00:00:00</td>\n",
       "      <td>2</td>\n",
       "      <td>NaN</td>\n",
       "      <td>5.0</td>\n",
       "      <td>34.3</td>\n",
       "      <td>4</td>\n",
       "      <td>NaN</td>\n",
       "      <td>...</td>\n",
       "      <td>8.3</td>\n",
       "      <td>0.0</td>\n",
       "      <td>Санкт-Петербург</td>\n",
       "      <td>21741.0</td>\n",
       "      <td>13933.0</td>\n",
       "      <td>1.0</td>\n",
       "      <td>90.0</td>\n",
       "      <td>2.0</td>\n",
       "      <td>574.0</td>\n",
       "      <td>558.0</td>\n",
       "    </tr>\n",
       "    <tr>\n",
       "      <th>3</th>\n",
       "      <td>0</td>\n",
       "      <td>64900000.0</td>\n",
       "      <td>159.0</td>\n",
       "      <td>2015-07-24T00:00:00</td>\n",
       "      <td>3</td>\n",
       "      <td>NaN</td>\n",
       "      <td>14.0</td>\n",
       "      <td>NaN</td>\n",
       "      <td>9</td>\n",
       "      <td>NaN</td>\n",
       "      <td>...</td>\n",
       "      <td>NaN</td>\n",
       "      <td>0.0</td>\n",
       "      <td>Санкт-Петербург</td>\n",
       "      <td>28098.0</td>\n",
       "      <td>6800.0</td>\n",
       "      <td>2.0</td>\n",
       "      <td>84.0</td>\n",
       "      <td>3.0</td>\n",
       "      <td>234.0</td>\n",
       "      <td>424.0</td>\n",
       "    </tr>\n",
       "    <tr>\n",
       "      <th>4</th>\n",
       "      <td>2</td>\n",
       "      <td>10000000.0</td>\n",
       "      <td>100.0</td>\n",
       "      <td>2018-06-19T00:00:00</td>\n",
       "      <td>2</td>\n",
       "      <td>3.03</td>\n",
       "      <td>14.0</td>\n",
       "      <td>32.0</td>\n",
       "      <td>13</td>\n",
       "      <td>NaN</td>\n",
       "      <td>...</td>\n",
       "      <td>41.0</td>\n",
       "      <td>NaN</td>\n",
       "      <td>Санкт-Петербург</td>\n",
       "      <td>31856.0</td>\n",
       "      <td>8098.0</td>\n",
       "      <td>2.0</td>\n",
       "      <td>112.0</td>\n",
       "      <td>1.0</td>\n",
       "      <td>48.0</td>\n",
       "      <td>121.0</td>\n",
       "    </tr>\n",
       "  </tbody>\n",
       "</table>\n",
       "<p>5 rows × 22 columns</p>\n",
       "</div>"
      ],
      "text/plain": [
       "   total_images  last_price  total_area first_day_exposition  rooms  \\\n",
       "0            20  13000000.0       108.0  2019-03-07T00:00:00      3   \n",
       "1             7   3350000.0        40.4  2018-12-04T00:00:00      1   \n",
       "2            10   5196000.0        56.0  2015-08-20T00:00:00      2   \n",
       "3             0  64900000.0       159.0  2015-07-24T00:00:00      3   \n",
       "4             2  10000000.0       100.0  2018-06-19T00:00:00      2   \n",
       "\n",
       "   ceiling_height  floors_total  living_area  floor is_apartment  ...  \\\n",
       "0            2.70          16.0         51.0      8          NaN  ...   \n",
       "1             NaN          11.0         18.6      1          NaN  ...   \n",
       "2             NaN           5.0         34.3      4          NaN  ...   \n",
       "3             NaN          14.0          NaN      9          NaN  ...   \n",
       "4            3.03          14.0         32.0     13          NaN  ...   \n",
       "\n",
       "   kitchen_area  balcony    locality_name  airports_nearest  \\\n",
       "0          25.0      NaN  Санкт-Петербург           18863.0   \n",
       "1          11.0      2.0   посёлок Шушары           12817.0   \n",
       "2           8.3      0.0  Санкт-Петербург           21741.0   \n",
       "3           NaN      0.0  Санкт-Петербург           28098.0   \n",
       "4          41.0      NaN  Санкт-Петербург           31856.0   \n",
       "\n",
       "  cityCenters_nearest  parks_around3000  parks_nearest  ponds_around3000  \\\n",
       "0             16028.0               1.0          482.0               2.0   \n",
       "1             18603.0               0.0            NaN               0.0   \n",
       "2             13933.0               1.0           90.0               2.0   \n",
       "3              6800.0               2.0           84.0               3.0   \n",
       "4              8098.0               2.0          112.0               1.0   \n",
       "\n",
       "   ponds_nearest  days_exposition  \n",
       "0          755.0              NaN  \n",
       "1            NaN             81.0  \n",
       "2          574.0            558.0  \n",
       "3          234.0            424.0  \n",
       "4           48.0            121.0  \n",
       "\n",
       "[5 rows x 22 columns]"
      ]
     },
     "execution_count": 7,
     "metadata": {},
     "output_type": "execute_result"
    }
   ],
   "source": [
    "data.head()"
   ]
  },
  {
   "cell_type": "code",
   "execution_count": 8,
   "metadata": {},
   "outputs": [],
   "source": [
    "def fill_floor(current_floor):\n",
    "    floors_median = data['floors_total'].median()\n",
    "    if current_floor>floors_median:\n",
    "        return current_floor\n",
    "    else:\n",
    "        return floors_median"
   ]
  },
  {
   "cell_type": "code",
   "execution_count": 9,
   "metadata": {
    "id": "7v3vAeTuAwb-"
   },
   "outputs": [],
   "source": [
    "data['ceiling_height'].fillna(data['ceiling_height'].median(), inplace = True)\n",
    "#Медианное значение высоты потолков - подходящее значение для заполнения пропусков (если в целом надо чем-то заполнять - то лучше медианой)\n",
    "data['floors_total'] = data['floors_total'].fillna(data['floor'].apply(fill_floor))\n",
    "# то же справедливо и для высоты зданий так или иначе ы целом высота строящихся зданий примерно одинаковая\n",
    "#data['living_area'].fillna(data['living_area'].median(), inplace = True)\n",
    "# у жилой площади тоже виден явный пик и не очень большой разброс, думаю, можно заполнить \n",
    "#data['kitchen_area'].fillna(data['kitchen_area'].median(), inplace = True)\n",
    "data['balcony'].fillna(0, inplace = True)\n"
   ]
  },
  {
   "cell_type": "code",
   "execution_count": 10,
   "metadata": {},
   "outputs": [],
   "source": [
    "data['locality_name'] = data['locality_name'].str.replace('ё', 'е')\n"
   ]
  },
  {
   "cell_type": "code",
   "execution_count": 11,
   "metadata": {},
   "outputs": [],
   "source": [
    "data['locality_name'] = data['locality_name']\\\n",
    ".str.replace('поселок городского типа','поселок')\\\n",
    ".replace(['поселок городского типа', 'городской поселок','коттеджный поселок'], 'поселок', regex=True)\n"
   ]
  },
  {
   "cell_type": "code",
   "execution_count": 12,
   "metadata": {},
   "outputs": [],
   "source": [
    "data['first_day_exposition'] = pd.to_datetime(data['first_day_exposition'])"
   ]
  },
  {
   "cell_type": "markdown",
   "metadata": {},
   "source": [
    "Дату лучше держать в формате даты а не объекта, для дальнейших манипуляций"
   ]
  },
  {
   "cell_type": "code",
   "execution_count": 14,
   "metadata": {},
   "outputs": [],
   "source": [
    "data['floor'] = data['floor'].astype(int)\n",
    "data['balcony'] = data['balcony'].astype(int)"
   ]
  },
  {
   "cell_type": "code",
   "execution_count": 15,
   "metadata": {},
   "outputs": [
    {
     "data": {
      "text/plain": [
       "False"
      ]
     },
     "execution_count": 15,
     "metadata": {},
     "output_type": "execute_result"
    }
   ],
   "source": [
    "data.duplicated().any()"
   ]
  },
  {
   "cell_type": "code",
   "execution_count": 16,
   "metadata": {
    "id": "Z8eJek3IAwb-"
   },
   "outputs": [],
   "source": [
    "#цена одного квадратного метра\n",
    "data['price_m2'] = data['last_price']/data['total_area']\n",
    "#день недели публикации\n",
    "data['day_of_week'] = data['first_day_exposition'].dt.weekday\n",
    "#месяц публикации объявления\n",
    "data['month'] = data['first_day_exposition'].dt.month\n",
    "#год публикации объявления\n",
    "data['year'] = data['first_day_exposition'].dt.year\n",
    "#тип этажа квартиры (значения — «‎первый», «последний», «другой»)\n",
    "data['floor_cat'] = \\\n",
    "['первый' if x['floor'] == 1 else 'последний' if x['floor'] == x['floors_total'] else 'другой' for i, x in data.iterrows()]\n",
    "#расстояние до центра города в километрах \n",
    "data['dist_in_km'] = round(data['cityCenters_nearest']/1000, 0)\n"
   ]
  },
  {
   "cell_type": "code",
   "execution_count": 17,
   "metadata": {
    "id": "V2f0D3kLAwb-"
   },
   "outputs": [
    {
     "data": {
      "image/png": "[encoded data removed]",
      "text/plain": [
       "<Figure size 432x288 with 1 Axes>"
      ]
     },
     "metadata": {
      "needs_background": "light"
     },
     "output_type": "display_data"
    }
   ],
   "source": [
    "data.query('total_area<300')['total_area']\\\n",
    ".plot(kind = 'hist', bins = 75,title = 'общая площадь',range = (0,150), grid = True)\n",
    "plt.ylabel('Частота значения')\n",
    "plt.xlabel('Площадь, м2')\n",
    "plt.show()\n"
   ]
  },
  {
   "cell_type": "markdown",
   "metadata": {},
   "source": [
    "общая площадь - наиболее часто встречающиеся значения около 30 метров, существуют квартиры более 300 метров, но таких строк очень мало и в общей картине они незначительны\n"
   ]
  },
  {
   "cell_type": "code",
   "execution_count": 18,
   "metadata": {},
   "outputs": [
    {
     "data": {
      "image/png": "[encoded data removed]",
      "text/plain": [
       "<Figure size 432x288 with 1 Axes>"
      ]
     },
     "metadata": {
      "needs_background": "light"
     },
     "output_type": "display_data"
    }
   ],
   "source": [
    "data.query('living_area<200')['living_area']\\\n",
    ".plot(kind = 'hist', bins = 75,range = (0,100),title = 'жилая площадь', grid = True)\n",
    "plt.ylabel('Частота значения')\n",
    "plt.xlabel('Площадь, м2')\n",
    "plt.show()"
   ]
  },
  {
   "cell_type": "markdown",
   "metadata": {},
   "source": [
    "жилая площадь - аналогично общей площади, однако тут будто имеется 2 пика видимо из-за большого количества 1 комнатных квартир\n"
   ]
  },
  {
   "cell_type": "code",
   "execution_count": 19,
   "metadata": {},
   "outputs": [
    {
     "data": {
      "image/png": "[encoded data removed]",
      "text/plain": [
       "<Figure size 432x288 with 1 Axes>"
      ]
     },
     "metadata": {
      "needs_background": "light"
     },
     "output_type": "display_data"
    }
   ],
   "source": [
    "data[data['kitchen_area']<40]['kitchen_area']\\\n",
    ".plot(kind = 'hist', bins = 75,title = 'площадь кухни', grid = True);\n",
    "plt.ylabel('Частота значения')\n",
    "plt.xlabel('Площадь, м2')\n",
    "plt.show()"
   ]
  },
  {
   "cell_type": "markdown",
   "metadata": {},
   "source": [
    "площадь кухни - распределение вроде бы нормальное, но присутствуют \"зубцы\" природа которых неясна\n"
   ]
  },
  {
   "cell_type": "code",
   "execution_count": 20,
   "metadata": {},
   "outputs": [
    {
     "data": {
      "image/png": "[encoded data removed]",
      "text/plain": [
       "<Figure size 432x288 with 1 Axes>"
      ]
     },
     "metadata": {
      "needs_background": "light"
     },
     "output_type": "display_data"
    }
   ],
   "source": [
    "data.query('last_price<30000000')['last_price']\\\n",
    ".plot(kind = 'hist',title = 'цена объекта',bins = 50, grid = True)\n",
    "plt.ylabel('Частота значения')\n",
    "plt.xlabel('Стоимость, Р')\n",
    "plt.show()"
   ]
  },
  {
   "cell_type": "code",
   "execution_count": 21,
   "metadata": {},
   "outputs": [
    {
     "data": {
      "image/png": "[encoded data removed]",
      "text/plain": [
       "<Figure size 432x288 with 1 Axes>"
      ]
     },
     "metadata": {
      "needs_background": "light"
     },
     "output_type": "display_data"
    }
   ],
   "source": [
    "data.query('rooms<8')['rooms'].plot(kind = 'hist',bins = 8,title = 'количество комнат', grid = True)\n",
    "plt.ylabel('Частота значения')\n",
    "plt.xlabel('Комнаты, шт')\n",
    "plt.show()\n"
   ]
  },
  {
   "cell_type": "markdown",
   "metadata": {},
   "source": [
    "количество комнат - самые частые значения от 1 до 3 комнат, существует какое-то количество квартир с количеством комнат равным 0, вероятно это ошибка, но может быть это какие-то технические помещения\n"
   ]
  },
  {
   "cell_type": "code",
   "execution_count": 22,
   "metadata": {},
   "outputs": [],
   "source": [
    "data.loc[data['ceiling_height'] > 20, 'ceiling_height'] /= 10"
   ]
  },
  {
   "cell_type": "code",
   "execution_count": 23,
   "metadata": {},
   "outputs": [
    {
     "data": {
      "image/png": "[encoded data removed]",
      "text/plain": [
       "<Figure size 432x288 with 1 Axes>"
      ]
     },
     "metadata": {
      "needs_background": "light"
     },
     "output_type": "display_data"
    }
   ],
   "source": [
    "data['ceiling_height'].plot(kind = 'hist',title = 'высота потолков',range = (0,5), grid = True, bins =30)\n",
    "plt.ylabel('Частота значения')\n",
    "plt.xlabel('Высота, м')\n",
    "plt.show()"
   ]
  },
  {
   "cell_type": "markdown",
   "metadata": {},
   "source": [
    "высота потолков - большинство значений около 2.5 метров;\n"
   ]
  },
  {
   "cell_type": "code",
   "execution_count": 24,
   "metadata": {},
   "outputs": [
    {
     "data": {
      "image/png": "[encoded data removed]",
      "text/plain": [
       "<Figure size 432x288 with 1 Axes>"
      ]
     },
     "metadata": {
      "needs_background": "light"
     },
     "output_type": "display_data"
    }
   ],
   "source": [
    "data['floor_cat'].hist(bins = 3)\n",
    "plt.title('этаж, на котором расположена квартира')\n",
    "plt.show()\n"
   ]
  },
  {
   "cell_type": "markdown",
   "metadata": {},
   "source": [
    "тип этажа квартиры («первый», «последний», «другой») - логично что чаще встречаются значения другой что-то кроме первого и последнего\n"
   ]
  },
  {
   "cell_type": "code",
   "execution_count": 25,
   "metadata": {},
   "outputs": [
    {
     "data": {
      "image/png": "[encoded data removed]",
      "text/plain": [
       "<Figure size 432x288 with 1 Axes>"
      ]
     },
     "metadata": {
      "needs_background": "light"
     },
     "output_type": "display_data"
    }
   ],
   "source": [
    "\n",
    "data['floors_total'].plot(kind = 'hist',title = 'общее количество этажей в доме', grid = True)\n",
    "plt.ylabel('Частота значения')\n",
    "plt.xlabel('Количество этажей')\n",
    "plt.show()"
   ]
  },
  {
   "cell_type": "markdown",
   "metadata": {},
   "source": [
    "общее количество этажей в доме - тут вроде все обычно, довольно большое количество низкоэтажной застройки, большинство квартир меньше 10 этажей\n"
   ]
  },
  {
   "cell_type": "code",
   "execution_count": 26,
   "metadata": {},
   "outputs": [
    {
     "data": {
      "image/png": "[encoded data removed]",
      "text/plain": [
       "<Figure size 432x288 with 1 Axes>"
      ]
     },
     "metadata": {
      "needs_background": "light"
     },
     "output_type": "display_data"
    }
   ],
   "source": [
    "data['cityCenters_nearest'].plot(kind = 'hist',title = 'расстояние до центра города в метрах', grid = True);\n",
    "plt.ylabel('Частота значения')\n",
    "plt.xlabel('Расстояние, м')\n",
    "plt.show()"
   ]
  },
  {
   "cell_type": "markdown",
   "metadata": {},
   "source": [
    "расстояние до центра города в метрах - существует некоторое количество квартир очень сильно удаленных от центра, было предположение что это частные дома однако 10 самых удаленных от центра построек часто имеют больше 1 этажа\n"
   ]
  },
  {
   "cell_type": "code",
   "execution_count": 27,
   "metadata": {},
   "outputs": [
    {
     "data": {
      "image/png": "[encoded data removed]",
      "text/plain": [
       "<Figure size 432x288 with 1 Axes>"
      ]
     },
     "metadata": {
      "needs_background": "light"
     },
     "output_type": "display_data"
    }
   ],
   "source": [
    "data['parks_nearest'].plot(kind = 'hist',title = 'расстояние до ближайшего парка', grid = True);\n",
    "plt.ylabel('Частота значения')\n",
    "plt.xlabel('Расстояние, м')\n",
    "plt.show()"
   ]
  },
  {
   "cell_type": "markdown",
   "metadata": {},
   "source": [
    "расстояние до ближайшего парка - у большинства построек парк расположен в радиусе 500 метров"
   ]
  },
  {
   "cell_type": "code",
   "execution_count": 28,
   "metadata": {},
   "outputs": [
    {
     "data": {
      "image/png": "[encoded data removed]",
      "text/plain": [
       "<Figure size 432x288 with 1 Axes>"
      ]
     },
     "metadata": {
      "needs_background": "light"
     },
     "output_type": "display_data"
    }
   ],
   "source": [
    "data['days_exposition'].hist()\n",
    "plt.title(' сколько дней было размещено объявление')\n",
    "plt.show()"
   ]
  },
  {
   "cell_type": "code",
   "execution_count": 29,
   "metadata": {},
   "outputs": [
    {
     "data": {
      "text/plain": [
       "<AxesSubplot:>"
      ]
     },
     "execution_count": 29,
     "metadata": {},
     "output_type": "execute_result"
    },
    {
     "data": {
      "image/png": "[encoded data removed]",
      "text/plain": [
       "<Figure size 576x1080 with 1 Axes>"
      ]
     },
     "metadata": {
      "needs_background": "light"
     },
     "output_type": "display_data"
    }
   ],
   "source": [
    "data['days_exposition'].plot(kind = 'box', figsize = (8,15))"
   ]
  },
  {
   "cell_type": "code",
   "execution_count": 30,
   "metadata": {},
   "outputs": [
    {
     "data": {
      "text/plain": [
       "(180.88863436982163, 95.0)"
      ]
     },
     "execution_count": 30,
     "metadata": {},
     "output_type": "execute_result"
    }
   ],
   "source": [
    "data['days_exposition'].mean(),data['days_exposition'].median()"
   ]
  },
  {
   "cell_type": "code",
   "execution_count": 31,
   "metadata": {},
   "outputs": [
    {
     "data": {
      "text/plain": [
       "count    20518.000000\n",
       "mean       180.888634\n",
       "std        219.727988\n",
       "min          1.000000\n",
       "25%         45.000000\n",
       "50%         95.000000\n",
       "75%        232.000000\n",
       "max       1580.000000\n",
       "Name: days_exposition, dtype: float64"
      ]
     },
     "execution_count": 31,
     "metadata": {},
     "output_type": "execute_result"
    }
   ],
   "source": [
    "data['days_exposition'].describe()"
   ]
  },
  {
   "cell_type": "markdown",
   "metadata": {},
   "source": [
    "В среднем квартира продавалась в течение полугода, однако медианное значение - 3 месяца, продажи менее 3 месяцев можно считать быстрыми а более полугода - долгими "
   ]
  },
  {
   "cell_type": "markdown",
   "metadata": {},
   "source": [
    "Если использовать боксплот или описание то видно что 50 процентиль это 95 дней, если принять что от 25 до 75 процентиля это нормальные значения сроков продажи, то все что меньше 45 дней - это быстро, а все что больше 232 дней это долго. Сам по себе разброс значений здесь очень большой - есть выбросы и значения в 1500 дней, что тоже можно описать как необычно долгие."
   ]
  },
  {
   "cell_type": "code",
   "execution_count": 32,
   "metadata": {},
   "outputs": [
    {
     "data": {
      "image/png": "[encoded data removed]",
      "text/plain": [
       "<Figure size 432x288 with 2 Axes>"
      ]
     },
     "metadata": {
      "needs_background": "light"
     },
     "output_type": "display_data"
    }
   ],
   "source": [
    "corr = data[['last_price', 'total_area', 'living_area', 'kitchen_area',\n",
    "             'rooms', 'day_of_week', 'month', 'year','floor_cat','floor']].corr()\n",
    "\n",
    "sns.heatmap(corr, annot=True, fmt=\".2f\");"
   ]
  },
  {
   "cell_type": "markdown",
   "metadata": {},
   "source": [
    "Самая большая зависимость стоимости от общей площади жилья. "
   ]
  },
  {
   "cell_type": "code",
   "execution_count": 33,
   "metadata": {},
   "outputs": [
    {
     "data": {
      "text/plain": [
       "(3900000.0, 4337500.0, 4850000.0)"
      ]
     },
     "execution_count": 33,
     "metadata": {},
     "output_type": "execute_result"
    }
   ],
   "source": [
    "(data[data['floor_cat']=='первый']['last_price'].median(),\n",
    "data[data['floor_cat']=='последний']['last_price'].median(),\n",
    "data[data['floor_cat']=='другой']['last_price'].median())"
   ]
  },
  {
   "cell_type": "markdown",
   "metadata": {},
   "source": [
    "Если сравнивать медианные значения, то видна разница в ценах однако поэтажной зависимости нет, исходя из медианных значений - самые дорогие квартиры находятся на последних этажах."
   ]
  },
  {
   "cell_type": "code",
   "execution_count": 34,
   "metadata": {},
   "outputs": [
    {
     "data": {
      "text/html": [
       "<div>\n",
       "<style scoped>\n",
       "    .dataframe tbody tr th:only-of-type {\n",
       "        vertical-align: middle;\n",
       "    }\n",
       "\n",
       "    .dataframe tbody tr th {\n",
       "        vertical-align: top;\n",
       "    }\n",
       "\n",
       "    .dataframe thead th {\n",
       "        text-align: right;\n",
       "    }\n",
       "</style>\n",
       "<table border=\"1\" class=\"dataframe\">\n",
       "  <thead>\n",
       "    <tr style=\"text-align: right;\">\n",
       "      <th></th>\n",
       "      <th>last_price</th>\n",
       "      <th>total_area</th>\n",
       "      <th>living_area</th>\n",
       "      <th>kitchen_area</th>\n",
       "      <th>rooms</th>\n",
       "      <th>day_of_week</th>\n",
       "      <th>month</th>\n",
       "      <th>year</th>\n",
       "      <th>floor_cat</th>\n",
       "      <th>floor</th>\n",
       "    </tr>\n",
       "  </thead>\n",
       "  <tbody>\n",
       "    <tr>\n",
       "      <th>0</th>\n",
       "      <td>13000000.0</td>\n",
       "      <td>108.00</td>\n",
       "      <td>51.0</td>\n",
       "      <td>25.00</td>\n",
       "      <td>3</td>\n",
       "      <td>3</td>\n",
       "      <td>3</td>\n",
       "      <td>2019</td>\n",
       "      <td>другой</td>\n",
       "      <td>8</td>\n",
       "    </tr>\n",
       "    <tr>\n",
       "      <th>1</th>\n",
       "      <td>3350000.0</td>\n",
       "      <td>40.40</td>\n",
       "      <td>18.6</td>\n",
       "      <td>11.00</td>\n",
       "      <td>1</td>\n",
       "      <td>1</td>\n",
       "      <td>12</td>\n",
       "      <td>2018</td>\n",
       "      <td>первый</td>\n",
       "      <td>1</td>\n",
       "    </tr>\n",
       "    <tr>\n",
       "      <th>2</th>\n",
       "      <td>5196000.0</td>\n",
       "      <td>56.00</td>\n",
       "      <td>34.3</td>\n",
       "      <td>8.30</td>\n",
       "      <td>2</td>\n",
       "      <td>3</td>\n",
       "      <td>8</td>\n",
       "      <td>2015</td>\n",
       "      <td>другой</td>\n",
       "      <td>4</td>\n",
       "    </tr>\n",
       "    <tr>\n",
       "      <th>3</th>\n",
       "      <td>64900000.0</td>\n",
       "      <td>159.00</td>\n",
       "      <td>30.0</td>\n",
       "      <td>9.10</td>\n",
       "      <td>3</td>\n",
       "      <td>4</td>\n",
       "      <td>7</td>\n",
       "      <td>2015</td>\n",
       "      <td>другой</td>\n",
       "      <td>9</td>\n",
       "    </tr>\n",
       "    <tr>\n",
       "      <th>4</th>\n",
       "      <td>10000000.0</td>\n",
       "      <td>100.00</td>\n",
       "      <td>32.0</td>\n",
       "      <td>41.00</td>\n",
       "      <td>2</td>\n",
       "      <td>1</td>\n",
       "      <td>6</td>\n",
       "      <td>2018</td>\n",
       "      <td>другой</td>\n",
       "      <td>13</td>\n",
       "    </tr>\n",
       "    <tr>\n",
       "      <th>...</th>\n",
       "      <td>...</td>\n",
       "      <td>...</td>\n",
       "      <td>...</td>\n",
       "      <td>...</td>\n",
       "      <td>...</td>\n",
       "      <td>...</td>\n",
       "      <td>...</td>\n",
       "      <td>...</td>\n",
       "      <td>...</td>\n",
       "      <td>...</td>\n",
       "    </tr>\n",
       "    <tr>\n",
       "      <th>23694</th>\n",
       "      <td>9700000.0</td>\n",
       "      <td>133.81</td>\n",
       "      <td>73.3</td>\n",
       "      <td>13.83</td>\n",
       "      <td>3</td>\n",
       "      <td>1</td>\n",
       "      <td>3</td>\n",
       "      <td>2017</td>\n",
       "      <td>другой</td>\n",
       "      <td>3</td>\n",
       "    </tr>\n",
       "    <tr>\n",
       "      <th>23695</th>\n",
       "      <td>3100000.0</td>\n",
       "      <td>59.00</td>\n",
       "      <td>38.0</td>\n",
       "      <td>8.50</td>\n",
       "      <td>3</td>\n",
       "      <td>0</td>\n",
       "      <td>1</td>\n",
       "      <td>2018</td>\n",
       "      <td>другой</td>\n",
       "      <td>4</td>\n",
       "    </tr>\n",
       "    <tr>\n",
       "      <th>23696</th>\n",
       "      <td>2500000.0</td>\n",
       "      <td>56.70</td>\n",
       "      <td>29.7</td>\n",
       "      <td>9.10</td>\n",
       "      <td>2</td>\n",
       "      <td>6</td>\n",
       "      <td>2</td>\n",
       "      <td>2018</td>\n",
       "      <td>первый</td>\n",
       "      <td>1</td>\n",
       "    </tr>\n",
       "    <tr>\n",
       "      <th>23697</th>\n",
       "      <td>11475000.0</td>\n",
       "      <td>76.75</td>\n",
       "      <td>30.0</td>\n",
       "      <td>23.30</td>\n",
       "      <td>2</td>\n",
       "      <td>1</td>\n",
       "      <td>3</td>\n",
       "      <td>2017</td>\n",
       "      <td>другой</td>\n",
       "      <td>12</td>\n",
       "    </tr>\n",
       "    <tr>\n",
       "      <th>23698</th>\n",
       "      <td>1350000.0</td>\n",
       "      <td>32.30</td>\n",
       "      <td>12.3</td>\n",
       "      <td>9.00</td>\n",
       "      <td>1</td>\n",
       "      <td>4</td>\n",
       "      <td>7</td>\n",
       "      <td>2017</td>\n",
       "      <td>первый</td>\n",
       "      <td>1</td>\n",
       "    </tr>\n",
       "  </tbody>\n",
       "</table>\n",
       "<p>23699 rows × 10 columns</p>\n",
       "</div>"
      ],
      "text/plain": [
       "       last_price  total_area  living_area  kitchen_area  rooms  day_of_week  \\\n",
       "0      13000000.0      108.00         51.0         25.00      3            3   \n",
       "1       3350000.0       40.40         18.6         11.00      1            1   \n",
       "2       5196000.0       56.00         34.3          8.30      2            3   \n",
       "3      64900000.0      159.00         30.0          9.10      3            4   \n",
       "4      10000000.0      100.00         32.0         41.00      2            1   \n",
       "...           ...         ...          ...           ...    ...          ...   \n",
       "23694   9700000.0      133.81         73.3         13.83      3            1   \n",
       "23695   3100000.0       59.00         38.0          8.50      3            0   \n",
       "23696   2500000.0       56.70         29.7          9.10      2            6   \n",
       "23697  11475000.0       76.75         30.0         23.30      2            1   \n",
       "23698   1350000.0       32.30         12.3          9.00      1            4   \n",
       "\n",
       "       month  year floor_cat  floor  \n",
       "0          3  2019    другой      8  \n",
       "1         12  2018    первый      1  \n",
       "2          8  2015    другой      4  \n",
       "3          7  2015    другой      9  \n",
       "4          6  2018    другой     13  \n",
       "...      ...   ...       ...    ...  \n",
       "23694      3  2017    другой      3  \n",
       "23695      1  2018    другой      4  \n",
       "23696      2  2018    первый      1  \n",
       "23697      3  2017    другой     12  \n",
       "23698      7  2017    первый      1  \n",
       "\n",
       "[23699 rows x 10 columns]"
      ]
     },
     "execution_count": 34,
     "metadata": {},
     "output_type": "execute_result"
    }
   ],
   "source": [
    "data[['last_price', 'total_area', 'living_area', 'kitchen_area',\n",
    "             'rooms', 'day_of_week', 'month', 'year','floor_cat','floor']]"
   ]
  },
  {
   "cell_type": "code",
   "execution_count": 35,
   "metadata": {},
   "outputs": [
    {
     "data": {
      "image/png": "[encoded data removed]",
      "text/plain": [
       "<Figure size 864x432 with 1 Axes>"
      ]
     },
     "metadata": {
      "needs_background": "light"
     },
     "output_type": "display_data"
    }
   ],
   "source": [
    "data[['last_price', 'living_area']].plot(x = 'last_price',\n",
    "                                        y = 'living_area',\n",
    "                                        style = 'o',\n",
    "                                        alpha = 0.3,\n",
    "                                        color = 'green',\n",
    "                                       title = 'Зависимость цены от жилой площади',\n",
    "                                       figsize = (12,6));"
   ]
  },
  {
   "cell_type": "code",
   "execution_count": 36,
   "metadata": {},
   "outputs": [
    {
     "data": {
      "image/png": "[encoded data removed]",
      "text/plain": [
       "<Figure size 864x432 with 1 Axes>"
      ]
     },
     "metadata": {
      "needs_background": "light"
     },
     "output_type": "display_data"
    }
   ],
   "source": [
    "data[['last_price', 'total_area']].plot(x = 'last_price',\n",
    "                                        y = 'total_area',\n",
    "                                        style = 'o',\n",
    "                                        alpha = 0.3,\n",
    "                                        color = 'green',\n",
    "                                       title = 'Зависимость цены от площади',\n",
    "                                       figsize = (12,6));"
   ]
  },
  {
   "cell_type": "code",
   "execution_count": 37,
   "metadata": {},
   "outputs": [
    {
     "data": {
      "image/png": "[encoded data removed]",
      "text/plain": [
       "<Figure size 864x432 with 1 Axes>"
      ]
     },
     "metadata": {
      "needs_background": "light"
     },
     "output_type": "display_data"
    }
   ],
   "source": [
    "data[['last_price', 'kitchen_area']].plot(x = 'last_price',\n",
    "                                        y = 'kitchen_area',\n",
    "                                        style = 'o',\n",
    "                                        alpha = 0.3,\n",
    "                                        color = 'green',\n",
    "                                       title = 'Зависимость цены от площади кухни',\n",
    "                                       figsize = (12,6));"
   ]
  },
  {
   "cell_type": "code",
   "execution_count": 38,
   "metadata": {},
   "outputs": [
    {
     "data": {
      "image/png": "[encoded data removed]",
      "text/plain": [
       "<Figure size 864x432 with 1 Axes>"
      ]
     },
     "metadata": {
      "needs_background": "light"
     },
     "output_type": "display_data"
    }
   ],
   "source": [
    "grouped_rooms_price = data[['last_price', 'rooms']].groupby('rooms',as_index = False).mean()\n",
    "grouped_rooms_price['last_price'] =round(grouped_rooms_price['last_price'],2)\n",
    "grouped_rooms_price.plot(x = 'rooms', \n",
    "                         y = 'last_price',\n",
    "                        kind = 'bar',\n",
    "                        alpha = 0.3,\n",
    "                        color = 'green',\n",
    "                       title = 'Зависимость цены от кол-ва комнат',\n",
    "                       figsize = (12,6));\n"
   ]
  },
  {
   "cell_type": "code",
   "execution_count": 39,
   "metadata": {},
   "outputs": [
    {
     "data": {
      "image/png": "[encoded data removed]",
      "text/plain": [
       "<Figure size 864x360 with 1 Axes>"
      ]
     },
     "metadata": {
      "needs_background": "light"
     },
     "output_type": "display_data"
    }
   ],
   "source": [
    "mean_prices = data.groupby('floor_cat')['last_price'].mean()\n",
    "mean_prices.plot(kind='bar', alpha=0.5, color='green', figsize=(12, 5))\n",
    "plt.title('Средняя цена в зависимости от категории этажа')\n",
    "plt.xlabel('Категория этажа')\n",
    "plt.ylabel('Средняя цена')\n",
    "plt.grid(True)\n",
    "plt.xticks(rotation = 0)\n",
    "plt.show()"
   ]
  },
  {
   "cell_type": "code",
   "execution_count": 40,
   "metadata": {},
   "outputs": [
    {
     "data": {
      "image/png": "[encoded data removed]",
      "text/plain": [
       "<Figure size 864x432 with 1 Axes>"
      ]
     },
     "metadata": {
      "needs_background": "light"
     },
     "output_type": "display_data"
    }
   ],
   "source": [
    "day_data = data.groupby('day_of_week')['last_price'].mean()\n",
    "day_data.plot(x = 'last_price',\n",
    "                                        y = 'day_of_week',\n",
    "                                        kind = 'bar',\n",
    "                                        alpha = 0.5,\n",
    "                                        color = 'green',\n",
    "                                       title = 'Зависимость цены от дня недели',\n",
    "                                       figsize = (12,6))\n",
    "plt.ylabel('Средняя цена');"
   ]
  },
  {
   "cell_type": "code",
   "execution_count": 41,
   "metadata": {},
   "outputs": [
    {
     "data": {
      "image/png": "[encoded data removed]",
      "text/plain": [
       "<Figure size 864x432 with 1 Axes>"
      ]
     },
     "metadata": {
      "needs_background": "light"
     },
     "output_type": "display_data"
    }
   ],
   "source": [
    "day_data = data.groupby('month')['last_price'].mean()\n",
    "day_data.plot(x = 'last_price',\n",
    "                                        y = 'month',\n",
    "                                        kind = 'bar',\n",
    "                                        alpha = 0.5,\n",
    "                                        color = 'green',\n",
    "                                       title = 'Зависимость цены от месяца',\n",
    "                                       figsize = (12,6))\n",
    "plt.ylabel('Средняя цена');"
   ]
  },
  {
   "cell_type": "code",
   "execution_count": 42,
   "metadata": {},
   "outputs": [
    {
     "data": {
      "image/png": "[encoded data removed]",
      "text/plain": [
       "<Figure size 864x432 with 1 Axes>"
      ]
     },
     "metadata": {
      "needs_background": "light"
     },
     "output_type": "display_data"
    }
   ],
   "source": [
    "day_data = data.groupby('year')['last_price'].mean()\n",
    "day_data.plot(x = 'last_price',\n",
    "                                        y = 'year',\n",
    "                                        kind = 'bar',\n",
    "                                        alpha = 0.5,\n",
    "                                        color = 'green',\n",
    "                                       title = 'Зависимость цены года',\n",
    "                                       figsize = (12,6))\n",
    "plt.ylabel('Средняя цена');"
   ]
  },
  {
   "cell_type": "code",
   "execution_count": 43,
   "metadata": {},
   "outputs": [
    {
     "data": {
      "text/html": [
       "<div>\n",
       "<style scoped>\n",
       "    .dataframe tbody tr th:only-of-type {\n",
       "        vertical-align: middle;\n",
       "    }\n",
       "\n",
       "    .dataframe tbody tr th {\n",
       "        vertical-align: top;\n",
       "    }\n",
       "\n",
       "    .dataframe thead th {\n",
       "        text-align: right;\n",
       "    }\n",
       "</style>\n",
       "<table border=\"1\" class=\"dataframe\">\n",
       "  <thead>\n",
       "    <tr style=\"text-align: right;\">\n",
       "      <th></th>\n",
       "      <th>count</th>\n",
       "      <th>sum_last_price</th>\n",
       "      <th>sum_total_area</th>\n",
       "      <th>price_m2</th>\n",
       "    </tr>\n",
       "    <tr>\n",
       "      <th>locality_name</th>\n",
       "      <th></th>\n",
       "      <th></th>\n",
       "      <th></th>\n",
       "      <th></th>\n",
       "    </tr>\n",
       "  </thead>\n",
       "  <tbody>\n",
       "    <tr>\n",
       "      <th>Выборг</th>\n",
       "      <td>237</td>\n",
       "      <td>7.704830e+08</td>\n",
       "      <td>13307.56</td>\n",
       "      <td>57898.14</td>\n",
       "    </tr>\n",
       "    <tr>\n",
       "      <th>Всеволожск</th>\n",
       "      <td>398</td>\n",
       "      <td>1.508049e+09</td>\n",
       "      <td>22296.83</td>\n",
       "      <td>67635.13</td>\n",
       "    </tr>\n",
       "    <tr>\n",
       "      <th>Гатчина</th>\n",
       "      <td>307</td>\n",
       "      <td>1.070919e+09</td>\n",
       "      <td>15639.48</td>\n",
       "      <td>68475.38</td>\n",
       "    </tr>\n",
       "    <tr>\n",
       "      <th>Колпино</th>\n",
       "      <td>338</td>\n",
       "      <td>1.339839e+09</td>\n",
       "      <td>17992.24</td>\n",
       "      <td>74467.62</td>\n",
       "    </tr>\n",
       "    <tr>\n",
       "      <th>поселок Шушары</th>\n",
       "      <td>440</td>\n",
       "      <td>1.807556e+09</td>\n",
       "      <td>23681.36</td>\n",
       "      <td>76328.22</td>\n",
       "    </tr>\n",
       "    <tr>\n",
       "      <th>поселок Мурино</th>\n",
       "      <td>556</td>\n",
       "      <td>2.030713e+09</td>\n",
       "      <td>24442.54</td>\n",
       "      <td>83081.09</td>\n",
       "    </tr>\n",
       "    <tr>\n",
       "      <th>поселок Парголово</th>\n",
       "      <td>327</td>\n",
       "      <td>1.467600e+09</td>\n",
       "      <td>16847.50</td>\n",
       "      <td>87110.87</td>\n",
       "    </tr>\n",
       "    <tr>\n",
       "      <th>деревня Кудрово</th>\n",
       "      <td>299</td>\n",
       "      <td>1.266013e+09</td>\n",
       "      <td>13924.95</td>\n",
       "      <td>90916.90</td>\n",
       "    </tr>\n",
       "    <tr>\n",
       "      <th>Пушкин</th>\n",
       "      <td>369</td>\n",
       "      <td>2.387074e+09</td>\n",
       "      <td>22712.98</td>\n",
       "      <td>105097.36</td>\n",
       "    </tr>\n",
       "    <tr>\n",
       "      <th>Санкт-Петербург</th>\n",
       "      <td>15721</td>\n",
       "      <td>1.267507e+11</td>\n",
       "      <td>1017958.15</td>\n",
       "      <td>124514.62</td>\n",
       "    </tr>\n",
       "  </tbody>\n",
       "</table>\n",
       "</div>"
      ],
      "text/plain": [
       "                   count  sum_last_price  sum_total_area   price_m2\n",
       "locality_name                                                      \n",
       "Выборг               237    7.704830e+08        13307.56   57898.14\n",
       "Всеволожск           398    1.508049e+09        22296.83   67635.13\n",
       "Гатчина              307    1.070919e+09        15639.48   68475.38\n",
       "Колпино              338    1.339839e+09        17992.24   74467.62\n",
       "поселок Шушары       440    1.807556e+09        23681.36   76328.22\n",
       "поселок Мурино       556    2.030713e+09        24442.54   83081.09\n",
       "поселок Парголово    327    1.467600e+09        16847.50   87110.87\n",
       "деревня Кудрово      299    1.266013e+09        13924.95   90916.90\n",
       "Пушкин               369    2.387074e+09        22712.98  105097.36\n",
       "Санкт-Петербург    15721    1.267507e+11      1017958.15  124514.62"
      ]
     },
     "execution_count": 43,
     "metadata": {},
     "output_type": "execute_result"
    }
   ],
   "source": [
    "agg_table = data.pivot_table(index = 'locality_name',values = ['last_price','total_area'],aggfunc = ['count','sum'])\n",
    "agg_table.columns = ['count','count_total_area','sum_last_price','sum_total_area']\n",
    "agg_table = agg_table[['count','sum_last_price','sum_total_area']].sort_values(by = 'count',ascending = False).head(10)\n",
    "agg_table['price_m2'] = round(agg_table['sum_last_price']/agg_table['sum_total_area'],2)\n",
    "agg_table.sort_values(by = 'price_m2')\n",
    "\n"
   ]
  },
  {
   "cell_type": "code",
   "execution_count": 44,
   "metadata": {},
   "outputs": [
    {
     "data": {
      "text/html": [
       "<div>\n",
       "<style scoped>\n",
       "    .dataframe tbody tr th:only-of-type {\n",
       "        vertical-align: middle;\n",
       "    }\n",
       "\n",
       "    .dataframe tbody tr th {\n",
       "        vertical-align: top;\n",
       "    }\n",
       "\n",
       "    .dataframe thead th {\n",
       "        text-align: right;\n",
       "    }\n",
       "</style>\n",
       "<table border=\"1\" class=\"dataframe\">\n",
       "  <thead>\n",
       "    <tr style=\"text-align: right;\">\n",
       "      <th></th>\n",
       "      <th>count</th>\n",
       "      <th>count_total_area</th>\n",
       "      <th>sum_last_price</th>\n",
       "      <th>sum_total_area</th>\n",
       "      <th>median_last_price</th>\n",
       "      <th>median_total_area</th>\n",
       "      <th>price_m2</th>\n",
       "      <th>price_m2_median</th>\n",
       "    </tr>\n",
       "    <tr>\n",
       "      <th>locality_name</th>\n",
       "      <th></th>\n",
       "      <th></th>\n",
       "      <th></th>\n",
       "      <th></th>\n",
       "      <th></th>\n",
       "      <th></th>\n",
       "      <th></th>\n",
       "      <th></th>\n",
       "    </tr>\n",
       "  </thead>\n",
       "  <tbody>\n",
       "    <tr>\n",
       "      <th>Санкт-Петербург</th>\n",
       "      <td>15721</td>\n",
       "      <td>15721</td>\n",
       "      <td>1.267507e+11</td>\n",
       "      <td>1017958.15</td>\n",
       "      <td>5500000.0</td>\n",
       "      <td>55.00</td>\n",
       "      <td>124514.62</td>\n",
       "      <td>100000.00</td>\n",
       "    </tr>\n",
       "    <tr>\n",
       "      <th>поселок Мурино</th>\n",
       "      <td>556</td>\n",
       "      <td>556</td>\n",
       "      <td>2.030713e+09</td>\n",
       "      <td>24442.54</td>\n",
       "      <td>3400000.0</td>\n",
       "      <td>37.40</td>\n",
       "      <td>83081.09</td>\n",
       "      <td>90909.09</td>\n",
       "    </tr>\n",
       "    <tr>\n",
       "      <th>поселок Шушары</th>\n",
       "      <td>440</td>\n",
       "      <td>440</td>\n",
       "      <td>1.807556e+09</td>\n",
       "      <td>23681.36</td>\n",
       "      <td>3950000.0</td>\n",
       "      <td>50.10</td>\n",
       "      <td>76328.22</td>\n",
       "      <td>78842.32</td>\n",
       "    </tr>\n",
       "    <tr>\n",
       "      <th>Всеволожск</th>\n",
       "      <td>398</td>\n",
       "      <td>398</td>\n",
       "      <td>1.508049e+09</td>\n",
       "      <td>22296.83</td>\n",
       "      <td>3450000.0</td>\n",
       "      <td>53.55</td>\n",
       "      <td>67635.13</td>\n",
       "      <td>64425.77</td>\n",
       "    </tr>\n",
       "    <tr>\n",
       "      <th>Пушкин</th>\n",
       "      <td>369</td>\n",
       "      <td>369</td>\n",
       "      <td>2.387074e+09</td>\n",
       "      <td>22712.98</td>\n",
       "      <td>5180000.0</td>\n",
       "      <td>53.20</td>\n",
       "      <td>105097.36</td>\n",
       "      <td>97368.42</td>\n",
       "    </tr>\n",
       "    <tr>\n",
       "      <th>Колпино</th>\n",
       "      <td>338</td>\n",
       "      <td>338</td>\n",
       "      <td>1.339839e+09</td>\n",
       "      <td>17992.24</td>\n",
       "      <td>3600000.0</td>\n",
       "      <td>50.00</td>\n",
       "      <td>74467.62</td>\n",
       "      <td>72000.00</td>\n",
       "    </tr>\n",
       "    <tr>\n",
       "      <th>поселок Парголово</th>\n",
       "      <td>327</td>\n",
       "      <td>327</td>\n",
       "      <td>1.467600e+09</td>\n",
       "      <td>16847.50</td>\n",
       "      <td>4100000.0</td>\n",
       "      <td>43.00</td>\n",
       "      <td>87110.87</td>\n",
       "      <td>95348.84</td>\n",
       "    </tr>\n",
       "    <tr>\n",
       "      <th>Гатчина</th>\n",
       "      <td>307</td>\n",
       "      <td>307</td>\n",
       "      <td>1.070919e+09</td>\n",
       "      <td>15639.48</td>\n",
       "      <td>3100000.0</td>\n",
       "      <td>45.00</td>\n",
       "      <td>68475.38</td>\n",
       "      <td>68888.89</td>\n",
       "    </tr>\n",
       "    <tr>\n",
       "      <th>деревня Кудрово</th>\n",
       "      <td>299</td>\n",
       "      <td>299</td>\n",
       "      <td>1.266013e+09</td>\n",
       "      <td>13924.95</td>\n",
       "      <td>3790000.0</td>\n",
       "      <td>39.90</td>\n",
       "      <td>90916.90</td>\n",
       "      <td>94987.47</td>\n",
       "    </tr>\n",
       "    <tr>\n",
       "      <th>Выборг</th>\n",
       "      <td>237</td>\n",
       "      <td>237</td>\n",
       "      <td>7.704830e+08</td>\n",
       "      <td>13307.56</td>\n",
       "      <td>2897000.0</td>\n",
       "      <td>50.20</td>\n",
       "      <td>57898.14</td>\n",
       "      <td>57709.16</td>\n",
       "    </tr>\n",
       "  </tbody>\n",
       "</table>\n",
       "</div>"
      ],
      "text/plain": [
       "                   count  count_total_area  sum_last_price  sum_total_area  \\\n",
       "locality_name                                                                \n",
       "Санкт-Петербург    15721             15721    1.267507e+11      1017958.15   \n",
       "поселок Мурино       556               556    2.030713e+09        24442.54   \n",
       "поселок Шушары       440               440    1.807556e+09        23681.36   \n",
       "Всеволожск           398               398    1.508049e+09        22296.83   \n",
       "Пушкин               369               369    2.387074e+09        22712.98   \n",
       "Колпино              338               338    1.339839e+09        17992.24   \n",
       "поселок Парголово    327               327    1.467600e+09        16847.50   \n",
       "Гатчина              307               307    1.070919e+09        15639.48   \n",
       "деревня Кудрово      299               299    1.266013e+09        13924.95   \n",
       "Выборг               237               237    7.704830e+08        13307.56   \n",
       "\n",
       "                   median_last_price  median_total_area   price_m2  \\\n",
       "locality_name                                                        \n",
       "Санкт-Петербург            5500000.0              55.00  124514.62   \n",
       "поселок Мурино             3400000.0              37.40   83081.09   \n",
       "поселок Шушары             3950000.0              50.10   76328.22   \n",
       "Всеволожск                 3450000.0              53.55   67635.13   \n",
       "Пушкин                     5180000.0              53.20  105097.36   \n",
       "Колпино                    3600000.0              50.00   74467.62   \n",
       "поселок Парголово          4100000.0              43.00   87110.87   \n",
       "Гатчина                    3100000.0              45.00   68475.38   \n",
       "деревня Кудрово            3790000.0              39.90   90916.90   \n",
       "Выборг                     2897000.0              50.20   57898.14   \n",
       "\n",
       "                   price_m2_median  \n",
       "locality_name                       \n",
       "Санкт-Петербург          100000.00  \n",
       "поселок Мурино            90909.09  \n",
       "поселок Шушары            78842.32  \n",
       "Всеволожск                64425.77  \n",
       "Пушкин                    97368.42  \n",
       "Колпино                   72000.00  \n",
       "поселок Парголово         95348.84  \n",
       "Гатчина                   68888.89  \n",
       "деревня Кудрово           94987.47  \n",
       "Выборг                    57709.16  "
      ]
     },
     "execution_count": 44,
     "metadata": {},
     "output_type": "execute_result"
    }
   ],
   "source": [
    "agg_table = data.pivot_table(index='locality_name', values=['last_price', 'total_area'], aggfunc=['count', 'sum', 'median'])\n",
    "agg_table.columns = ['count', 'count_total_area', 'sum_last_price', 'sum_total_area', 'median_last_price', 'median_total_area']\n",
    "\n",
    "agg_table.sort_values(by ='count',ascending = False)\n",
    "agg_table['price_m2'] = round(agg_table['sum_last_price']/agg_table['sum_total_area'],2)\n",
    "agg_table['price_m2_median'] = round(agg_table['median_last_price']/agg_table['median_total_area'],2)\n",
    "agg_table.sort_values(by = 'count',ascending = False).head(10)\n",
    "\n"
   ]
  },
  {
   "cell_type": "markdown",
   "metadata": {},
   "source": [
    "Населённый пункт с самой высокой стоимостью квадратного метра:\n",
    "- *Санкт-Петербург* \n",
    "\n",
    "С самой низкой стоимостью квадратного метра :\n",
    "- *Выборг*."
   ]
  },
  {
   "cell_type": "code",
   "execution_count": 45,
   "metadata": {},
   "outputs": [
    {
     "data": {
      "image/png": "[encoded data removed]",
      "text/plain": [
       "<Figure size 864x432 with 1 Axes>"
      ]
     },
     "metadata": {
      "needs_background": "light"
     },
     "output_type": "display_data"
    }
   ],
   "source": [
    "data[data['locality_name'] == 'Санкт-Петербург'].\\\n",
    "groupby('dist_in_km')['last_price'].mean().plot(figsize = (12,6),title ='Зависимость стоимости жилья от удаленности от центра' );\n"
   ]
  },
  {
   "cell_type": "markdown",
   "metadata": {},
   "source": [
    "Тренд на снижение стоимости при удалении от центра очень четкий, при этом видны 2 пика в районе 5 км от центра и после ~27 км (Пушкин?) "
   ]
  },
  {
   "cell_type": "markdown",
   "metadata": {
    "id": "h7VpzkIDAwb-"
   },
   "source": [
    "### Напишите общий вывод"
   ]
  },
  {
   "cell_type": "markdown",
   "metadata": {},
   "source": [
    " - Значение высоты потолков,высоты зданий, жилой площади заполнены медианными значниями \n",
    "пропуски балконов заполнены 0 (предполагается, что там где пропуски - балконов просто нет )\n",
    " - Удалены явные и неявные дубликаты \n",
    " - Колонка времени приведена к формату времени заменены форматы данных float на int там где это возможно.\n",
    " - Добавлены новые колонки:\n",
    "     - цена одного квадратного метра\n",
    "     - день недели публикации\n",
    "     - месяц публикации объявления\n",
    "     - год публикации объявления\n",
    "     - тип этажа квартиры (значения — «‎первый», «последний», «другой»)\n",
    "     - расстояние до центра города в километрах \n",
    " - Построены графики распределения \n",
    "    - общая площадь - наиболее часто встречающиеся значения около 30 метров, существуют квартиры более 300 метров, но таких строк очень мало и в общей картине они незначительны\n",
    "    - жилая площадь - аналогично общей площади, однако тут будто имеется 2 пика видимо из-за большого количества 1 комнатных квартир\n",
    "    - площадь кухни - распределение вроде бы нормальное, но присутствуют \"зубцы\" природа которых неясна\n",
    "    - цена объекта - подавляющее количество событий существует в пределе 15 млн рублей за квартиру однако существуют и выбросы - значения с очень высокой стоимостью\n",
    "    - количество комнат - самые частые значения от 1 до 3 комнат, существует какое-то количество квартир с количеством комнат равным 0, вероятно это ошибка, но может быть это какие-то технические помещения\n",
    "    - высота потолков - большинство значений около 2.5 метров;\n",
    "    - тип этажа квартиры («первый», «последний», «другой») - логично что чаще встречаются значения другой что-то кроме первого и последнего\n",
    "    - общее количество этажей в доме - тут вроде все обычно, довольно большое количество низкоэтажной застройки, большинство квартир меньше 10 этажей\n",
    "    - расстояние до центра города в метрах - существует некоторое количество квартир очень сильно удаленных от центра, было предположение что это частные дома однако 10 самых удаленных от центра построек часто имеют больше 1 этажа\n",
    "    - расстояние до ближайшего парка - у большинства построек парк расположен в радиусе 500 метров\n",
    "    \n",
    "В среднем квартира продавалась в течение полугода, однако медианное значение - 3 месяца, продажи менее 3 месяцев можно считать быстрыми а более полугода - долгими.\n",
    "**Самая большая зависимость стоимости от общей площади жилья.**"
   ]
  }
 ],
 "metadata": {
  "ExecuteTimeLog": [
   {
    "duration": 624,
    "start_time": "2024-02-25T17:25:41.444Z"
   },
   {
    "duration": 100,
    "start_time": "2024-02-25T17:25:57.064Z"
   },
   {
    "duration": 1941,
    "start_time": "2024-02-25T17:26:54.427Z"
   },
   {
    "duration": 1563,
    "start_time": "2024-02-25T17:27:12.795Z"
   },
   {
    "duration": 131,
    "start_time": "2024-02-25T17:27:50.360Z"
   },
   {
    "duration": 88,
    "start_time": "2024-02-25T17:28:04.312Z"
   },
   {
    "duration": 91,
    "start_time": "2024-02-25T17:28:12.846Z"
   },
   {
    "duration": 12,
    "start_time": "2024-02-25T17:28:42.261Z"
   },
   {
    "duration": 1528,
    "start_time": "2024-02-25T17:28:42.422Z"
   },
   {
    "duration": 1443,
    "start_time": "2024-02-25T17:28:53.554Z"
   },
   {
    "duration": 14,
    "start_time": "2024-02-25T17:32:33.440Z"
   },
   {
    "duration": 7,
    "start_time": "2024-02-25T17:32:44.639Z"
   },
   {
    "duration": 14,
    "start_time": "2024-02-25T17:33:00.371Z"
   },
   {
    "duration": 10,
    "start_time": "2024-02-25T17:33:20.507Z"
   },
   {
    "duration": 9,
    "start_time": "2024-02-25T17:33:33.040Z"
   },
   {
    "duration": 34,
    "start_time": "2024-02-25T17:34:25.672Z"
   },
   {
    "duration": 33,
    "start_time": "2024-02-25T17:34:44.402Z"
   },
   {
    "duration": 77,
    "start_time": "2024-02-25T17:35:09.367Z"
   },
   {
    "duration": 135,
    "start_time": "2024-02-25T17:35:12.451Z"
   },
   {
    "duration": 55,
    "start_time": "2024-02-25T17:35:18.288Z"
   },
   {
    "duration": 35,
    "start_time": "2024-02-25T17:35:30.949Z"
   },
   {
    "duration": 61,
    "start_time": "2024-02-25T17:35:49.684Z"
   },
   {
    "duration": 4,
    "start_time": "2024-02-25T17:36:01.325Z"
   },
   {
    "duration": 5,
    "start_time": "2024-02-25T17:36:07.598Z"
   },
   {
    "duration": 6,
    "start_time": "2024-02-25T17:36:23.877Z"
   },
   {
    "duration": 33,
    "start_time": "2024-02-25T17:36:33.000Z"
   },
   {
    "duration": 4,
    "start_time": "2024-02-25T17:36:52.148Z"
   },
   {
    "duration": 33,
    "start_time": "2024-02-25T17:36:54.515Z"
   },
   {
    "duration": 112,
    "start_time": "2024-02-25T17:41:03.765Z"
   },
   {
    "duration": 7,
    "start_time": "2024-02-25T17:48:39.061Z"
   },
   {
    "duration": 34,
    "start_time": "2024-02-25T17:48:45.048Z"
   },
   {
    "duration": 25,
    "start_time": "2024-02-25T17:49:04.541Z"
   },
   {
    "duration": 5,
    "start_time": "2024-02-25T17:50:05.306Z"
   },
   {
    "duration": 9,
    "start_time": "2024-02-25T17:51:03.355Z"
   },
   {
    "duration": 8,
    "start_time": "2024-02-25T17:51:20.282Z"
   },
   {
    "duration": 13,
    "start_time": "2024-02-25T17:51:32.589Z"
   },
   {
    "duration": 15,
    "start_time": "2024-02-25T17:51:39.214Z"
   },
   {
    "duration": 4,
    "start_time": "2024-02-25T17:51:49.532Z"
   },
   {
    "duration": 14,
    "start_time": "2024-02-25T17:51:50.279Z"
   },
   {
    "duration": 4,
    "start_time": "2024-02-25T17:53:08.477Z"
   },
   {
    "duration": 7,
    "start_time": "2024-02-25T17:53:24.917Z"
   },
   {
    "duration": 4,
    "start_time": "2024-02-25T17:53:37.460Z"
   },
   {
    "duration": 4,
    "start_time": "2024-02-25T17:53:41.777Z"
   },
   {
    "duration": 6,
    "start_time": "2024-02-25T17:53:58.835Z"
   },
   {
    "duration": 3,
    "start_time": "2024-02-25T17:55:11.377Z"
   },
   {
    "duration": 6,
    "start_time": "2024-02-25T17:55:12.322Z"
   },
   {
    "duration": 4,
    "start_time": "2024-02-25T17:55:16.941Z"
   },
   {
    "duration": 7,
    "start_time": "2024-02-25T17:57:54.254Z"
   },
   {
    "duration": 11,
    "start_time": "2024-02-25T17:58:00.548Z"
   },
   {
    "duration": 8,
    "start_time": "2024-02-25T17:58:11.956Z"
   },
   {
    "duration": 6,
    "start_time": "2024-02-25T17:58:13.988Z"
   },
   {
    "duration": 5,
    "start_time": "2024-02-25T17:58:18.182Z"
   },
   {
    "duration": 5,
    "start_time": "2024-02-25T18:00:53.926Z"
   },
   {
    "duration": 5,
    "start_time": "2024-02-25T18:02:02.493Z"
   },
   {
    "duration": 8,
    "start_time": "2024-02-25T18:02:23.514Z"
   },
   {
    "duration": 4,
    "start_time": "2024-02-25T18:02:41.435Z"
   },
   {
    "duration": 7,
    "start_time": "2024-02-25T18:02:48.697Z"
   },
   {
    "duration": 4,
    "start_time": "2024-02-25T18:03:04.359Z"
   },
   {
    "duration": 5,
    "start_time": "2024-02-25T18:03:13.647Z"
   },
   {
    "duration": 5,
    "start_time": "2024-02-25T18:03:23.212Z"
   },
   {
    "duration": 7,
    "start_time": "2024-02-25T18:03:50.599Z"
   },
   {
    "duration": 6,
    "start_time": "2024-02-25T18:03:54.451Z"
   },
   {
    "duration": 7,
    "start_time": "2024-02-25T18:04:10.237Z"
   },
   {
    "duration": 7,
    "start_time": "2024-02-25T18:04:15.011Z"
   },
   {
    "duration": 11,
    "start_time": "2024-02-25T18:04:18.040Z"
   },
   {
    "duration": 10,
    "start_time": "2024-02-25T18:04:26.984Z"
   },
   {
    "duration": 11,
    "start_time": "2024-02-25T18:04:34.429Z"
   },
   {
    "duration": 11,
    "start_time": "2024-02-25T18:04:38.065Z"
   },
   {
    "duration": 4,
    "start_time": "2024-02-25T18:05:09.020Z"
   },
   {
    "duration": 6,
    "start_time": "2024-02-25T18:05:11.523Z"
   },
   {
    "duration": 12,
    "start_time": "2024-02-25T18:05:49.486Z"
   },
   {
    "duration": 5,
    "start_time": "2024-02-25T18:05:58.679Z"
   },
   {
    "duration": 4,
    "start_time": "2024-02-25T18:06:06.252Z"
   },
   {
    "duration": 5,
    "start_time": "2024-02-25T18:06:18.870Z"
   },
   {
    "duration": 23,
    "start_time": "2024-02-25T18:06:57.008Z"
   },
   {
    "duration": 5,
    "start_time": "2024-02-25T18:06:58.587Z"
   },
   {
    "duration": 4,
    "start_time": "2024-02-25T18:07:09.751Z"
   },
   {
    "duration": 5,
    "start_time": "2024-02-25T18:07:51.582Z"
   },
   {
    "duration": 15,
    "start_time": "2024-02-25T18:08:16.422Z"
   },
   {
    "duration": 28,
    "start_time": "2024-02-25T18:08:40.865Z"
   },
   {
    "duration": 7,
    "start_time": "2024-02-25T18:08:42.358Z"
   },
   {
    "duration": 6,
    "start_time": "2024-02-25T18:08:48.275Z"
   },
   {
    "duration": 42,
    "start_time": "2024-02-25T18:10:38.047Z"
   },
   {
    "duration": 42,
    "start_time": "2024-02-25T18:10:47.482Z"
   },
   {
    "duration": 6,
    "start_time": "2024-02-25T18:10:49.289Z"
   },
   {
    "duration": 6,
    "start_time": "2024-02-25T18:10:51.503Z"
   },
   {
    "duration": 47,
    "start_time": "2024-02-25T18:11:24.386Z"
   },
   {
    "duration": 5,
    "start_time": "2024-02-25T18:11:25.343Z"
   },
   {
    "duration": 6,
    "start_time": "2024-02-25T18:11:26.381Z"
   },
   {
    "duration": 4,
    "start_time": "2024-02-25T18:11:46.466Z"
   },
   {
    "duration": 5,
    "start_time": "2024-02-25T18:12:18.792Z"
   },
   {
    "duration": 5,
    "start_time": "2024-02-25T18:12:19.591Z"
   },
   {
    "duration": 34,
    "start_time": "2024-02-25T18:13:33.158Z"
   },
   {
    "duration": 8,
    "start_time": "2024-02-25T18:13:58.905Z"
   },
   {
    "duration": 6,
    "start_time": "2024-02-25T18:14:08.674Z"
   },
   {
    "duration": 4,
    "start_time": "2024-02-25T18:14:17.032Z"
   },
   {
    "duration": 5,
    "start_time": "2024-02-25T18:14:49.898Z"
   },
   {
    "duration": 6,
    "start_time": "2024-02-25T18:15:10.389Z"
   },
   {
    "duration": 5,
    "start_time": "2024-02-25T18:15:19.063Z"
   },
   {
    "duration": 31,
    "start_time": "2024-02-25T18:15:37.815Z"
   },
   {
    "duration": 55,
    "start_time": "2024-02-25T18:16:00.175Z"
   },
   {
    "duration": 33,
    "start_time": "2024-02-25T18:19:57.195Z"
   },
   {
    "duration": 6,
    "start_time": "2024-02-25T18:20:08.153Z"
   },
   {
    "duration": 7,
    "start_time": "2024-02-25T18:20:19.654Z"
   },
   {
    "duration": 7,
    "start_time": "2024-02-25T18:21:34.465Z"
   },
   {
    "duration": 5,
    "start_time": "2024-02-25T18:21:44.985Z"
   },
   {
    "duration": 6,
    "start_time": "2024-02-25T18:22:02.369Z"
   },
   {
    "duration": 33,
    "start_time": "2024-02-25T18:22:41.364Z"
   },
   {
    "duration": 66,
    "start_time": "2024-02-25T18:26:54.889Z"
   },
   {
    "duration": 1469,
    "start_time": "2024-02-25T18:27:55.757Z"
   },
   {
    "duration": 1438,
    "start_time": "2024-02-25T18:28:16.497Z"
   },
   {
    "duration": 7,
    "start_time": "2024-02-25T18:29:35.616Z"
   },
   {
    "duration": 35,
    "start_time": "2024-02-25T18:30:57.120Z"
   },
   {
    "duration": 11,
    "start_time": "2024-02-25T18:31:59.725Z"
   },
   {
    "duration": 1482,
    "start_time": "2024-02-25T18:32:09.692Z"
   },
   {
    "duration": 31,
    "start_time": "2024-02-25T18:32:12.382Z"
   },
   {
    "duration": 31,
    "start_time": "2024-02-25T18:34:49.974Z"
   },
   {
    "duration": 19332,
    "start_time": "2024-02-25T18:35:23.091Z"
   },
   {
    "duration": 403,
    "start_time": "2024-02-25T18:36:20.479Z"
   },
   {
    "duration": 170,
    "start_time": "2024-02-25T18:36:28.568Z"
   },
   {
    "duration": 152,
    "start_time": "2024-02-25T18:36:44.222Z"
   },
   {
    "duration": 32,
    "start_time": "2024-02-25T18:37:09.854Z"
   },
   {
    "duration": 39,
    "start_time": "2024-02-25T18:37:20.375Z"
   },
   {
    "duration": 152,
    "start_time": "2024-02-25T18:39:13.442Z"
   },
   {
    "duration": 155,
    "start_time": "2024-02-25T18:39:35.724Z"
   },
   {
    "duration": 159,
    "start_time": "2024-02-25T18:39:44.024Z"
   },
   {
    "duration": 226,
    "start_time": "2024-02-25T18:39:55.346Z"
   },
   {
    "duration": 260,
    "start_time": "2024-02-25T18:40:30.185Z"
   },
   {
    "duration": 175,
    "start_time": "2024-02-25T18:40:37.323Z"
   },
   {
    "duration": 157,
    "start_time": "2024-02-25T18:40:40.531Z"
   },
   {
    "duration": 159,
    "start_time": "2024-02-25T18:41:42.819Z"
   },
   {
    "duration": 190,
    "start_time": "2024-02-25T18:42:33.199Z"
   },
   {
    "duration": 126,
    "start_time": "2024-02-25T18:42:52.382Z"
   },
   {
    "duration": 109,
    "start_time": "2024-02-25T18:43:03.634Z"
   },
   {
    "duration": 113,
    "start_time": "2024-02-25T18:43:07.100Z"
   },
   {
    "duration": 104,
    "start_time": "2024-02-25T18:43:11.049Z"
   },
   {
    "duration": 146,
    "start_time": "2024-02-25T18:43:15.312Z"
   },
   {
    "duration": 1024,
    "start_time": "2024-02-25T18:43:19.530Z"
   },
   {
    "duration": 194,
    "start_time": "2024-02-25T18:43:25.687Z"
   },
   {
    "duration": 5,
    "start_time": "2024-02-25T18:43:40.486Z"
   },
   {
    "duration": 7,
    "start_time": "2024-02-25T18:43:48.447Z"
   },
   {
    "duration": 17,
    "start_time": "2024-02-25T18:44:22.336Z"
   },
   {
    "duration": 17,
    "start_time": "2024-02-25T18:44:57.372Z"
   },
   {
    "duration": 18,
    "start_time": "2024-02-25T18:45:00.871Z"
   },
   {
    "duration": 17,
    "start_time": "2024-02-25T18:45:03.767Z"
   },
   {
    "duration": 19,
    "start_time": "2024-02-25T18:45:11.339Z"
   },
   {
    "duration": 21,
    "start_time": "2024-02-25T18:45:29.877Z"
   },
   {
    "duration": 127,
    "start_time": "2024-02-25T18:46:06.508Z"
   },
   {
    "duration": 121,
    "start_time": "2024-02-25T18:46:11.783Z"
   },
   {
    "duration": 115,
    "start_time": "2024-02-25T18:46:28.376Z"
   },
   {
    "duration": 119,
    "start_time": "2024-02-25T18:46:31.726Z"
   },
   {
    "duration": 109,
    "start_time": "2024-02-25T18:46:36.267Z"
   },
   {
    "duration": 136,
    "start_time": "2024-02-25T18:46:39.505Z"
   },
   {
    "duration": 584,
    "start_time": "2024-02-25T18:46:44.443Z"
   },
   {
    "duration": 115,
    "start_time": "2024-02-25T18:46:54.390Z"
   },
   {
    "duration": 7,
    "start_time": "2024-02-25T18:47:49.895Z"
   },
   {
    "duration": 107,
    "start_time": "2024-02-25T18:48:09.464Z"
   },
   {
    "duration": 187,
    "start_time": "2024-02-25T18:48:22.302Z"
   },
   {
    "duration": 157,
    "start_time": "2024-02-25T18:48:27.408Z"
   },
   {
    "duration": 152,
    "start_time": "2024-02-25T18:48:51.804Z"
   },
   {
    "duration": 158,
    "start_time": "2024-02-25T18:49:16.497Z"
   },
   {
    "duration": 150,
    "start_time": "2024-02-25T18:49:21.482Z"
   },
   {
    "duration": 29,
    "start_time": "2024-02-25T18:49:41.395Z"
   },
   {
    "duration": 30,
    "start_time": "2024-02-25T18:49:47.580Z"
   },
   {
    "duration": 3,
    "start_time": "2024-02-25T18:50:05.836Z"
   },
   {
    "duration": 8,
    "start_time": "2024-02-25T18:50:42.556Z"
   },
   {
    "duration": 9,
    "start_time": "2024-02-25T18:51:03.807Z"
   },
   {
    "duration": 151,
    "start_time": "2024-02-25T18:51:11.262Z"
   },
   {
    "duration": 6,
    "start_time": "2024-02-25T19:16:33.899Z"
   },
   {
    "duration": 13,
    "start_time": "2024-02-25T19:16:46.611Z"
   },
   {
    "duration": 28,
    "start_time": "2024-02-25T19:16:55.874Z"
   },
   {
    "duration": 806,
    "start_time": "2024-02-25T19:17:20.896Z"
   },
   {
    "duration": 33,
    "start_time": "2024-02-25T19:17:45.390Z"
   },
   {
    "duration": 1502,
    "start_time": "2024-02-25T19:17:52.865Z"
   },
   {
    "duration": 956,
    "start_time": "2024-02-25T19:17:59.907Z"
   },
   {
    "duration": 169,
    "start_time": "2024-02-25T19:18:39.710Z"
   },
   {
    "duration": 30,
    "start_time": "2024-02-25T19:19:15.343Z"
   },
   {
    "duration": 7,
    "start_time": "2024-02-25T19:19:29.589Z"
   },
   {
    "duration": 184,
    "start_time": "2024-02-25T19:19:37.526Z"
   },
   {
    "duration": 8,
    "start_time": "2024-02-25T19:20:07.485Z"
   },
   {
    "duration": 162,
    "start_time": "2024-02-25T19:20:15.664Z"
   },
   {
    "duration": 146,
    "start_time": "2024-02-25T19:21:42.909Z"
   },
   {
    "duration": 105,
    "start_time": "2024-02-25T19:21:57.283Z"
   },
   {
    "duration": 125,
    "start_time": "2024-02-25T19:22:04.778Z"
   },
   {
    "duration": 117,
    "start_time": "2024-02-25T19:22:12.795Z"
   },
   {
    "duration": 125,
    "start_time": "2024-02-25T19:22:18.151Z"
   },
   {
    "duration": 124,
    "start_time": "2024-02-25T19:22:27.731Z"
   },
   {
    "duration": 116,
    "start_time": "2024-02-25T19:22:33.412Z"
   },
   {
    "duration": 125,
    "start_time": "2024-02-25T19:22:49.763Z"
   },
   {
    "duration": 107,
    "start_time": "2024-02-25T19:24:09.515Z"
   },
   {
    "duration": 132,
    "start_time": "2024-02-25T19:24:21.786Z"
   },
   {
    "duration": 35,
    "start_time": "2024-02-25T19:24:35.481Z"
   },
   {
    "duration": 16,
    "start_time": "2024-02-25T19:25:39.000Z"
   },
   {
    "duration": 6,
    "start_time": "2024-02-25T19:25:49.429Z"
   },
   {
    "duration": 7,
    "start_time": "2024-02-25T19:26:26.546Z"
   },
   {
    "duration": 7,
    "start_time": "2024-02-25T19:26:38.102Z"
   },
   {
    "duration": 5,
    "start_time": "2024-02-25T19:30:11.344Z"
   },
   {
    "duration": 7,
    "start_time": "2024-02-25T19:30:19.578Z"
   },
   {
    "duration": 31,
    "start_time": "2024-02-25T19:30:23.615Z"
   },
   {
    "duration": 42,
    "start_time": "2024-02-25T19:30:48.396Z"
   },
   {
    "duration": 7,
    "start_time": "2024-02-25T19:31:03.848Z"
   },
   {
    "duration": 5,
    "start_time": "2024-02-25T19:31:16.862Z"
   },
   {
    "duration": 5,
    "start_time": "2024-02-25T19:31:26.589Z"
   },
   {
    "duration": 112,
    "start_time": "2024-02-25T19:31:28.524Z"
   },
   {
    "duration": 114,
    "start_time": "2024-02-25T19:31:39.685Z"
   },
   {
    "duration": 31,
    "start_time": "2024-02-25T19:31:45.412Z"
   },
   {
    "duration": 7,
    "start_time": "2024-02-25T19:31:56.553Z"
   },
   {
    "duration": 5,
    "start_time": "2024-02-25T19:32:07.894Z"
   },
   {
    "duration": 117,
    "start_time": "2024-02-25T19:32:08.874Z"
   },
   {
    "duration": 4,
    "start_time": "2024-02-25T19:32:37.989Z"
   },
   {
    "duration": 142,
    "start_time": "2024-02-25T19:32:44.540Z"
   },
   {
    "duration": 133,
    "start_time": "2024-02-25T19:33:05.392Z"
   },
   {
    "duration": 6,
    "start_time": "2024-02-25T19:33:13.375Z"
   },
   {
    "duration": 31,
    "start_time": "2024-02-25T19:33:44.965Z"
   },
   {
    "duration": 102,
    "start_time": "2024-02-25T19:33:58.542Z"
   },
   {
    "duration": 104,
    "start_time": "2024-02-25T19:34:04.066Z"
   },
   {
    "duration": 11,
    "start_time": "2024-02-25T19:34:18.867Z"
   },
   {
    "duration": 99,
    "start_time": "2024-02-25T19:34:49.428Z"
   },
   {
    "duration": 104,
    "start_time": "2024-02-25T19:34:53.516Z"
   },
   {
    "duration": 95,
    "start_time": "2024-02-25T19:35:45.756Z"
   },
   {
    "duration": 1093,
    "start_time": "2024-02-25T19:36:17.993Z"
   },
   {
    "duration": 72,
    "start_time": "2024-02-25T19:36:29.239Z"
   },
   {
    "duration": 1096,
    "start_time": "2024-02-25T19:36:34.591Z"
   },
   {
    "duration": 1147,
    "start_time": "2024-02-25T19:36:40.175Z"
   },
   {
    "duration": 32,
    "start_time": "2024-02-25T19:36:46.745Z"
   },
   {
    "duration": 18,
    "start_time": "2024-02-25T19:37:05.656Z"
   },
   {
    "duration": 98,
    "start_time": "2024-02-25T19:37:12.703Z"
   },
   {
    "duration": 12,
    "start_time": "2024-02-25T19:37:12.916Z"
   },
   {
    "duration": 1891,
    "start_time": "2024-02-25T19:37:13.046Z"
   },
   {
    "duration": 8,
    "start_time": "2024-02-25T19:37:14.939Z"
   },
   {
    "duration": 8,
    "start_time": "2024-02-25T19:37:14.949Z"
   },
   {
    "duration": 10,
    "start_time": "2024-02-25T19:37:14.960Z"
   },
   {
    "duration": 85,
    "start_time": "2024-02-25T19:37:14.971Z"
   },
   {
    "duration": 7,
    "start_time": "2024-02-25T19:37:15.057Z"
   },
   {
    "duration": 1612,
    "start_time": "2024-02-25T19:37:15.066Z"
   },
   {
    "duration": 190,
    "start_time": "2024-02-25T19:37:16.679Z"
   },
   {
    "duration": 205,
    "start_time": "2024-02-25T19:37:16.871Z"
   },
   {
    "duration": 197,
    "start_time": "2024-02-25T19:37:17.079Z"
   },
   {
    "duration": 173,
    "start_time": "2024-02-25T19:37:17.277Z"
   },
   {
    "duration": 141,
    "start_time": "2024-02-25T19:37:17.451Z"
   },
   {
    "duration": 4,
    "start_time": "2024-02-25T19:37:17.594Z"
   },
   {
    "duration": 148,
    "start_time": "2024-02-25T19:37:17.602Z"
   },
   {
    "duration": 114,
    "start_time": "2024-02-25T19:37:17.751Z"
   },
   {
    "duration": 37,
    "start_time": "2024-02-25T19:37:17.866Z"
   },
   {
    "duration": 1924,
    "start_time": "2024-02-25T19:38:36.109Z"
   },
   {
    "duration": 197,
    "start_time": "2024-02-25T19:38:39.147Z"
   },
   {
    "duration": 205,
    "start_time": "2024-02-25T19:38:39.346Z"
   },
   {
    "duration": 215,
    "start_time": "2024-02-25T19:38:39.552Z"
   },
   {
    "duration": 179,
    "start_time": "2024-02-25T19:38:39.769Z"
   },
   {
    "duration": 139,
    "start_time": "2024-02-25T19:38:39.949Z"
   },
   {
    "duration": 5,
    "start_time": "2024-02-25T19:38:40.089Z"
   },
   {
    "duration": 140,
    "start_time": "2024-02-25T19:38:40.414Z"
   },
   {
    "duration": 110,
    "start_time": "2024-02-25T19:38:41.111Z"
   },
   {
    "duration": 43,
    "start_time": "2024-02-25T19:38:41.581Z"
   },
   {
    "duration": 110,
    "start_time": "2024-02-25T19:39:17.025Z"
   },
   {
    "duration": 110,
    "start_time": "2024-02-25T19:39:39.833Z"
   },
   {
    "duration": 103,
    "start_time": "2024-02-25T19:41:51.032Z"
   },
   {
    "duration": 121,
    "start_time": "2024-02-25T19:43:11.209Z"
   },
   {
    "duration": 66,
    "start_time": "2024-02-25T19:43:57.802Z"
   },
   {
    "duration": 122,
    "start_time": "2024-02-25T19:44:02.010Z"
   },
   {
    "duration": 41,
    "start_time": "2024-02-25T19:44:31.131Z"
   },
   {
    "duration": 141,
    "start_time": "2024-02-25T19:46:33.181Z"
   },
   {
    "duration": 232,
    "start_time": "2024-02-25T19:46:42.413Z"
   },
   {
    "duration": 217,
    "start_time": "2024-02-25T19:56:09.952Z"
   },
   {
    "duration": 8,
    "start_time": "2024-02-25T19:56:21.744Z"
   },
   {
    "duration": 9,
    "start_time": "2024-02-25T19:56:36.136Z"
   },
   {
    "duration": 10,
    "start_time": "2024-02-25T19:56:54.055Z"
   },
   {
    "duration": 11,
    "start_time": "2024-02-25T19:57:22.051Z"
   },
   {
    "duration": 14,
    "start_time": "2024-02-25T19:57:36.596Z"
   },
   {
    "duration": 11,
    "start_time": "2024-02-25T19:57:51.050Z"
   },
   {
    "duration": 12,
    "start_time": "2024-02-25T19:57:59.750Z"
   },
   {
    "duration": 10,
    "start_time": "2024-02-25T19:58:08.724Z"
   },
   {
    "duration": 10,
    "start_time": "2024-02-25T19:58:30.864Z"
   },
   {
    "duration": 15,
    "start_time": "2024-02-25T19:58:48.103Z"
   },
   {
    "duration": 130,
    "start_time": "2024-02-25T20:03:35.666Z"
   },
   {
    "duration": 5,
    "start_time": "2024-02-25T20:07:36.454Z"
   },
   {
    "duration": 8,
    "start_time": "2024-02-25T20:07:45.625Z"
   },
   {
    "duration": 31,
    "start_time": "2024-02-25T20:08:04.844Z"
   },
   {
    "duration": 55,
    "start_time": "2024-02-25T20:08:21.134Z"
   },
   {
    "duration": 46,
    "start_time": "2024-02-25T20:11:52.752Z"
   },
   {
    "duration": 35,
    "start_time": "2024-02-25T20:12:18.460Z"
   },
   {
    "duration": 24,
    "start_time": "2024-02-25T20:12:37.550Z"
   },
   {
    "duration": 4,
    "start_time": "2024-02-25T20:15:54.240Z"
   },
   {
    "duration": 114,
    "start_time": "2024-02-25T20:16:11.560Z"
   },
   {
    "duration": 121,
    "start_time": "2024-02-25T20:17:01.363Z"
   },
   {
    "duration": 5,
    "start_time": "2024-02-25T20:17:30.419Z"
   },
   {
    "duration": 63,
    "start_time": "2024-02-25T20:20:03.715Z"
   },
   {
    "duration": 468,
    "start_time": "2024-02-25T20:21:12.577Z"
   },
   {
    "duration": 244,
    "start_time": "2024-02-25T20:21:29.224Z"
   },
   {
    "duration": 31,
    "start_time": "2024-02-25T20:21:46.852Z"
   },
   {
    "duration": 20,
    "start_time": "2024-02-25T20:25:54.866Z"
   },
   {
    "duration": 562,
    "start_time": "2024-02-25T20:26:22.277Z"
   },
   {
    "duration": 617,
    "start_time": "2024-02-25T20:28:11.498Z"
   },
   {
    "duration": 605,
    "start_time": "2024-02-25T20:28:27.875Z"
   },
   {
    "duration": 70,
    "start_time": "2024-02-25T20:28:42.858Z"
   },
   {
    "duration": 619,
    "start_time": "2024-02-25T20:28:46.600Z"
   },
   {
    "duration": 601,
    "start_time": "2024-02-25T20:29:10.329Z"
   },
   {
    "duration": 604,
    "start_time": "2024-02-25T20:32:58.687Z"
   },
   {
    "duration": 618,
    "start_time": "2024-02-25T20:33:06.348Z"
   },
   {
    "duration": 586,
    "start_time": "2024-02-25T20:35:20.901Z"
   },
   {
    "duration": 357,
    "start_time": "2024-02-25T20:36:06.558Z"
   },
   {
    "duration": 13,
    "start_time": "2024-02-25T20:36:58.025Z"
   },
   {
    "duration": 31,
    "start_time": "2024-02-25T20:37:32.746Z"
   },
   {
    "duration": 16,
    "start_time": "2024-02-25T20:37:52.895Z"
   },
   {
    "duration": 6,
    "start_time": "2024-02-25T20:38:02.483Z"
   },
   {
    "duration": 20,
    "start_time": "2024-02-25T20:38:39.420Z"
   },
   {
    "duration": 30,
    "start_time": "2024-02-25T20:38:55.585Z"
   },
   {
    "duration": 815,
    "start_time": "2024-02-25T20:40:22.608Z"
   },
   {
    "duration": 1469,
    "start_time": "2024-02-26T10:06:24.698Z"
   },
   {
    "duration": 186,
    "start_time": "2024-02-26T10:06:28.412Z"
   },
   {
    "duration": 17,
    "start_time": "2024-02-26T10:06:29.397Z"
   },
   {
    "duration": 2106,
    "start_time": "2024-02-26T10:06:29.793Z"
   },
   {
    "duration": 18,
    "start_time": "2024-02-26T10:06:31.902Z"
   },
   {
    "duration": 38,
    "start_time": "2024-02-26T10:06:31.921Z"
   },
   {
    "duration": 14,
    "start_time": "2024-02-26T10:06:32.318Z"
   },
   {
    "duration": 76,
    "start_time": "2024-02-26T10:06:34.508Z"
   },
   {
    "duration": 11,
    "start_time": "2024-02-26T10:06:40.058Z"
   },
   {
    "duration": 49,
    "start_time": "2024-02-26T10:06:51.597Z"
   },
   {
    "duration": 7,
    "start_time": "2024-02-26T10:07:03.226Z"
   },
   {
    "duration": 1688,
    "start_time": "2024-02-26T10:07:40.911Z"
   },
   {
    "duration": 265,
    "start_time": "2024-02-26T10:07:54.747Z"
   },
   {
    "duration": 268,
    "start_time": "2024-02-26T10:07:55.880Z"
   },
   {
    "duration": 277,
    "start_time": "2024-02-26T10:07:56.198Z"
   },
   {
    "duration": 213,
    "start_time": "2024-02-26T10:07:56.610Z"
   },
   {
    "duration": 327,
    "start_time": "2024-02-26T10:07:57.336Z"
   },
   {
    "duration": 5,
    "start_time": "2024-02-26T10:07:58.112Z"
   },
   {
    "duration": 188,
    "start_time": "2024-02-26T10:07:59.012Z"
   },
   {
    "duration": 133,
    "start_time": "2024-02-26T10:07:59.475Z"
   },
   {
    "duration": 149,
    "start_time": "2024-02-26T10:08:00.070Z"
   },
   {
    "duration": 196,
    "start_time": "2024-02-26T10:08:01.231Z"
   },
   {
    "duration": 157,
    "start_time": "2024-02-26T10:08:01.628Z"
   },
   {
    "duration": 147,
    "start_time": "2024-02-26T10:08:03.144Z"
   },
   {
    "duration": 5,
    "start_time": "2024-02-26T10:08:04.437Z"
   },
   {
    "duration": 101,
    "start_time": "2024-02-26T10:08:06.720Z"
   },
   {
    "duration": 840,
    "start_time": "2024-02-26T10:08:51.946Z"
   },
   {
    "duration": 16,
    "start_time": "2024-02-26T10:09:05.911Z"
   },
   {
    "duration": 18,
    "start_time": "2024-02-26T10:10:32.871Z"
   },
   {
    "duration": 247,
    "start_time": "2024-02-26T10:11:12.802Z"
   },
   {
    "duration": 206,
    "start_time": "2024-02-26T10:11:46.420Z"
   },
   {
    "duration": 285,
    "start_time": "2024-02-26T10:12:16.458Z"
   },
   {
    "duration": 181,
    "start_time": "2024-02-26T10:12:37.469Z"
   },
   {
    "duration": 179,
    "start_time": "2024-02-26T10:12:54.409Z"
   },
   {
    "duration": 195,
    "start_time": "2024-02-26T10:13:13.427Z"
   },
   {
    "duration": 179,
    "start_time": "2024-02-26T10:13:21.251Z"
   },
   {
    "duration": 219,
    "start_time": "2024-02-26T10:13:47.867Z"
   },
   {
    "duration": 224,
    "start_time": "2024-02-26T10:13:55.485Z"
   },
   {
    "duration": 193,
    "start_time": "2024-02-26T10:14:03.249Z"
   },
   {
    "duration": 210,
    "start_time": "2024-02-26T10:14:09.637Z"
   },
   {
    "duration": 197,
    "start_time": "2024-02-26T10:14:13.981Z"
   },
   {
    "duration": 42,
    "start_time": "2024-02-26T10:17:55.547Z"
   },
   {
    "duration": 23,
    "start_time": "2024-02-26T10:18:15.391Z"
   },
   {
    "duration": 1591,
    "start_time": "2024-02-26T10:20:47.929Z"
   },
   {
    "duration": 219,
    "start_time": "2024-02-26T10:21:09.647Z"
   },
   {
    "duration": 207,
    "start_time": "2024-02-26T10:21:13.987Z"
   },
   {
    "duration": 1514,
    "start_time": "2024-02-26T10:21:51.874Z"
   },
   {
    "duration": 286,
    "start_time": "2024-02-26T10:21:56.913Z"
   },
   {
    "duration": 244,
    "start_time": "2024-02-26T10:22:44.983Z"
   },
   {
    "duration": 228,
    "start_time": "2024-02-26T10:23:49.204Z"
   },
   {
    "duration": 266,
    "start_time": "2024-02-26T10:23:54.727Z"
   },
   {
    "duration": 225,
    "start_time": "2024-02-26T10:24:10.287Z"
   },
   {
    "duration": 218,
    "start_time": "2024-02-26T10:24:23.633Z"
   },
   {
    "duration": 217,
    "start_time": "2024-02-26T10:24:45.631Z"
   },
   {
    "duration": 216,
    "start_time": "2024-02-26T10:24:55.887Z"
   },
   {
    "duration": 253,
    "start_time": "2024-02-26T10:25:01.711Z"
   },
   {
    "duration": 207,
    "start_time": "2024-02-26T10:25:06.342Z"
   },
   {
    "duration": 41,
    "start_time": "2024-02-26T11:04:36.109Z"
   },
   {
    "duration": 52,
    "start_time": "2024-02-26T11:04:52.345Z"
   },
   {
    "duration": 36,
    "start_time": "2024-02-26T11:04:56.818Z"
   },
   {
    "duration": 12,
    "start_time": "2024-02-26T11:06:36.794Z"
   },
   {
    "duration": 10,
    "start_time": "2024-02-26T11:06:44.212Z"
   },
   {
    "duration": 7,
    "start_time": "2024-02-26T11:07:04.561Z"
   },
   {
    "duration": 8,
    "start_time": "2024-02-26T11:07:13.124Z"
   },
   {
    "duration": 148,
    "start_time": "2024-02-26T11:12:12.754Z"
   },
   {
    "duration": 29,
    "start_time": "2024-02-26T11:12:20.712Z"
   },
   {
    "duration": 22,
    "start_time": "2024-02-26T11:15:51.582Z"
   },
   {
    "duration": 493,
    "start_time": "2024-02-26T11:19:55.951Z"
   },
   {
    "duration": 19,
    "start_time": "2024-02-26T11:20:12.848Z"
   },
   {
    "duration": 17,
    "start_time": "2024-02-26T11:20:26.695Z"
   },
   {
    "duration": 28,
    "start_time": "2024-02-26T11:20:35.012Z"
   },
   {
    "duration": 19,
    "start_time": "2024-02-26T11:21:18.705Z"
   },
   {
    "duration": 26,
    "start_time": "2024-02-26T11:21:21.320Z"
   },
   {
    "duration": 27,
    "start_time": "2024-02-26T11:22:13.388Z"
   },
   {
    "duration": 25,
    "start_time": "2024-02-26T11:23:04.472Z"
   },
   {
    "duration": 26,
    "start_time": "2024-02-26T11:23:25.531Z"
   },
   {
    "duration": 27,
    "start_time": "2024-02-26T11:29:00.530Z"
   },
   {
    "duration": 38,
    "start_time": "2024-02-26T11:30:01.589Z"
   },
   {
    "duration": 94,
    "start_time": "2024-02-26T11:30:49.011Z"
   },
   {
    "duration": 50,
    "start_time": "2024-02-26T11:30:52.656Z"
   },
   {
    "duration": 177,
    "start_time": "2024-02-26T11:32:16.363Z"
   },
   {
    "duration": 253,
    "start_time": "2024-02-26T11:32:53.337Z"
   },
   {
    "duration": 167,
    "start_time": "2024-02-26T11:33:10.989Z"
   },
   {
    "duration": 174,
    "start_time": "2024-02-26T11:33:23.629Z"
   },
   {
    "duration": 172,
    "start_time": "2024-02-26T11:33:36.630Z"
   },
   {
    "duration": 176,
    "start_time": "2024-02-26T11:33:52.826Z"
   },
   {
    "duration": 207,
    "start_time": "2024-02-26T11:35:07.397Z"
   },
   {
    "duration": 0,
    "start_time": "2024-02-26T11:36:58.841Z"
   },
   {
    "duration": 182,
    "start_time": "2024-02-26T11:37:03.914Z"
   },
   {
    "duration": 37,
    "start_time": "2024-02-26T11:37:18.533Z"
   },
   {
    "duration": 10,
    "start_time": "2024-02-26T11:38:19.728Z"
   },
   {
    "duration": 125,
    "start_time": "2024-02-26T11:38:33.858Z"
   },
   {
    "duration": 138,
    "start_time": "2024-02-26T11:39:01.979Z"
   },
   {
    "duration": 136,
    "start_time": "2024-02-26T12:29:27.103Z"
   },
   {
    "duration": 129,
    "start_time": "2024-02-26T12:29:45.759Z"
   },
   {
    "duration": 145,
    "start_time": "2024-02-26T12:29:50.740Z"
   },
   {
    "duration": 156,
    "start_time": "2024-02-26T12:30:04.730Z"
   },
   {
    "duration": 145,
    "start_time": "2024-02-26T12:30:41.788Z"
   },
   {
    "duration": 137,
    "start_time": "2024-02-26T12:30:55.113Z"
   },
   {
    "duration": 147,
    "start_time": "2024-02-26T12:31:01.318Z"
   },
   {
    "duration": 158,
    "start_time": "2024-02-26T12:31:27.292Z"
   },
   {
    "duration": 160,
    "start_time": "2024-02-26T12:31:37.330Z"
   },
   {
    "duration": 1208,
    "start_time": "2024-02-26T13:42:20.171Z"
   },
   {
    "duration": 176,
    "start_time": "2024-02-26T13:42:21.381Z"
   },
   {
    "duration": 14,
    "start_time": "2024-02-26T13:42:21.559Z"
   },
   {
    "duration": 1962,
    "start_time": "2024-02-26T13:42:21.575Z"
   },
   {
    "duration": 10,
    "start_time": "2024-02-26T13:42:23.538Z"
   },
   {
    "duration": 9,
    "start_time": "2024-02-26T13:42:23.549Z"
   },
   {
    "duration": 12,
    "start_time": "2024-02-26T13:42:23.560Z"
   },
   {
    "duration": 74,
    "start_time": "2024-02-26T13:42:23.573Z"
   },
   {
    "duration": 8,
    "start_time": "2024-02-26T13:42:23.649Z"
   },
   {
    "duration": 1618,
    "start_time": "2024-02-26T13:42:23.669Z"
   },
   {
    "duration": 231,
    "start_time": "2024-02-26T13:42:25.289Z"
   },
   {
    "duration": 240,
    "start_time": "2024-02-26T13:42:25.522Z"
   },
   {
    "duration": 228,
    "start_time": "2024-02-26T13:42:25.763Z"
   },
   {
    "duration": 198,
    "start_time": "2024-02-26T13:42:25.993Z"
   },
   {
    "duration": 265,
    "start_time": "2024-02-26T13:42:26.192Z"
   },
   {
    "duration": 4,
    "start_time": "2024-02-26T13:42:26.459Z"
   },
   {
    "duration": 152,
    "start_time": "2024-02-26T13:42:26.469Z"
   },
   {
    "duration": 119,
    "start_time": "2024-02-26T13:42:26.622Z"
   },
   {
    "duration": 136,
    "start_time": "2024-02-26T13:42:26.743Z"
   },
   {
    "duration": 153,
    "start_time": "2024-02-26T13:42:26.880Z"
   },
   {
    "duration": 150,
    "start_time": "2024-02-26T13:42:27.034Z"
   },
   {
    "duration": 159,
    "start_time": "2024-02-26T13:42:27.185Z"
   },
   {
    "duration": 6,
    "start_time": "2024-02-26T13:42:27.345Z"
   },
   {
    "duration": 760,
    "start_time": "2024-02-26T13:42:27.352Z"
   },
   {
    "duration": 17,
    "start_time": "2024-02-26T13:42:28.113Z"
   },
   {
    "duration": 25,
    "start_time": "2024-02-26T13:42:28.132Z"
   },
   {
    "duration": 227,
    "start_time": "2024-02-26T13:42:28.169Z"
   },
   {
    "duration": 212,
    "start_time": "2024-02-26T13:42:28.400Z"
   },
   {
    "duration": 292,
    "start_time": "2024-02-26T13:42:28.613Z"
   },
   {
    "duration": 231,
    "start_time": "2024-02-26T13:42:28.907Z"
   },
   {
    "duration": 34,
    "start_time": "2024-02-26T13:42:29.139Z"
   },
   {
    "duration": 152,
    "start_time": "2024-02-26T13:42:29.174Z"
   },
   {
    "duration": 15,
    "start_time": "2024-02-26T13:43:19.664Z"
   },
   {
    "duration": 85,
    "start_time": "2024-02-26T13:44:39.643Z"
   },
   {
    "duration": 1394,
    "start_time": "2024-02-28T19:02:25.634Z"
   },
   {
    "duration": 188,
    "start_time": "2024-02-28T19:02:29.629Z"
   },
   {
    "duration": 16,
    "start_time": "2024-02-28T19:02:48.959Z"
   },
   {
    "duration": 1992,
    "start_time": "2024-02-28T19:02:49.861Z"
   },
   {
    "duration": 103,
    "start_time": "2024-02-28T19:05:15.940Z"
   },
   {
    "duration": 59,
    "start_time": "2024-02-28T19:05:32.218Z"
   },
   {
    "duration": 144,
    "start_time": "2024-02-28T19:06:13.630Z"
   },
   {
    "duration": 11,
    "start_time": "2024-02-28T19:06:22.486Z"
   },
   {
    "duration": 12,
    "start_time": "2024-02-28T19:06:36.229Z"
   },
   {
    "duration": 21,
    "start_time": "2024-02-28T19:06:40.709Z"
   },
   {
    "duration": 18,
    "start_time": "2024-02-28T19:08:29.379Z"
   },
   {
    "duration": 15,
    "start_time": "2024-02-28T19:08:35.129Z"
   },
   {
    "duration": 15,
    "start_time": "2024-02-28T19:08:47.517Z"
   },
   {
    "duration": 15,
    "start_time": "2024-02-28T19:08:51.376Z"
   },
   {
    "duration": 16,
    "start_time": "2024-02-28T19:09:01.061Z"
   },
   {
    "duration": 13,
    "start_time": "2024-02-28T19:09:51.529Z"
   },
   {
    "duration": 20,
    "start_time": "2024-02-28T19:10:16.061Z"
   },
   {
    "duration": 16,
    "start_time": "2024-02-28T19:10:38.328Z"
   },
   {
    "duration": 15019,
    "start_time": "2024-02-28T19:44:03.426Z"
   },
   {
    "duration": 63,
    "start_time": "2024-02-28T19:44:45.611Z"
   },
   {
    "duration": 3,
    "start_time": "2024-02-28T19:46:17.013Z"
   },
   {
    "duration": 15351,
    "start_time": "2024-02-28T19:46:48.001Z"
   },
   {
    "duration": 43,
    "start_time": "2024-02-28T19:49:57.233Z"
   },
   {
    "duration": 24,
    "start_time": "2024-02-28T19:50:16.349Z"
   },
   {
    "duration": 26,
    "start_time": "2024-02-28T19:50:25.051Z"
   },
   {
    "duration": 23,
    "start_time": "2024-02-28T19:50:29.681Z"
   },
   {
    "duration": 1667,
    "start_time": "2024-02-28T19:52:09.200Z"
   },
   {
    "duration": 3,
    "start_time": "2024-02-28T19:52:27.951Z"
   },
   {
    "duration": 6,
    "start_time": "2024-02-28T19:53:29.745Z"
   },
   {
    "duration": 21,
    "start_time": "2024-02-28T19:53:41.606Z"
   },
   {
    "duration": 6,
    "start_time": "2024-02-28T19:56:44.611Z"
   },
   {
    "duration": 26,
    "start_time": "2024-02-28T19:58:49.218Z"
   },
   {
    "duration": 16,
    "start_time": "2024-02-28T20:03:09.149Z"
   },
   {
    "duration": 8,
    "start_time": "2024-02-28T20:03:21.723Z"
   },
   {
    "duration": 15,
    "start_time": "2024-02-28T20:03:24.190Z"
   },
   {
    "duration": 5,
    "start_time": "2024-02-28T20:03:56.079Z"
   },
   {
    "duration": 25,
    "start_time": "2024-02-28T20:03:58.745Z"
   },
   {
    "duration": 1841,
    "start_time": "2024-02-28T20:04:04.208Z"
   },
   {
    "duration": 232,
    "start_time": "2024-02-28T20:04:14.353Z"
   },
   {
    "duration": 99,
    "start_time": "2024-02-28T20:04:42.883Z"
   },
   {
    "duration": 113,
    "start_time": "2024-02-28T20:04:50.460Z"
   },
   {
    "duration": 91,
    "start_time": "2024-02-28T20:04:54.832Z"
   },
   {
    "duration": 276,
    "start_time": "2024-02-28T20:06:03.365Z"
   },
   {
    "duration": 217,
    "start_time": "2024-02-28T20:06:21.860Z"
   },
   {
    "duration": 242,
    "start_time": "2024-02-28T20:06:33.263Z"
   },
   {
    "duration": 229,
    "start_time": "2024-02-28T20:07:01.428Z"
   },
   {
    "duration": 228,
    "start_time": "2024-02-28T20:07:06.767Z"
   },
   {
    "duration": 252,
    "start_time": "2024-02-28T20:08:12.040Z"
   },
   {
    "duration": 226,
    "start_time": "2024-02-28T20:08:32.151Z"
   },
   {
    "duration": 477,
    "start_time": "2024-02-28T20:09:28.718Z"
   },
   {
    "duration": 238,
    "start_time": "2024-02-28T20:09:32.803Z"
   },
   {
    "duration": 263,
    "start_time": "2024-02-28T20:09:39.007Z"
   },
   {
    "duration": 228,
    "start_time": "2024-02-28T20:10:40.041Z"
   },
   {
    "duration": 210,
    "start_time": "2024-02-28T20:10:45.096Z"
   },
   {
    "duration": 164,
    "start_time": "2024-02-28T20:11:05.699Z"
   },
   {
    "duration": 149,
    "start_time": "2024-02-28T20:11:36.436Z"
   },
   {
    "duration": 1625,
    "start_time": "2024-02-28T20:11:53.380Z"
   },
   {
    "duration": 256,
    "start_time": "2024-02-28T20:12:00.558Z"
   },
   {
    "duration": 192,
    "start_time": "2024-02-28T20:12:08.226Z"
   },
   {
    "duration": 182,
    "start_time": "2024-02-28T20:12:14.716Z"
   },
   {
    "duration": 181,
    "start_time": "2024-02-28T20:15:33.491Z"
   },
   {
    "duration": 137,
    "start_time": "2024-02-28T20:16:08.873Z"
   },
   {
    "duration": 148,
    "start_time": "2024-02-28T20:16:38.131Z"
   },
   {
    "duration": 192,
    "start_time": "2024-02-28T20:17:13.390Z"
   },
   {
    "duration": 156,
    "start_time": "2024-02-28T20:17:19.173Z"
   },
   {
    "duration": 96,
    "start_time": "2024-02-28T20:18:27.339Z"
   },
   {
    "duration": 95,
    "start_time": "2024-02-28T20:18:42.954Z"
   },
   {
    "duration": 116,
    "start_time": "2024-02-28T20:19:12.015Z"
   },
   {
    "duration": 100,
    "start_time": "2024-02-28T20:19:31.080Z"
   },
   {
    "duration": 4,
    "start_time": "2024-02-28T20:19:42.626Z"
   },
   {
    "duration": 176,
    "start_time": "2024-02-28T20:19:45.637Z"
   },
   {
    "duration": 88,
    "start_time": "2024-02-28T20:19:59.412Z"
   },
   {
    "duration": 10,
    "start_time": "2024-02-28T20:22:20.511Z"
   },
   {
    "duration": 10,
    "start_time": "2024-02-28T20:22:34.289Z"
   },
   {
    "duration": 121,
    "start_time": "2024-02-28T20:22:48.844Z"
   },
   {
    "duration": 410,
    "start_time": "2024-02-28T20:23:29.426Z"
   },
   {
    "duration": 104,
    "start_time": "2024-02-28T20:23:57.243Z"
   },
   {
    "duration": 159,
    "start_time": "2024-02-28T20:24:13.372Z"
   },
   {
    "duration": 9,
    "start_time": "2024-02-28T20:25:19.172Z"
   },
   {
    "duration": 878,
    "start_time": "2024-02-28T20:29:47.825Z"
   },
   {
    "duration": 18,
    "start_time": "2024-02-28T20:29:54.830Z"
   },
   {
    "duration": 230,
    "start_time": "2024-02-28T20:30:05.145Z"
   },
   {
    "duration": 206,
    "start_time": "2024-02-28T20:30:07.683Z"
   },
   {
    "duration": 215,
    "start_time": "2024-02-28T20:30:08.495Z"
   },
   {
    "duration": 225,
    "start_time": "2024-02-28T20:30:12.756Z"
   },
   {
    "duration": 101,
    "start_time": "2024-02-28T20:31:06.410Z"
   },
   {
    "duration": 0,
    "start_time": "2024-02-28T20:32:49.676Z"
   },
   {
    "duration": 0,
    "start_time": "2024-02-28T20:32:49.677Z"
   },
   {
    "duration": 10,
    "start_time": "2024-02-28T20:32:52.735Z"
   },
   {
    "duration": 1673,
    "start_time": "2024-02-28T20:33:34.398Z"
   },
   {
    "duration": 228,
    "start_time": "2024-02-28T20:33:50.321Z"
   },
   {
    "duration": 103,
    "start_time": "2024-02-28T20:34:11.831Z"
   },
   {
    "duration": 222,
    "start_time": "2024-02-28T20:34:15.384Z"
   },
   {
    "duration": 210,
    "start_time": "2024-02-28T20:34:41.045Z"
   },
   {
    "duration": 220,
    "start_time": "2024-02-28T20:34:54.793Z"
   },
   {
    "duration": 8,
    "start_time": "2024-02-28T20:35:07.913Z"
   },
   {
    "duration": 227,
    "start_time": "2024-02-28T20:35:20.874Z"
   },
   {
    "duration": 8,
    "start_time": "2024-02-28T20:35:23.882Z"
   },
   {
    "duration": 8,
    "start_time": "2024-02-28T20:35:46.540Z"
   },
   {
    "duration": 13,
    "start_time": "2024-02-28T20:36:39.160Z"
   },
   {
    "duration": 8,
    "start_time": "2024-02-28T20:37:05.852Z"
   },
   {
    "duration": 1528,
    "start_time": "2024-02-28T20:37:54.376Z"
   },
   {
    "duration": 215,
    "start_time": "2024-02-28T20:38:08.624Z"
   },
   {
    "duration": 129,
    "start_time": "2024-02-28T20:38:56.974Z"
   },
   {
    "duration": 270,
    "start_time": "2024-02-28T20:39:00.319Z"
   },
   {
    "duration": 276,
    "start_time": "2024-02-28T20:39:39.564Z"
   },
   {
    "duration": 270,
    "start_time": "2024-02-28T20:39:44.648Z"
   },
   {
    "duration": 258,
    "start_time": "2024-02-28T20:40:26.177Z"
   },
   {
    "duration": 232,
    "start_time": "2024-02-28T20:43:53.318Z"
   },
   {
    "duration": 232,
    "start_time": "2024-02-28T20:44:30.473Z"
   },
   {
    "duration": 1744,
    "start_time": "2024-02-28T20:45:51.816Z"
   },
   {
    "duration": 17,
    "start_time": "2024-02-28T20:46:02.293Z"
   },
   {
    "duration": 156,
    "start_time": "2024-02-28T20:47:45.002Z"
   },
   {
    "duration": 131,
    "start_time": "2024-02-28T20:48:37.294Z"
   },
   {
    "duration": 154,
    "start_time": "2024-02-28T20:48:48.873Z"
   },
   {
    "duration": 151,
    "start_time": "2024-02-28T20:48:58.269Z"
   },
   {
    "duration": 152,
    "start_time": "2024-02-28T20:49:02.588Z"
   },
   {
    "duration": 148,
    "start_time": "2024-02-28T20:49:24.839Z"
   },
   {
    "duration": 144,
    "start_time": "2024-02-28T20:49:28.596Z"
   },
   {
    "duration": 141,
    "start_time": "2024-02-28T20:49:52.160Z"
   },
   {
    "duration": 17560,
    "start_time": "2024-02-28T20:51:12.911Z"
   },
   {
    "duration": 148,
    "start_time": "2024-02-28T20:52:11.752Z"
   },
   {
    "duration": 153,
    "start_time": "2024-02-28T20:52:23.530Z"
   },
   {
    "duration": 176,
    "start_time": "2024-02-28T20:53:13.501Z"
   },
   {
    "duration": 151,
    "start_time": "2024-02-28T20:53:20.318Z"
   },
   {
    "duration": 185,
    "start_time": "2024-02-28T20:54:00.560Z"
   },
   {
    "duration": 161,
    "start_time": "2024-02-28T20:54:34.513Z"
   },
   {
    "duration": 28,
    "start_time": "2024-02-28T20:54:49.799Z"
   },
   {
    "duration": 36,
    "start_time": "2024-02-28T20:55:56.391Z"
   },
   {
    "duration": 27,
    "start_time": "2024-02-28T20:58:06.839Z"
   },
   {
    "duration": 36,
    "start_time": "2024-02-28T20:58:18.612Z"
   },
   {
    "duration": 35,
    "start_time": "2024-02-28T20:59:14.512Z"
   },
   {
    "duration": 45,
    "start_time": "2024-02-28T20:59:26.393Z"
   },
   {
    "duration": 36,
    "start_time": "2024-02-28T21:00:09.926Z"
   },
   {
    "duration": 44,
    "start_time": "2024-02-28T21:02:18.684Z"
   },
   {
    "duration": 39,
    "start_time": "2024-02-28T21:02:41.240Z"
   },
   {
    "duration": 1140,
    "start_time": "2024-02-29T08:00:34.718Z"
   },
   {
    "duration": 336,
    "start_time": "2024-02-29T08:00:35.860Z"
   },
   {
    "duration": 14,
    "start_time": "2024-02-29T08:00:36.198Z"
   },
   {
    "duration": 1868,
    "start_time": "2024-02-29T08:00:36.214Z"
   },
   {
    "duration": 9,
    "start_time": "2024-02-29T08:00:38.084Z"
   },
   {
    "duration": 77,
    "start_time": "2024-02-29T08:00:38.094Z"
   },
   {
    "duration": 22,
    "start_time": "2024-02-29T08:00:38.172Z"
   },
   {
    "duration": 38,
    "start_time": "2024-02-29T08:00:38.196Z"
   },
   {
    "duration": 13290,
    "start_time": "2024-02-29T08:00:38.236Z"
   },
   {
    "duration": 16,
    "start_time": "2024-02-29T08:00:51.529Z"
   },
   {
    "duration": 82,
    "start_time": "2024-02-29T08:00:51.546Z"
   },
   {
    "duration": 7,
    "start_time": "2024-02-29T08:00:51.630Z"
   },
   {
    "duration": 34,
    "start_time": "2024-02-29T08:00:51.638Z"
   },
   {
    "duration": 5,
    "start_time": "2024-02-29T08:00:51.673Z"
   },
   {
    "duration": 33,
    "start_time": "2024-02-29T08:00:51.680Z"
   },
   {
    "duration": 1537,
    "start_time": "2024-02-29T08:00:51.715Z"
   },
   {
    "duration": 232,
    "start_time": "2024-02-29T08:00:53.253Z"
   },
   {
    "duration": 212,
    "start_time": "2024-02-29T08:00:53.487Z"
   },
   {
    "duration": 210,
    "start_time": "2024-02-29T08:00:53.700Z"
   },
   {
    "duration": 297,
    "start_time": "2024-02-29T08:00:53.911Z"
   },
   {
    "duration": 147,
    "start_time": "2024-02-29T08:00:54.210Z"
   },
   {
    "duration": 4,
    "start_time": "2024-02-29T08:00:54.358Z"
   },
   {
    "duration": 165,
    "start_time": "2024-02-29T08:00:54.364Z"
   },
   {
    "duration": 116,
    "start_time": "2024-02-29T08:00:54.530Z"
   },
   {
    "duration": 129,
    "start_time": "2024-02-29T08:00:54.648Z"
   },
   {
    "duration": 139,
    "start_time": "2024-02-29T08:00:54.778Z"
   },
   {
    "duration": 142,
    "start_time": "2024-02-29T08:00:54.918Z"
   },
   {
    "duration": 139,
    "start_time": "2024-02-29T08:00:55.063Z"
   },
   {
    "duration": 145,
    "start_time": "2024-02-29T08:00:55.204Z"
   },
   {
    "duration": 5,
    "start_time": "2024-02-29T08:00:55.351Z"
   },
   {
    "duration": 52,
    "start_time": "2024-02-29T08:00:55.357Z"
   },
   {
    "duration": 725,
    "start_time": "2024-02-29T08:00:55.410Z"
   },
   {
    "duration": 26,
    "start_time": "2024-02-29T08:00:56.136Z"
   },
   {
    "duration": 21,
    "start_time": "2024-02-29T08:00:56.164Z"
   },
   {
    "duration": 294,
    "start_time": "2024-02-29T08:00:56.186Z"
   },
   {
    "duration": 204,
    "start_time": "2024-02-29T08:00:56.482Z"
   },
   {
    "duration": 196,
    "start_time": "2024-02-29T08:00:56.687Z"
   },
   {
    "duration": 207,
    "start_time": "2024-02-29T08:00:56.885Z"
   },
   {
    "duration": 134,
    "start_time": "2024-02-29T08:00:57.093Z"
   },
   {
    "duration": 145,
    "start_time": "2024-02-29T08:00:57.229Z"
   },
   {
    "duration": 184,
    "start_time": "2024-02-29T08:00:57.376Z"
   },
   {
    "duration": 152,
    "start_time": "2024-02-29T08:00:57.562Z"
   },
   {
    "duration": 36,
    "start_time": "2024-02-29T08:00:57.716Z"
   },
   {
    "duration": 35,
    "start_time": "2024-02-29T08:00:57.754Z"
   },
   {
    "duration": 154,
    "start_time": "2024-02-29T08:00:57.791Z"
   }
  ],
  "colab": {
   "provenance": []
  },
  "kernelspec": {
   "display_name": "Python 3 (ipykernel)",
   "language": "python",
   "name": "python3"
  },
  "language_info": {
   "codemirror_mode": {
    "name": "ipython",
    "version": 3
   },
   "file_extension": ".py",
   "mimetype": "text/x-python",
   "name": "python",
   "nbconvert_exporter": "python",
   "pygments_lexer": "ipython3",
   "version": "3.9.5"
  },
  "toc": {
   "base_numbering": 1,
   "nav_menu": {},
   "number_sections": true,
   "sideBar": true,
   "skip_h1_title": true,
   "title_cell": "Table of Contents",
   "title_sidebar": "Contents",
   "toc_cell": false,
   "toc_position": {
    "height": "calc(100% - 180px)",
    "left": "10px",
    "top": "150px",
    "width": "165px"
   },
   "toc_section_display": true,
   "toc_window_display": true
  }
 },
 "nbformat": 4,
 "nbformat_minor": 1
}
